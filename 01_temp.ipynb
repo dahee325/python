{
 "cells": [
  {
   "cell_type": "code",
   "execution_count": 15,
   "id": "834a5d09-8d0f-453b-99a3-ac19a1d1fe5c",
   "metadata": {},
   "outputs": [],
   "source": [
    "a = '집에'\n",
    "b = '가고싶다.'\n",
    "c = '저녁은'\n",
    "d = '뭐먹지?'"
   ]
  },
  {
   "cell_type": "code",
   "execution_count": 16,
   "id": "a04d9df5-1ae8-475c-ad7b-29091f08555b",
   "metadata": {},
   "outputs": [
    {
     "name": "stdout",
     "output_type": "stream",
     "text": [
      "집에 가고싶다. 저녁은 뭐먹지?\n",
      "집에가고싶다.저녁은뭐먹지?\n",
      "집에 가고싶다. 저녁은 뭐먹지?\n"
     ]
    }
   ],
   "source": [
    "print(a, b, c, d)\n",
    "print(a + b + c + d)\n",
    "print(a + ' ' + b + ' ' + c + ' ' + d)"
   ]
  },
  {
   "cell_type": "code",
   "execution_count": 22,
   "id": "59840910-08e7-4567-95fe-d0a239e16da0",
   "metadata": {},
   "outputs": [
    {
     "name": "stdout",
     "output_type": "stream",
     "text": [
      "홍길동은 10살입니다.\n"
     ]
    }
   ],
   "source": [
    "age = 10\n",
    "b = '홍길동은 {}살입니다.'\n",
    "print(b.format(age))"
   ]
  },
  {
   "cell_type": "code",
   "execution_count": 35,
   "id": "81512fe5-130a-482b-977e-9368297b2ec7",
   "metadata": {},
   "outputs": [],
   "source": [
    "a = -5\n",
    "b = -5"
   ]
  },
  {
   "cell_type": "code",
   "execution_count": 36,
   "id": "821f8d1b-8d60-4b7e-b41d-af4dd23da848",
   "metadata": {},
   "outputs": [
    {
     "name": "stdout",
     "output_type": "stream",
     "text": [
      "True\n"
     ]
    }
   ],
   "source": [
    "print(a is b)"
   ]
  },
  {
   "cell_type": "code",
   "execution_count": 37,
   "id": "6a6ace1d-523e-4532-af15-ec3b6b59ab65",
   "metadata": {},
   "outputs": [
    {
     "name": "stdout",
     "output_type": "stream",
     "text": [
      "6\n",
      "0\n",
      "0\n"
     ]
    }
   ],
   "source": [
    "print(3 and 6)\n",
    "print(0 and 3)\n",
    "print(5 and 0)"
   ]
  },
  {
   "cell_type": "code",
   "execution_count": 38,
   "id": "9c4c6b4c-9982-430d-88b5-47c7fcc193d6",
   "metadata": {},
   "outputs": [
    {
     "name": "stdout",
     "output_type": "stream",
     "text": [
      "8\n"
     ]
    }
   ],
   "source": [
    "print(0 or 8)"
   ]
  },
  {
   "cell_type": "code",
   "execution_count": 54,
   "id": "45498c7b-12d3-481b-88c4-fa78762c6d7a",
   "metadata": {},
   "outputs": [],
   "source": [
    "a = 2\n",
    "b = 3"
   ]
  },
  {
   "cell_type": "code",
   "execution_count": 55,
   "id": "28bbcd9c-9d58-49aa-bfb8-c2e395c2f2e7",
   "metadata": {},
   "outputs": [],
   "source": [
    "a += b\n",
    "a -= b\n",
    "a **= b"
   ]
  },
  {
   "cell_type": "code",
   "execution_count": 56,
   "id": "c5510df6-a864-4512-8d7c-89910da60157",
   "metadata": {},
   "outputs": [
    {
     "data": {
      "text/plain": [
       "8"
      ]
     },
     "execution_count": 56,
     "metadata": {},
     "output_type": "execute_result"
    }
   ],
   "source": [
    "a"
   ]
  },
  {
   "cell_type": "code",
   "execution_count": 77,
   "id": "d35dbdea-6c25-4c3e-b3fc-39ba8da444e6",
   "metadata": {},
   "outputs": [],
   "source": [
    "a = [1, 2, 3]\n",
    "b = [1, 2]"
   ]
  },
  {
   "cell_type": "code",
   "execution_count": 78,
   "id": "2c2275a3-04eb-427d-bd08-f8ae091b2c90",
   "metadata": {},
   "outputs": [
    {
     "name": "stdout",
     "output_type": "stream",
     "text": [
      "[1, 2, 3, 1, 2]\n"
     ]
    },
    {
     "ename": "TypeError",
     "evalue": "unsupported operand type(s) for -: 'list' and 'list'",
     "output_type": "error",
     "traceback": [
      "\u001b[1;31m---------------------------------------------------------------------------\u001b[0m",
      "\u001b[1;31mTypeError\u001b[0m                                 Traceback (most recent call last)",
      "Cell \u001b[1;32mIn[78], line 2\u001b[0m\n\u001b[0;32m      1\u001b[0m \u001b[38;5;28mprint\u001b[39m(a \u001b[38;5;241m+\u001b[39m b)\n\u001b[1;32m----> 2\u001b[0m \u001b[38;5;28mprint\u001b[39m(\u001b[43ma\u001b[49m\u001b[43m \u001b[49m\u001b[38;5;241;43m-\u001b[39;49m\u001b[43m \u001b[49m\u001b[43mb\u001b[49m)\n",
      "\u001b[1;31mTypeError\u001b[0m: unsupported operand type(s) for -: 'list' and 'list'"
     ]
    }
   ],
   "source": [
    "print(a + b)\n",
    "print(a - b)"
   ]
  },
  {
   "cell_type": "code",
   "execution_count": 80,
   "id": "3ff0f6b6-3bb5-48db-8511-5d6cb7a324f6",
   "metadata": {},
   "outputs": [
    {
     "name": "stdout",
     "output_type": "stream",
     "text": [
      "[1, 2, 3, 1, 2, 3]\n"
     ]
    }
   ],
   "source": [
    "print(a * 2)"
   ]
  },
  {
   "cell_type": "code",
   "execution_count": null,
   "id": "6f8f312d-dff9-4891-9df4-a74693ee6e78",
   "metadata": {},
   "outputs": [],
   "source": []
  }
 ],
 "metadata": {
  "kernelspec": {
   "display_name": "Python 3 (ipykernel)",
   "language": "python",
   "name": "python3"
  },
  "language_info": {
   "codemirror_mode": {
    "name": "ipython",
    "version": 3
   },
   "file_extension": ".py",
   "mimetype": "text/x-python",
   "name": "python",
   "nbconvert_exporter": "python",
   "pygments_lexer": "ipython3",
   "version": "3.13.2"
  }
 },
 "nbformat": 4,
 "nbformat_minor": 5
}
