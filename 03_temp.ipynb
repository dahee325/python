{
 "cells": [
  {
   "cell_type": "markdown",
   "id": "d9c35887-6834-4783-852d-a8b7f832f0b8",
   "metadata": {},
   "source": [
    "## 양꼬치"
   ]
  },
  {
   "cell_type": "code",
   "execution_count": 1,
   "id": "e05ed5b2-8852-45c2-85c0-fb3475301e7c",
   "metadata": {},
   "outputs": [
    {
     "name": "stdout",
     "output_type": "stream",
     "text": [
      "124000\n",
      "768000\n"
     ]
    }
   ],
   "source": [
    "# sol1\n",
    "def solution(n, k):\n",
    "    # n : 양꼬치 인분수 / k : 음료수 개수\n",
    "    answer = 0\n",
    "\n",
    "    if n >= 10:\n",
    "        service = n // 10\n",
    "        answer = n * 12000 + (k - service) * 2000\n",
    "    else:\n",
    "        answer = n * 12000 + k * 2000\n",
    "\n",
    "    return answer\n",
    "\n",
    "print(solution(10, 3))\n",
    "print(solution(64, 6))"
   ]
  },
  {
   "cell_type": "code",
   "execution_count": 2,
   "id": "d8f34c4b-e07b-4be5-839d-e51312be8bf5",
   "metadata": {},
   "outputs": [
    {
     "name": "stdout",
     "output_type": "stream",
     "text": [
      "124000\n",
      "768000\n"
     ]
    }
   ],
   "source": [
    "# sol2\n",
    "def solution(n, k):\n",
    "    # n : 양꼬치 인분수 / k : 음료수 개수\n",
    "    answer = 0\n",
    "\n",
    "    #         양꼬치총액    음료수 총액   서비스음료수가격\n",
    "    answer = (n * 12000) + (k * 2000) - (n // 10 * 2000)\n",
    "\n",
    "    return answer\n",
    "\n",
    "print(solution(10, 3))\n",
    "print(solution(64,6))"
   ]
  },
  {
   "cell_type": "markdown",
   "id": "ac368597-b8c5-4c95-a0ad-d91271e4eb47",
   "metadata": {},
   "source": [
    "## 짝수의 합"
   ]
  },
  {
   "cell_type": "code",
   "execution_count": 3,
   "id": "235bf482-ce3a-4643-bf0a-be81b99b1511",
   "metadata": {},
   "outputs": [
    {
     "name": "stdout",
     "output_type": "stream",
     "text": [
      "30\n",
      "6\n"
     ]
    }
   ],
   "source": [
    "# sol1\n",
    "def solution(n):\n",
    "    answer = 0\n",
    "\n",
    "    for i in range(n+1):\n",
    "        if i % 2 == 0:\n",
    "            answer = answer + i\n",
    "            # answer += 1\n",
    "\n",
    "    return answer\n",
    "\n",
    "print(solution(10))\n",
    "print(solution(4))"
   ]
  },
  {
   "cell_type": "code",
   "execution_count": 5,
   "id": "136a3ff6-71ef-4c6b-985a-5a7978a29fce",
   "metadata": {},
   "outputs": [
    {
     "name": "stdout",
     "output_type": "stream",
     "text": [
      "30\n",
      "6\n"
     ]
    }
   ],
   "source": [
    "# sol2\n",
    "def solution(n):\n",
    "    answer = 0\n",
    "\n",
    "    for i in range(2, n+1, 2):\n",
    "        answer += i\n",
    "\n",
    "    return answer\n",
    "\n",
    "print(solution(10))\n",
    "print(solution(4))"
   ]
  },
  {
   "cell_type": "markdown",
   "id": "a99ae9da-4a05-49cb-a77e-7c46c33193a7",
   "metadata": {},
   "source": [
    "## 숫자비교하기"
   ]
  },
  {
   "cell_type": "code",
   "execution_count": 7,
   "id": "a1a116ed-f0f5-42cc-8e66-fbc4af6d1d60",
   "metadata": {},
   "outputs": [
    {
     "name": "stdout",
     "output_type": "stream",
     "text": [
      "-1\n",
      "1\n",
      "-1\n"
     ]
    }
   ],
   "source": [
    "def solution(num1, num2):\n",
    "    answer = 0\n",
    "\n",
    "    if num1 == num2:\n",
    "        answer = 1\n",
    "    else:\n",
    "        answer = -1\n",
    "\n",
    "    return answer\n",
    "\n",
    "print(solution(2, 3))\n",
    "print(solution(11, 11))\n",
    "print(solution(7, 99))"
   ]
  },
  {
   "cell_type": "markdown",
   "id": "7fcd786a-1d8e-4f34-ada5-af973818c0ff",
   "metadata": {},
   "source": [
    "## 배열의 평균값"
   ]
  },
  {
   "cell_type": "code",
   "execution_count": 8,
   "id": "0e6e56da-bd3e-4a4f-963d-048538177228",
   "metadata": {},
   "outputs": [
    {
     "name": "stdout",
     "output_type": "stream",
     "text": [
      "5.5\n",
      "94.0\n"
     ]
    }
   ],
   "source": [
    "# sol1\n",
    "def solution(numbers):\n",
    "    answer = 0\n",
    "\n",
    "    total = 0\n",
    "    i = 0\n",
    "\n",
    "    for number in numbers:\n",
    "        total = total + number\n",
    "        i = i + 1\n",
    "\n",
    "    answer = total / i\n",
    "\n",
    "    return answer\n",
    "\n",
    "print(solution([1, 2, 3, 4, 5, 6, 7, 8, 9, 10]))\n",
    "print(solution([89, 90, 91, 92, 93, 94, 95, 96, 97, 98, 99]))"
   ]
  },
  {
   "cell_type": "code",
   "execution_count": 9,
   "id": "d8997e6b-5360-49ab-a2ed-bc4bc9034f6f",
   "metadata": {},
   "outputs": [
    {
     "name": "stdout",
     "output_type": "stream",
     "text": [
      "5.5\n",
      "94.0\n"
     ]
    }
   ],
   "source": [
    "# sol2\n",
    "def solution(numbers):\n",
    "    answer = 0\n",
    "\n",
    "    answer = sum(numbers) / len(numbers)\n",
    "\n",
    "    return answer\n",
    "print(solution([1, 2, 3, 4, 5, 6, 7, 8, 9, 10]))\n",
    "print(solution([89, 90, 91, 92, 93, 94, 95, 96, 97, 98, 99]))"
   ]
  },
  {
   "cell_type": "markdown",
   "id": "3a4785b2-9c9d-4ae1-af1b-9dfd2e466889",
   "metadata": {},
   "source": [
    "## 두수의 곱"
   ]
  },
  {
   "cell_type": "code",
   "execution_count": 15,
   "id": "842c3847-836a-454b-aeb1-c1bb829de460",
   "metadata": {},
   "outputs": [
    {
     "name": "stdout",
     "output_type": "stream",
     "text": [
      "12\n",
      "513\n"
     ]
    }
   ],
   "source": [
    "def solution(num1, num2):\n",
    "    answer = num1 * num2\n",
    "    return answer\n",
    "\n",
    "print(solution(3, 4))\n",
    "print(solution(27, 19))"
   ]
  },
  {
   "cell_type": "markdown",
   "id": "9328e2c2-5714-4705-914c-dc746e74c1c4",
   "metadata": {},
   "source": [
    "## 두수의 합"
   ]
  },
  {
   "cell_type": "code",
   "execution_count": 18,
   "id": "c15e4d44-f305-48d1-ab52-6cc34c983cfd",
   "metadata": {},
   "outputs": [
    {
     "name": "stdout",
     "output_type": "stream",
     "text": [
      "13\n",
      "401\n"
     ]
    }
   ],
   "source": [
    "# sol1\n",
    "def solution(num1, num2):\n",
    "    answer = num1 + num2\n",
    "    return answer\n",
    "\n",
    "print(solution(5, 8))\n",
    "\n",
    "print(solution(103, 298))"
   ]
  },
  {
   "cell_type": "code",
   "execution_count": 21,
   "id": "a299616c-5720-4400-8a78-6bb7b993e4da",
   "metadata": {},
   "outputs": [
    {
     "name": "stdout",
     "output_type": "stream",
     "text": [
      "8\n",
      "135\n"
     ]
    }
   ],
   "source": [
    "# sol2\n",
    "def solution(numbers):\n",
    "    answer = sum(numbers)\n",
    "    return answer\n",
    "\n",
    "print(solution([3, 5]))\n",
    "print(solution([55, 80]))"
   ]
  },
  {
   "cell_type": "markdown",
   "id": "257f9648-cf89-45f7-93c1-a4483c3494c4",
   "metadata": {},
   "source": [
    "## 두수의 차"
   ]
  },
  {
   "cell_type": "code",
   "execution_count": 22,
   "id": "d883d84d-3915-49c5-a360-6a85d19f0c92",
   "metadata": {},
   "outputs": [
    {
     "name": "stdout",
     "output_type": "stream",
     "text": [
      "-2\n",
      "100\n"
     ]
    }
   ],
   "source": [
    "def solution(num1, num2):\n",
    "    answer = num1 - num2\n",
    "    return answer\n",
    "\n",
    "print(solution(3, 5))\n",
    "print(solution(138, 38))"
   ]
  },
  {
   "cell_type": "markdown",
   "id": "f73ef836-51df-47de-b1ea-7e347915a0ab",
   "metadata": {},
   "source": [
    "## 몫구하기"
   ]
  },
  {
   "cell_type": "code",
   "execution_count": 23,
   "id": "1b96aba7-b7ae-4b84-a947-8b5f6e1c9ae7",
   "metadata": {},
   "outputs": [
    {
     "name": "stdout",
     "output_type": "stream",
     "text": [
      "6\n",
      "36\n"
     ]
    }
   ],
   "source": [
    "def solution(num1, num2):\n",
    "    answer = num1 // num2\n",
    "    return answer\n",
    "\n",
    "print(solution(20, 3))\n",
    "print(solution(184, 5))"
   ]
  },
  {
   "cell_type": "markdown",
   "id": "f992cb91-defd-465e-98ca-f1a08e95de5d",
   "metadata": {},
   "source": [
    "## 나머지구하기"
   ]
  },
  {
   "cell_type": "code",
   "execution_count": 14,
   "id": "3a7f999f-876a-40c4-a9c1-0c417a87b8de",
   "metadata": {},
   "outputs": [
    {
     "name": "stdout",
     "output_type": "stream",
     "text": [
      "1\n",
      "0\n"
     ]
    }
   ],
   "source": [
    "def solution(num1, num2):\n",
    "    answer = num1 % num2\n",
    "    return answer\n",
    "\n",
    "print(solution(3, 2))\n",
    "print(solution(10, 5))"
   ]
  },
  {
   "cell_type": "code",
   "execution_count": null,
   "id": "4c6a733d-985e-49df-ab18-09b9821ec6f5",
   "metadata": {},
   "outputs": [],
   "source": []
  },
  {
   "cell_type": "code",
   "execution_count": null,
   "id": "1c08086a-a0bb-4d8a-842c-051ca1aed40d",
   "metadata": {},
   "outputs": [],
   "source": []
  },
  {
   "cell_type": "code",
   "execution_count": null,
   "id": "249c205b-5b15-4c6c-a183-dcbf8be855cc",
   "metadata": {},
   "outputs": [],
   "source": []
  },
  {
   "cell_type": "code",
   "execution_count": null,
   "id": "c666c541-0ee6-49c3-9905-ca034e660bde",
   "metadata": {},
   "outputs": [],
   "source": []
  }
 ],
 "metadata": {
  "kernelspec": {
   "display_name": "Python 3 (ipykernel)",
   "language": "python",
   "name": "python3"
  },
  "language_info": {
   "codemirror_mode": {
    "name": "ipython",
    "version": 3
   },
   "file_extension": ".py",
   "mimetype": "text/x-python",
   "name": "python",
   "nbconvert_exporter": "python",
   "pygments_lexer": "ipython3",
   "version": "3.13.2"
  }
 },
 "nbformat": 4,
 "nbformat_minor": 5
}
