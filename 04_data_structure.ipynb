{
 "cells": [
  {
   "cell_type": "markdown",
   "id": "25a2d961-3d11-4984-bbfe-88272f64158f",
   "metadata": {},
   "source": [
    "# 자료구조\n",
    "> 여러가지 자료구조가 가지고 있는 메소드(함수) 알아보기"
   ]
  },
  {
   "cell_type": "code",
   "execution_count": 1,
   "id": "a398c6af-7695-4fba-9428-8275853029ae",
   "metadata": {},
   "outputs": [
    {
     "name": "stdout",
     "output_type": "stream",
     "text": [
      "['__add__', '__class__', '__contains__', '__delattr__', '__dir__', '__doc__', '__eq__', '__format__', '__ge__', '__getattribute__', '__getitem__', '__getnewargs__', '__getstate__', '__gt__', '__hash__', '__init__', '__init_subclass__', '__iter__', '__le__', '__len__', '__lt__', '__mod__', '__mul__', '__ne__', '__new__', '__reduce__', '__reduce_ex__', '__repr__', '__rmod__', '__rmul__', '__setattr__', '__sizeof__', '__str__', '__subclasshook__', 'capitalize', 'casefold', 'center', 'count', 'encode', 'endswith', 'expandtabs', 'find', 'format', 'format_map', 'index', 'isalnum', 'isalpha', 'isascii', 'isdecimal', 'isdigit', 'isidentifier', 'islower', 'isnumeric', 'isprintable', 'isspace', 'istitle', 'isupper', 'join', 'ljust', 'lower', 'lstrip', 'maketrans', 'partition', 'removeprefix', 'removesuffix', 'replace', 'rfind', 'rindex', 'rjust', 'rpartition', 'rsplit', 'rstrip', 'split', 'splitlines', 'startswith', 'strip', 'swapcase', 'title', 'translate', 'upper', 'zfill']\n"
     ]
    }
   ],
   "source": [
    "print(dir('hello'))"
   ]
  },
  {
   "cell_type": "markdown",
   "id": "6272003b-dd44-4171-b22a-f6538c8523f6",
   "metadata": {},
   "source": [
    "### 문자열 메소드"
   ]
  },
  {
   "cell_type": "code",
   "execution_count": 2,
   "id": "c48fe347-a175-4788-84a1-e86482fa15a7",
   "metadata": {},
   "outputs": [],
   "source": [
    "a = 'hello my name is yang'"
   ]
  },
  {
   "cell_type": "code",
   "execution_count": 3,
   "id": "42638c94-b09f-411f-af30-7ab3e08ca458",
   "metadata": {},
   "outputs": [
    {
     "name": "stdout",
     "output_type": "stream",
     "text": [
      "hello my name is yang\n"
     ]
    }
   ],
   "source": [
    "print(a)"
   ]
  },
  {
   "cell_type": "code",
   "execution_count": 4,
   "id": "5f7794fc-1ada-473e-9b1c-ea581ef05477",
   "metadata": {},
   "outputs": [
    {
     "ename": "TypeError",
     "evalue": "'str' object does not support item assignment",
     "output_type": "error",
     "traceback": [
      "\u001b[1;31m---------------------------------------------------------------------------\u001b[0m",
      "\u001b[1;31mTypeError\u001b[0m                                 Traceback (most recent call last)",
      "Cell \u001b[1;32mIn[4], line 1\u001b[0m\n\u001b[1;32m----> 1\u001b[0m \u001b[43ma\u001b[49m\u001b[43m[\u001b[49m\u001b[38;5;241;43m0\u001b[39;49m\u001b[43m]\u001b[49m \u001b[38;5;241m=\u001b[39m \u001b[38;5;124m'\u001b[39m\u001b[38;5;124mH\u001b[39m\u001b[38;5;124m'\u001b[39m\n",
      "\u001b[1;31mTypeError\u001b[0m: 'str' object does not support item assignment"
     ]
    }
   ],
   "source": [
    "a[0] = 'H'\n",
    "# str은 immutable(수정이 불가능)"
   ]
  },
  {
   "cell_type": "code",
   "execution_count": 5,
   "id": "158ab963-1559-451a-8362-c1699705f726",
   "metadata": {},
   "outputs": [
    {
     "data": {
      "text/plain": [
       "'Hello my name is yang'"
      ]
     },
     "execution_count": 5,
     "metadata": {},
     "output_type": "execute_result"
    }
   ],
   "source": [
    "# 데이터 안의 첫번재 문자를 대문자로 바꿈\n",
    "a.capitalize()\n",
    "# . : a데이터 안의 를 의미\n",
    "# capitalize()는 함수이므로 return 만 한 거싱고 a의 데이터가 바뀌는 것은 아님"
   ]
  },
  {
   "cell_type": "code",
   "execution_count": 6,
   "id": "96a1a866-45ac-404f-9009-959fe0eba4ac",
   "metadata": {},
   "outputs": [
    {
     "name": "stdout",
     "output_type": "stream",
     "text": [
      "Hello my name is yang\n"
     ]
    }
   ],
   "source": [
    "a = a.capitalize()\n",
    "print(a)"
   ]
  },
  {
   "cell_type": "code",
   "execution_count": 7,
   "id": "876fdf05-c93a-41e2-b31e-bb5e9edbf615",
   "metadata": {},
   "outputs": [
    {
     "data": {
      "text/plain": [
       "'Hello My Name Is Yang'"
      ]
     },
     "execution_count": 7,
     "metadata": {},
     "output_type": "execute_result"
    }
   ],
   "source": [
    "# 문자열의 각 단어의 시작문자를 대문자로 바꿔줌\n",
    "a.title()"
   ]
  },
  {
   "cell_type": "code",
   "execution_count": 9,
   "id": "05e14ed1-f917-4e63-9776-6bce0b9fd1fd",
   "metadata": {},
   "outputs": [
    {
     "data": {
      "text/plain": [
       "'hello my name is yang'"
      ]
     },
     "execution_count": 9,
     "metadata": {},
     "output_type": "execute_result"
    }
   ],
   "source": [
    "# 모든 문자를 소문자로 바꿈\n",
    "a.lower()"
   ]
  },
  {
   "cell_type": "code",
   "execution_count": 10,
   "id": "c310862f-61db-4222-b1b5-2eddb91fca04",
   "metadata": {},
   "outputs": [
    {
     "data": {
      "text/plain": [
       "'HELLO MY NAME IS YANG'"
      ]
     },
     "execution_count": 10,
     "metadata": {},
     "output_type": "execute_result"
    }
   ],
   "source": [
    "# 모든 문자를 대문자로 바꿈\n",
    "a. upper()"
   ]
  },
  {
   "cell_type": "code",
   "execution_count": 12,
   "id": "cf505d1b-abe8-4a77-9909-5484d79c5567",
   "metadata": {},
   "outputs": [
    {
     "data": {
      "text/plain": [
       "'my!name!is'"
      ]
     },
     "execution_count": 12,
     "metadata": {},
     "output_type": "execute_result"
    }
   ],
   "source": [
    "# `'a'.join(변수이름)` : 변수 안의 데이터들 사이에 a를 넣어 합친다\n",
    "my_list = ['my', 'name', 'is']\n",
    "'!'.join(my_list)"
   ]
  },
  {
   "cell_type": "code",
   "execution_count": 13,
   "id": "15ed0102-ef89-45dd-ae5b-371d85e4f3db",
   "metadata": {},
   "outputs": [
    {
     "data": {
      "text/plain": [
       "'배?고?프?다'"
      ]
     },
     "execution_count": 13,
     "metadata": {},
     "output_type": "execute_result"
    }
   ],
   "source": [
    "'?'.join('배고프다')\n",
    "# 위의 my_list와 '배고프다'모두 시퀀스 데이터"
   ]
  },
  {
   "cell_type": "code",
   "execution_count": 16,
   "id": "39b8bc70-93af-4bd9-8076-2ceca6218f26",
   "metadata": {},
   "outputs": [
    {
     "data": {
      "text/plain": [
       "'helllo'"
      ]
     },
     "execution_count": 16,
     "metadata": {},
     "output_type": "execute_result"
    }
   ],
   "source": [
    "# 좌우의 여백을 지워줌 \n",
    "a = '          helllo     \\n'\n",
    "a.strip()\n",
    "# `a.strip(char=' ')` 가 기본값으로 들어가있음"
   ]
  },
  {
   "cell_type": "code",
   "execution_count": 17,
   "id": "880b4851-b400-47e5-9036-f7bcb03bf801",
   "metadata": {},
   "outputs": [
    {
     "data": {
      "text/plain": [
       "'hello??????????'"
      ]
     },
     "execution_count": 17,
     "metadata": {},
     "output_type": "execute_result"
    }
   ],
   "source": [
    "# `변수이름.strip('a')` : 변수 데이터 안의 문자 a를 지워주는 함수\n",
    "a = '!!!!!!!!!!hello??????????'\n",
    "a.strip('!')"
   ]
  },
  {
   "cell_type": "code",
   "execution_count": 19,
   "id": "e50b3ce5-1f38-4ce8-83a3-7d311345c5e9",
   "metadata": {},
   "outputs": [
    {
     "data": {
      "text/plain": [
       "'----------hello'"
      ]
     },
     "execution_count": 19,
     "metadata": {},
     "output_type": "execute_result"
    }
   ],
   "source": [
    "a = '----------hello--------'\n",
    "a.lstrip('-') # 왼쪽의 문자 '-'를 제거\n",
    "a.rstrip('-') # 오른쪽의 문자 '-'를 제거"
   ]
  },
  {
   "cell_type": "code",
   "execution_count": 22,
   "id": "a0af9d1c-240d-4169-91fe-2b9ceb63b329",
   "metadata": {},
   "outputs": [
    {
     "data": {
      "text/plain": [
       "'w!!!oooooow'"
      ]
     },
     "execution_count": 22,
     "metadata": {},
     "output_type": "execute_result"
    }
   ],
   "source": [
    "a = 'wooooooooow'\n",
    "a.replace('w', 'a') # 데이터안의 'w'를 'a'로 비꿈\n",
    "a.replace('o', '!', 3) # 데이터 안의 문자 'o' 중 처음부터 3개만 '!'로 바꿈 "
   ]
  },
  {
   "cell_type": "code",
   "execution_count": 26,
   "id": "78f68976-2ac5-49d0-9603-61769e6dbbdb",
   "metadata": {},
   "outputs": [
    {
     "data": {
      "text/plain": [
       "-1"
      ]
     },
     "execution_count": 26,
     "metadata": {},
     "output_type": "execute_result"
    }
   ],
   "source": [
    "# 문자의 인덱스 번호 출력\n",
    "a = 'apple'\n",
    "a.find('a') # => 0\n",
    "a.find('l') # => 3\n",
    "a.find('p') # => 1, 문자가 중복될 경우 첫번째 데이터의 인덱스 번호만 출력\n",
    "a.find('z') # => -1, 없는 문자를 찾을 경우 -1 출력(없음을 의미)"
   ]
  },
  {
   "cell_type": "code",
   "execution_count": 32,
   "id": "0d2a6b58-3fc9-41c3-a095-341fab84a4bc",
   "metadata": {},
   "outputs": [
    {
     "ename": "ValueError",
     "evalue": "substring not found",
     "output_type": "error",
     "traceback": [
      "\u001b[1;31m---------------------------------------------------------------------------\u001b[0m",
      "\u001b[1;31mValueError\u001b[0m                                Traceback (most recent call last)",
      "Cell \u001b[1;32mIn[32], line 5\u001b[0m\n\u001b[0;32m      3\u001b[0m a\u001b[38;5;241m.\u001b[39mindex(\u001b[38;5;124m'\u001b[39m\u001b[38;5;124ml\u001b[39m\u001b[38;5;124m'\u001b[39m)\n\u001b[0;32m      4\u001b[0m a\u001b[38;5;241m.\u001b[39mindex(\u001b[38;5;124m'\u001b[39m\u001b[38;5;124mp\u001b[39m\u001b[38;5;124m'\u001b[39m)\n\u001b[1;32m----> 5\u001b[0m \u001b[43ma\u001b[49m\u001b[38;5;241;43m.\u001b[39;49m\u001b[43mindex\u001b[49m\u001b[43m(\u001b[49m\u001b[38;5;124;43m'\u001b[39;49m\u001b[38;5;124;43mz\u001b[39;49m\u001b[38;5;124;43m'\u001b[39;49m\u001b[43m)\u001b[49m\n",
      "\u001b[1;31mValueError\u001b[0m: substring not found"
     ]
    }
   ],
   "source": [
    "a = 'apple'\n",
    "a.index('a')\n",
    "a.index('l')\n",
    "a.index('p')\n",
    "a.index('z')\n",
    "# `find()`와 같은 의미의 함수지만 없는 문자를 찾으면 에러남"
   ]
  },
  {
   "cell_type": "code",
   "execution_count": 33,
   "id": "5447a9c0-29bc-4ff1-84e3-7969913cf349",
   "metadata": {},
   "outputs": [
    {
     "data": {
      "text/plain": [
       "['my', 'name', 'is', 'yang']"
      ]
     },
     "execution_count": 33,
     "metadata": {},
     "output_type": "execute_result"
    }
   ],
   "source": [
    "a = 'my name is yang'\n",
    "a.split() # 띄어쓰기를 기준으로 잘라서 출력, 결과를 리스트로 만들어줌"
   ]
  },
  {
   "cell_type": "code",
   "execution_count": 36,
   "id": "4f9cdfd0-d027-4626-a8ad-2db0bd7d79f1",
   "metadata": {},
   "outputs": [
    {
     "data": {
      "text/plain": [
       "['my', 'name', 'is?yang']"
      ]
     },
     "execution_count": 36,
     "metadata": {},
     "output_type": "execute_result"
    }
   ],
   "source": [
    "a = 'my!name!is?yang'\n",
    "a.split('!') # 느낌표를 기준으로 잘라서 출력"
   ]
  },
  {
   "cell_type": "code",
   "execution_count": 37,
   "id": "1f374a1e-6ba3-4bd9-abfe-d1b70f350fc9",
   "metadata": {},
   "outputs": [
    {
     "data": {
      "text/plain": [
       "8"
      ]
     },
     "execution_count": 37,
     "metadata": {},
     "output_type": "execute_result"
    }
   ],
   "source": [
    "a = 'woooooooow'\n",
    "a.count('o') # 'o'의 개수를 셈"
   ]
  },
  {
   "cell_type": "markdown",
   "id": "1983e447-b725-4b41-8c55-4747d8ef6ff0",
   "metadata": {},
   "source": [
    "### 리스트 메소드"
   ]
  },
  {
   "cell_type": "code",
   "execution_count": 44,
   "id": "1b031234-433e-4124-a830-27d0465db47e",
   "metadata": {},
   "outputs": [],
   "source": [
    "numbers = [ 2, 6, 1, 4, 8, 3, 2, 8]"
   ]
  },
  {
   "cell_type": "code",
   "execution_count": 45,
   "id": "ddf6503f-37d4-4a90-93f9-5987099d3f5e",
   "metadata": {},
   "outputs": [
    {
     "name": "stdout",
     "output_type": "stream",
     "text": [
      "[2, 6, 1, 4, 8, 3, 2, 8, 10]\n"
     ]
    }
   ],
   "source": [
    "numbers.append(10) # 뒤에 데이터 추가\n",
    "print(numbers)"
   ]
  },
  {
   "cell_type": "code",
   "execution_count": 46,
   "id": "a12f9cf1-e1c9-42bc-9fb2-e365444a84ea",
   "metadata": {},
   "outputs": [],
   "source": [
    "a = [99, 100]"
   ]
  },
  {
   "cell_type": "code",
   "execution_count": 48,
   "id": "9c8f1fa7-5ab7-446e-9c32-7ecf5ef1d550",
   "metadata": {},
   "outputs": [
    {
     "name": "stdout",
     "output_type": "stream",
     "text": [
      "[2, 6, 1, 4, 8, 3, 2, 8, 10, 99, 100, 99, 100]\n"
     ]
    }
   ],
   "source": [
    "numbers.extend(a) # 여러개 데이터를 추가, numbers + a\n",
    "print(numbers)"
   ]
  },
  {
   "cell_type": "code",
   "execution_count": 51,
   "id": "63f3de0d-537b-4ba5-9cef-86709fe326bb",
   "metadata": {},
   "outputs": [
    {
     "name": "stdout",
     "output_type": "stream",
     "text": [
      "[2, 6, 1, 5, 5, 4, 8, 3, 2, 8, 10, 99, 100, 99, 100]\n"
     ]
    }
   ],
   "source": [
    "# insert(위치, 값) : # 리스트에 위치를 지정해서 넣을 때\n",
    "numbers.insert(3, 5) \n",
    "print(numbers)"
   ]
  },
  {
   "cell_type": "code",
   "execution_count": 54,
   "id": "43b85d24-bec0-45f6-a53d-9f2a84fac6da",
   "metadata": {},
   "outputs": [
    {
     "ename": "ValueError",
     "evalue": "list.remove(x): x not in list",
     "output_type": "error",
     "traceback": [
      "\u001b[1;31m---------------------------------------------------------------------------\u001b[0m",
      "\u001b[1;31mValueError\u001b[0m                                Traceback (most recent call last)",
      "Cell \u001b[1;32mIn[54], line 1\u001b[0m\n\u001b[1;32m----> 1\u001b[0m \u001b[43mnumbers\u001b[49m\u001b[38;5;241;43m.\u001b[39;49m\u001b[43mremove\u001b[49m\u001b[43m(\u001b[49m\u001b[38;5;241;43m8\u001b[39;49m\u001b[43m)\u001b[49m \u001b[38;5;66;03m# 값 제거, 해당 값이 여러개일 경우 앞에서부터 값 제거\u001b[39;00m\n\u001b[0;32m      2\u001b[0m \u001b[38;5;28mprint\u001b[39m(numbers)\n",
      "\u001b[1;31mValueError\u001b[0m: list.remove(x): x not in list"
     ]
    }
   ],
   "source": [
    "# 값 제거, 해당 값이 여러개일 경우 첫번째에 위치해있는 값 제거\n",
    "# 여러개일 경우 여러번 실행하면 제거 가능, 값이 더이상 없으면 에러가 남\n",
    "numbers.remove(8)\n",
    "print(numbers)"
   ]
  },
  {
   "cell_type": "code",
   "execution_count": 55,
   "id": "c3c94295-e733-45e2-83ec-db5ec44bdb01",
   "metadata": {},
   "outputs": [
    {
     "name": "stdout",
     "output_type": "stream",
     "text": [
      "[2, 6, 1, 5, 5, 4, 3, 2, 10, 99, 100, 99]\n"
     ]
    }
   ],
   "source": [
    "numbers.pop() # 맨 마지막 값 제거\n",
    "print(numbers)"
   ]
  },
  {
   "cell_type": "code",
   "execution_count": 57,
   "id": "588fd46d-53a7-48a8-b7ea-070f64ea0f18",
   "metadata": {},
   "outputs": [
    {
     "name": "stdout",
     "output_type": "stream",
     "text": [
      "[1, 5, 5, 4, 3, 2, 10, 99, 100, 99]\n"
     ]
    }
   ],
   "source": [
    "# stack : 후입선출, q : 선입선출\n",
    "numbers.pop(0) # 리스트의 첫번째 값 제거\n",
    "print(numbers)"
   ]
  },
  {
   "cell_type": "code",
   "execution_count": 58,
   "id": "27af7ea1-b8f2-49b4-97ae-cca925938b21",
   "metadata": {},
   "outputs": [
    {
     "name": "stdout",
     "output_type": "stream",
     "text": [
      "[1, 5, 5, 3, 2, 10, 99, 100, 99]\n"
     ]
    }
   ],
   "source": [
    "numbers.pop(3)\n",
    "print(numbers)"
   ]
  },
  {
   "cell_type": "code",
   "execution_count": 59,
   "id": "7ad3f945-2227-415b-b2d1-bf510803b796",
   "metadata": {},
   "outputs": [
    {
     "name": "stdout",
     "output_type": "stream",
     "text": [
      "[1, 2, 3, 5, 5, 10, 99, 99, 100]\n"
     ]
    }
   ],
   "source": [
    "numbers.sort() # 오름차순 정렬\n",
    "print(numbers)"
   ]
  },
  {
   "cell_type": "code",
   "execution_count": 61,
   "id": "f312c49e-678c-417b-8f37-11bbd7550ce1",
   "metadata": {},
   "outputs": [
    {
     "name": "stdout",
     "output_type": "stream",
     "text": [
      "[100, 99, 99, 10, 5, 5, 3, 2, 1]\n"
     ]
    }
   ],
   "source": [
    "numbers.sort(reverse=True) # 내림차순 정렬, 원본을 바꿈\n",
    "print(numbers)"
   ]
  },
  {
   "cell_type": "code",
   "execution_count": 65,
   "id": "15e60396-bece-4bf4-8bae-7ab371f4e4eb",
   "metadata": {},
   "outputs": [
    {
     "name": "stdout",
     "output_type": "stream",
     "text": [
      "[1, 2, 3, 5, 7, 8]\n",
      "[5, 3, 2, 7, 8, 1]\n"
     ]
    }
   ],
   "source": [
    "# sorted는 원본을 바꾸지 않고 결과만 출력\n",
    "a = [5, 3, 2, 7, 8, 1]\n",
    "print(sorted(a))\n",
    "print(a)"
   ]
  },
  {
   "cell_type": "code",
   "execution_count": 67,
   "id": "6c8b399d-7265-439e-afec-44312cdf6939",
   "metadata": {},
   "outputs": [
    {
     "name": "stdout",
     "output_type": "stream",
     "text": [
      "['a', 'b', 'z', '나', '하']\n"
     ]
    }
   ],
   "source": [
    "my_list = ['a', '하', '나', 'b', 'z']\n",
    "my_list.sort()\n",
    "print(my_list)"
   ]
  },
  {
   "cell_type": "code",
   "execution_count": 69,
   "id": "74d191b1-8d5f-4ddd-b0d2-10b2cc886a46",
   "metadata": {},
   "outputs": [
    {
     "name": "stdout",
     "output_type": "stream",
     "text": [
      "[100, 99, 99, 10, 5, 5, 3, 2, 1]\n",
      "[1, 2, 3, 5, 5, 10, 99, 99, 100]\n"
     ]
    }
   ],
   "source": [
    "print(numbers)\n",
    "numbers.reverse() # 데이터의 순서를 뒤집음, 정렬이 되어있지 않아도 순서롤 뒤집어서 출력\n",
    "print(numbers)"
   ]
  },
  {
   "cell_type": "code",
   "execution_count": 70,
   "id": "bde4109f-b92c-4303-bb43-fdb919c4e602",
   "metadata": {},
   "outputs": [
    {
     "data": {
      "text/plain": [
       "2"
      ]
     },
     "execution_count": 70,
     "metadata": {},
     "output_type": "execute_result"
    }
   ],
   "source": [
    "numbers.count(99)"
   ]
  },
  {
   "cell_type": "markdown",
   "id": "350b4f96-7d0f-4e03-88d2-c3b0cf31fada",
   "metadata": {},
   "source": [
    "### list copy"
   ]
  },
  {
   "cell_type": "code",
   "execution_count": 71,
   "id": "48500dde-54e5-4af5-98ee-b8b0b5e64d94",
   "metadata": {},
   "outputs": [],
   "source": [
    "origin_list = [1, 2, 3]\n",
    "copy_list = origin_list"
   ]
  },
  {
   "cell_type": "code",
   "execution_count": 72,
   "id": "ebafa6ca-bcec-4fb8-9549-f5e4066d8e23",
   "metadata": {},
   "outputs": [
    {
     "name": "stdout",
     "output_type": "stream",
     "text": [
      "[1, 2, 3]\n",
      "[1, 2, 3]\n"
     ]
    }
   ],
   "source": [
    "print(origin_list)\n",
    "print(copy_list)"
   ]
  },
  {
   "cell_type": "code",
   "execution_count": 73,
   "id": "15251a01-78c7-493c-9c01-d06acf4d7a91",
   "metadata": {},
   "outputs": [
    {
     "name": "stdout",
     "output_type": "stream",
     "text": [
      "[100, 2, 3]\n",
      "[100, 2, 3]\n"
     ]
    }
   ],
   "source": [
    "copy_list[0] = 100\n",
    "print(origin_list)\n",
    "print(copy_list)"
   ]
  },
  {
   "cell_type": "code",
   "execution_count": 75,
   "id": "3e060a9c-8dd0-4287-b7be-57fc8c7b864d",
   "metadata": {},
   "outputs": [
    {
     "name": "stdout",
     "output_type": "stream",
     "text": [
      "[1, 2, 3]\n",
      "[100, 2, 3]\n"
     ]
    }
   ],
   "source": [
    "origin_list = [1, 2, 3]\n",
    "copy_list = origin_list[:] # [:]의 의미는 슬라이싱을 해달라는 의미, 처음부터 끝까지 \n",
    "\n",
    "copy_list[0] = 100\n",
    "\n",
    "print(origin_list)\n",
    "print(copy_list)"
   ]
  },
  {
   "cell_type": "code",
   "execution_count": 78,
   "id": "846b4661-21ef-4093-a48c-a136885ef821",
   "metadata": {},
   "outputs": [
    {
     "name": "stdout",
     "output_type": "stream",
     "text": [
      "[1, 2, [10, -10]]\n",
      "[100, 2, [10, -10]]\n"
     ]
    }
   ],
   "source": [
    "o_l = [1, 2, [10, 11]]\n",
    "c_l = o_l[:] # 이중 리스트의 경우 슬라이싱을 한번 더 사용할 수 없음\n",
    "\n",
    "c_l[0] = 100\n",
    "c_l[2][0] = -10\n",
    "\n",
    "print(o_l)\n",
    "print(c_l)"
   ]
  },
  {
   "cell_type": "code",
   "execution_count": 79,
   "id": "80d444a2-3d9e-468e-8d65-d9057363f2bb",
   "metadata": {},
   "outputs": [
    {
     "name": "stdout",
     "output_type": "stream",
     "text": [
      "[1, 2, [10, 11]]\n",
      "[100, 2, [10, -11]]\n"
     ]
    }
   ],
   "source": [
    "# import 추가하다\n",
    "import copy\n",
    "\n",
    "o_l = [1, 2, [10, 11]]\n",
    "c_l = copy.deepcopy(o_l) # copy안의 deepcopy 사용\n",
    "\n",
    "c_l[0] = 100\n",
    "c_l[2][1] = -11\n",
    "\n",
    "print(o_l)\n",
    "print(c_l)"
   ]
  },
  {
   "cell_type": "markdown",
   "id": "9c6514b9-cbe3-4bfe-be04-4c08946251ca",
   "metadata": {},
   "source": [
    "### list comprehension"
   ]
  },
  {
   "cell_type": "code",
   "execution_count": 80,
   "id": "28eeb96b-3239-49bd-b74b-4887bb27bff8",
   "metadata": {},
   "outputs": [
    {
     "name": "stdout",
     "output_type": "stream",
     "text": [
      "[1, 2, 3, 4, 5, 6, 7, 8, 9, 10]\n"
     ]
    }
   ],
   "source": [
    "numbers = list(range(1, 11))\n",
    "print(numbers)"
   ]
  },
  {
   "cell_type": "code",
   "execution_count": 82,
   "id": "cc476005-6744-41e7-b0bb-3b2c68374621",
   "metadata": {},
   "outputs": [
    {
     "name": "stdout",
     "output_type": "stream",
     "text": [
      "[1, 8, 27, 64, 125, 216, 343, 512, 729, 1000]\n"
     ]
    }
   ],
   "source": [
    "result = []\n",
    "\n",
    "for number in numbers:\n",
    "    temp = number ** 3\n",
    "    result.append(temp)\n",
    "\n",
    "print(result)"
   ]
  },
  {
   "cell_type": "code",
   "execution_count": 84,
   "id": "9b82e548-c662-4490-a0b7-341bfd3b2001",
   "metadata": {},
   "outputs": [
    {
     "name": "stdout",
     "output_type": "stream",
     "text": [
      "[1, 8, 27, 64, 125, 216, 343, 512, 729, 1000]\n"
     ]
    }
   ],
   "source": [
    "result = [number ** 3 for number in numbers]\n",
    "# result = [number1 ** 3, number2 * 3, number3 ** 3, ...]\n",
    "print(result)"
   ]
  },
  {
   "cell_type": "code",
   "execution_count": 86,
   "id": "d6e5ef4a-772c-42c9-a3f2-c9f199ddb81a",
   "metadata": {},
   "outputs": [
    {
     "name": "stdout",
     "output_type": "stream",
     "text": [
      "[2, 4, 6, 8, 10, 12, 14, 16, 18, 20, 22, 24, 26, 28, 30]\n"
     ]
    }
   ],
   "source": [
    "# 짝수만 고르기\n",
    "numbers = list(range(1, 31))\n",
    "result = []\n",
    "\n",
    "for number in numbers:\n",
    "    if number % 2 == 0:\n",
    "        result.append(number)\n",
    "\n",
    "print(result)"
   ]
  },
  {
   "cell_type": "code",
   "execution_count": 90,
   "id": "31af0712-f0e5-43a8-8f98-06268f50b02c",
   "metadata": {},
   "outputs": [
    {
     "name": "stdout",
     "output_type": "stream",
     "text": [
      "[4, 8, 12, 16, 20, 24, 28, 32, 36, 40, 44, 48, 52, 56, 60]\n"
     ]
    }
   ],
   "source": [
    "numbers = list(range(1, 31))\n",
    "result = [number * 2 for number in numbers if number % 2 == 0]\n",
    "print(result)\n",
    "# for문 -> if문 -> 결과값(number) 출력"
   ]
  },
  {
   "cell_type": "code",
   "execution_count": 115,
   "id": "b613290d-7ff0-473a-9b32-e32533b9ef9a",
   "metadata": {},
   "outputs": [],
   "source": [
    "# 연습문제 - 모음제거\n",
    "words = 'my name is hong'\n",
    "\n",
    "# => my nm s hng"
   ]
  },
  {
   "cell_type": "code",
   "execution_count": 126,
   "id": "ead6b67d-051b-4fa9-85d4-d7b8917cc30e",
   "metadata": {},
   "outputs": [
    {
     "name": "stdout",
     "output_type": "stream",
     "text": [
      "['m', 'y', ' ', 'n', 'm', ' ', 's', ' ', 'h', 'n', 'g']\n"
     ]
    }
   ],
   "source": [
    "# 1. for/if문 \n",
    "a = ['a', 'e', 'i', 'o', 'u']\n",
    "result = []\n",
    "\n",
    "for word in words:\n",
    "    if word not in a:\n",
    "        result.append(word)\n",
    "        ''.join(result)\n",
    "        \n",
    "print(result)"
   ]
  },
  {
   "cell_type": "code",
   "execution_count": 130,
   "id": "39bf120a-eca3-466f-b7a0-d31125f80308",
   "metadata": {},
   "outputs": [
    {
     "name": "stdout",
     "output_type": "stream",
     "text": [
      "['m', 'y', ' ', 'n', 'm', ' ', 's', ' ', 'h', 'n', 'g']\n",
      "my nm s hng\n"
     ]
    }
   ],
   "source": [
    "# sol1\n",
    "vowels = ['a', 'e', 'i', 'o', 'u']\n",
    "result = []\n",
    "\n",
    "for char in words:\n",
    "    # 모음인 경우\n",
    "    if char in vowels:\n",
    "        pass\n",
    "    # 자음인 경우\n",
    "    else:\n",
    "        result.append(char)\n",
    "\n",
    "print(result)\n",
    "print(''.join(result))"
   ]
  },
  {
   "cell_type": "code",
   "execution_count": 134,
   "id": "d763015d-678e-4ed5-b0eb-19996cec0396",
   "metadata": {},
   "outputs": [
    {
     "name": "stdout",
     "output_type": "stream",
     "text": [
      "['m', 'y', ' ', 'n', 'm', ' ', 's', ' ', 'h', 'n', 'g']\n",
      "my nm s hng\n"
     ]
    }
   ],
   "source": [
    "# sol2\n",
    "vowels = ['a', 'e', 'i', 'o', 'u']\n",
    "result = []\n",
    "\n",
    "for char in words:\n",
    "    # 모음이 아닌 경우(자음인 경우)\n",
    "    if char not in vowels:\n",
    "        result.append(char)\n",
    "        \n",
    "print(result)\n",
    "print(''.join(result))"
   ]
  },
  {
   "cell_type": "code",
   "execution_count": 137,
   "id": "1ef8710c-2f60-46da-b771-195109016dac",
   "metadata": {},
   "outputs": [
    {
     "name": "stdout",
     "output_type": "stream",
     "text": [
      "['m', 'y', ' ', 'n', 'm', ' ', 's', ' ', 'h', 'n', 'g']\n",
      "my nm s hng\n"
     ]
    }
   ],
   "source": [
    "# sol3\n",
    "# vowels = 'aeiou'\n",
    "result = []\n",
    "\n",
    "for char in words:\n",
    "    if char not in 'aeiou':\n",
    "        result.append(char)\n",
    "\n",
    "print(result)\n",
    "print(''.join(result))"
   ]
  },
  {
   "cell_type": "code",
   "execution_count": 129,
   "id": "259d5939-fc4e-4206-9d8d-1d4343ada0b8",
   "metadata": {},
   "outputs": [
    {
     "name": "stdout",
     "output_type": "stream",
     "text": [
      "['m', 'y', ' ', 'n', 'm', ' ', 's', ' ', 'h', 'n', 'g']\n",
      "my nm s hng\n"
     ]
    }
   ],
   "source": [
    "# 2. list comprehension\n",
    "a = ['a', 'e', 'i', 'o', 'u']\n",
    "result = [word for word in words if word not in a]\n",
    "print(result)\n",
    "print(''.join(result))"
   ]
  },
  {
   "cell_type": "code",
   "execution_count": 140,
   "id": "44690c57-97e4-4e52-9792-52dd1e4cd841",
   "metadata": {},
   "outputs": [
    {
     "name": "stdout",
     "output_type": "stream",
     "text": [
      "['m', 'y', ' ', 'n', 'm', ' ', 's', ' ', 'h', 'n', 'g']\n",
      "my nm s hng\n"
     ]
    }
   ],
   "source": [
    "# sol\n",
    "vowels = 'aeiou'\n",
    "result = [char for char in words if char not in vowels]\n",
    "print(result)\n",
    "print(''.join(result))\n",
    "\n",
    "# `''.join([char for char in words if char not in vowels])` 로 줄일 수 있지만 해석만 할 줄 알면 됨"
   ]
  },
  {
   "cell_type": "code",
   "execution_count": 142,
   "id": "15110aac-47ed-4a78-be36-7ce7aa98f419",
   "metadata": {},
   "outputs": [
    {
     "name": "stdout",
     "output_type": "stream",
     "text": [
      "my nm s hng\n"
     ]
    }
   ],
   "source": [
    "# 3. replace 메소드 - 모음에 해당하는 문자를 ''으로 바꾸기\n",
    "vowels = 'aeiou'\n",
    "\n",
    "for char in vowels:\n",
    "    words = words.replace(char, '') # words 안의 char 데이터들을 ''으로 바꿔주세요, 원본이 수정되지 않으므로 재할당해야함\n",
    "\n",
    "print(words)"
   ]
  }
 ],
 "metadata": {
  "kernelspec": {
   "display_name": "Python 3 (ipykernel)",
   "language": "python",
   "name": "python3"
  },
  "language_info": {
   "codemirror_mode": {
    "name": "ipython",
    "version": 3
   },
   "file_extension": ".py",
   "mimetype": "text/x-python",
   "name": "python",
   "nbconvert_exporter": "python",
   "pygments_lexer": "ipython3",
   "version": "3.13.2"
  }
 },
 "nbformat": 4,
 "nbformat_minor": 5
}
