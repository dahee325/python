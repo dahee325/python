{
 "cells": [
  {
   "cell_type": "markdown",
   "id": "25a2d961-3d11-4984-bbfe-88272f64158f",
   "metadata": {},
   "source": [
    "# 자료구조\n",
    "> 여러가지 자료구조가 가지고 있는 메소드(함수) 알아보기"
   ]
  },
  {
   "cell_type": "code",
   "execution_count": 1,
   "id": "a398c6af-7695-4fba-9428-8275853029ae",
   "metadata": {},
   "outputs": [
    {
     "name": "stdout",
     "output_type": "stream",
     "text": [
      "['__add__', '__class__', '__contains__', '__delattr__', '__dir__', '__doc__', '__eq__', '__format__', '__ge__', '__getattribute__', '__getitem__', '__getnewargs__', '__getstate__', '__gt__', '__hash__', '__init__', '__init_subclass__', '__iter__', '__le__', '__len__', '__lt__', '__mod__', '__mul__', '__ne__', '__new__', '__reduce__', '__reduce_ex__', '__repr__', '__rmod__', '__rmul__', '__setattr__', '__sizeof__', '__str__', '__subclasshook__', 'capitalize', 'casefold', 'center', 'count', 'encode', 'endswith', 'expandtabs', 'find', 'format', 'format_map', 'index', 'isalnum', 'isalpha', 'isascii', 'isdecimal', 'isdigit', 'isidentifier', 'islower', 'isnumeric', 'isprintable', 'isspace', 'istitle', 'isupper', 'join', 'ljust', 'lower', 'lstrip', 'maketrans', 'partition', 'removeprefix', 'removesuffix', 'replace', 'rfind', 'rindex', 'rjust', 'rpartition', 'rsplit', 'rstrip', 'split', 'splitlines', 'startswith', 'strip', 'swapcase', 'title', 'translate', 'upper', 'zfill']\n"
     ]
    }
   ],
   "source": [
    "print(dir('hello'))"
   ]
  },
  {
   "cell_type": "markdown",
   "id": "6272003b-dd44-4171-b22a-f6538c8523f6",
   "metadata": {},
   "source": [
    "## 문자열 메소드"
   ]
  },
  {
   "cell_type": "code",
   "execution_count": 2,
   "id": "c48fe347-a175-4788-84a1-e86482fa15a7",
   "metadata": {},
   "outputs": [],
   "source": [
    "a = 'hello my name is yang'"
   ]
  },
  {
   "cell_type": "code",
   "execution_count": 3,
   "id": "42638c94-b09f-411f-af30-7ab3e08ca458",
   "metadata": {},
   "outputs": [
    {
     "name": "stdout",
     "output_type": "stream",
     "text": [
      "hello my name is yang\n"
     ]
    }
   ],
   "source": [
    "print(a)"
   ]
  },
  {
   "cell_type": "code",
   "execution_count": 4,
   "id": "5f7794fc-1ada-473e-9b1c-ea581ef05477",
   "metadata": {},
   "outputs": [
    {
     "ename": "TypeError",
     "evalue": "'str' object does not support item assignment",
     "output_type": "error",
     "traceback": [
      "\u001b[1;31m---------------------------------------------------------------------------\u001b[0m",
      "\u001b[1;31mTypeError\u001b[0m                                 Traceback (most recent call last)",
      "Cell \u001b[1;32mIn[4], line 1\u001b[0m\n\u001b[1;32m----> 1\u001b[0m \u001b[43ma\u001b[49m\u001b[43m[\u001b[49m\u001b[38;5;241;43m0\u001b[39;49m\u001b[43m]\u001b[49m \u001b[38;5;241m=\u001b[39m \u001b[38;5;124m'\u001b[39m\u001b[38;5;124mH\u001b[39m\u001b[38;5;124m'\u001b[39m\n",
      "\u001b[1;31mTypeError\u001b[0m: 'str' object does not support item assignment"
     ]
    }
   ],
   "source": [
    "a[0] = 'H'\n",
    "# str은 immutable(수정이 불가능)"
   ]
  },
  {
   "cell_type": "code",
   "execution_count": 5,
   "id": "158ab963-1559-451a-8362-c1699705f726",
   "metadata": {},
   "outputs": [
    {
     "data": {
      "text/plain": [
       "'Hello my name is yang'"
      ]
     },
     "execution_count": 5,
     "metadata": {},
     "output_type": "execute_result"
    }
   ],
   "source": [
    "# 데이터 안의 첫번재 문자를 대문자로 바꿈\n",
    "a.capitalize()\n",
    "# . : a데이터 안의 를 의미\n",
    "# capitalize()는 함수이므로 return 만 한 거싱고 a의 데이터가 바뀌는 것은 아님"
   ]
  },
  {
   "cell_type": "code",
   "execution_count": 6,
   "id": "96a1a866-45ac-404f-9009-959fe0eba4ac",
   "metadata": {},
   "outputs": [
    {
     "name": "stdout",
     "output_type": "stream",
     "text": [
      "Hello my name is yang\n"
     ]
    }
   ],
   "source": [
    "a = a.capitalize()\n",
    "print(a)"
   ]
  },
  {
   "cell_type": "code",
   "execution_count": 7,
   "id": "876fdf05-c93a-41e2-b31e-bb5e9edbf615",
   "metadata": {},
   "outputs": [
    {
     "data": {
      "text/plain": [
       "'Hello My Name Is Yang'"
      ]
     },
     "execution_count": 7,
     "metadata": {},
     "output_type": "execute_result"
    }
   ],
   "source": [
    "# 문자열의 각 단어의 시작문자를 대문자로 바꿔줌\n",
    "a.title()"
   ]
  },
  {
   "cell_type": "code",
   "execution_count": 9,
   "id": "05e14ed1-f917-4e63-9776-6bce0b9fd1fd",
   "metadata": {},
   "outputs": [
    {
     "data": {
      "text/plain": [
       "'hello my name is yang'"
      ]
     },
     "execution_count": 9,
     "metadata": {},
     "output_type": "execute_result"
    }
   ],
   "source": [
    "# 모든 문자를 소문자로 바꿈\n",
    "a.lower()"
   ]
  },
  {
   "cell_type": "code",
   "execution_count": 10,
   "id": "c310862f-61db-4222-b1b5-2eddb91fca04",
   "metadata": {},
   "outputs": [
    {
     "data": {
      "text/plain": [
       "'HELLO MY NAME IS YANG'"
      ]
     },
     "execution_count": 10,
     "metadata": {},
     "output_type": "execute_result"
    }
   ],
   "source": [
    "# 모든 문자를 대문자로 바꿈\n",
    "a. upper()"
   ]
  },
  {
   "cell_type": "code",
   "execution_count": 12,
   "id": "cf505d1b-abe8-4a77-9909-5484d79c5567",
   "metadata": {},
   "outputs": [
    {
     "data": {
      "text/plain": [
       "'my!name!is'"
      ]
     },
     "execution_count": 12,
     "metadata": {},
     "output_type": "execute_result"
    }
   ],
   "source": [
    "# `'a'.join(변수이름)` : 변수 안의 데이터들 사이에 a를 넣어 합친다\n",
    "my_list = ['my', 'name', 'is']\n",
    "'!'.join(my_list)"
   ]
  },
  {
   "cell_type": "code",
   "execution_count": 13,
   "id": "15ed0102-ef89-45dd-ae5b-371d85e4f3db",
   "metadata": {},
   "outputs": [
    {
     "data": {
      "text/plain": [
       "'배?고?프?다'"
      ]
     },
     "execution_count": 13,
     "metadata": {},
     "output_type": "execute_result"
    }
   ],
   "source": [
    "'?'.join('배고프다')\n",
    "# 위의 my_list와 '배고프다'모두 시퀀스 데이터"
   ]
  },
  {
   "cell_type": "code",
   "execution_count": 16,
   "id": "39b8bc70-93af-4bd9-8076-2ceca6218f26",
   "metadata": {},
   "outputs": [
    {
     "data": {
      "text/plain": [
       "'helllo'"
      ]
     },
     "execution_count": 16,
     "metadata": {},
     "output_type": "execute_result"
    }
   ],
   "source": [
    "# 좌우의 여백을 지워줌 \n",
    "a = '          helllo     \\n'\n",
    "a.strip()\n",
    "# `a.strip(char=' ')` 가 기본값으로 들어가있음"
   ]
  },
  {
   "cell_type": "code",
   "execution_count": 17,
   "id": "880b4851-b400-47e5-9036-f7bcb03bf801",
   "metadata": {},
   "outputs": [
    {
     "data": {
      "text/plain": [
       "'hello??????????'"
      ]
     },
     "execution_count": 17,
     "metadata": {},
     "output_type": "execute_result"
    }
   ],
   "source": [
    "# `변수이름.strip('a')` : 변수 데이터 안의 문자 a를 지워주는 함수\n",
    "a = '!!!!!!!!!!hello??????????'\n",
    "a.strip('!')"
   ]
  },
  {
   "cell_type": "code",
   "execution_count": 19,
   "id": "e50b3ce5-1f38-4ce8-83a3-7d311345c5e9",
   "metadata": {},
   "outputs": [
    {
     "data": {
      "text/plain": [
       "'----------hello'"
      ]
     },
     "execution_count": 19,
     "metadata": {},
     "output_type": "execute_result"
    }
   ],
   "source": [
    "a = '----------hello--------'\n",
    "a.lstrip('-') # 왼쪽의 문자 '-'를 제거\n",
    "a.rstrip('-') # 오른쪽의 문자 '-'를 제거"
   ]
  },
  {
   "cell_type": "code",
   "execution_count": 22,
   "id": "a0af9d1c-240d-4169-91fe-2b9ceb63b329",
   "metadata": {},
   "outputs": [
    {
     "data": {
      "text/plain": [
       "'w!!!oooooow'"
      ]
     },
     "execution_count": 22,
     "metadata": {},
     "output_type": "execute_result"
    }
   ],
   "source": [
    "a = 'wooooooooow'\n",
    "a.replace('w', 'a') # 데이터안의 'w'를 'a'로 비꿈\n",
    "a.replace('o', '!', 3) # 데이터 안의 문자 'o' 중 처음부터 3개만 '!'로 바꿈 "
   ]
  },
  {
   "cell_type": "code",
   "execution_count": 26,
   "id": "78f68976-2ac5-49d0-9603-61769e6dbbdb",
   "metadata": {},
   "outputs": [
    {
     "data": {
      "text/plain": [
       "-1"
      ]
     },
     "execution_count": 26,
     "metadata": {},
     "output_type": "execute_result"
    }
   ],
   "source": [
    "# 문자의 인덱스 번호 출력\n",
    "a = 'apple'\n",
    "a.find('a') # => 0\n",
    "a.find('l') # => 3\n",
    "a.find('p') # => 1, 문자가 중복될 경우 첫번째 데이터의 인덱스 번호만 출력\n",
    "a.find('z') # => -1, 없는 문자를 찾을 경우 -1 출력(없음을 의미)"
   ]
  },
  {
   "cell_type": "code",
   "execution_count": 32,
   "id": "0d2a6b58-3fc9-41c3-a095-341fab84a4bc",
   "metadata": {},
   "outputs": [
    {
     "ename": "ValueError",
     "evalue": "substring not found",
     "output_type": "error",
     "traceback": [
      "\u001b[1;31m---------------------------------------------------------------------------\u001b[0m",
      "\u001b[1;31mValueError\u001b[0m                                Traceback (most recent call last)",
      "Cell \u001b[1;32mIn[32], line 5\u001b[0m\n\u001b[0;32m      3\u001b[0m a\u001b[38;5;241m.\u001b[39mindex(\u001b[38;5;124m'\u001b[39m\u001b[38;5;124ml\u001b[39m\u001b[38;5;124m'\u001b[39m)\n\u001b[0;32m      4\u001b[0m a\u001b[38;5;241m.\u001b[39mindex(\u001b[38;5;124m'\u001b[39m\u001b[38;5;124mp\u001b[39m\u001b[38;5;124m'\u001b[39m)\n\u001b[1;32m----> 5\u001b[0m \u001b[43ma\u001b[49m\u001b[38;5;241;43m.\u001b[39;49m\u001b[43mindex\u001b[49m\u001b[43m(\u001b[49m\u001b[38;5;124;43m'\u001b[39;49m\u001b[38;5;124;43mz\u001b[39;49m\u001b[38;5;124;43m'\u001b[39;49m\u001b[43m)\u001b[49m\n",
      "\u001b[1;31mValueError\u001b[0m: substring not found"
     ]
    }
   ],
   "source": [
    "a = 'apple'\n",
    "a.index('a')\n",
    "a.index('l')\n",
    "a.index('p')\n",
    "a.index('z')\n",
    "# `find()`와 같은 의미의 함수지만 없는 문자를 찾으면 에러남"
   ]
  },
  {
   "cell_type": "code",
   "execution_count": 33,
   "id": "5447a9c0-29bc-4ff1-84e3-7969913cf349",
   "metadata": {},
   "outputs": [
    {
     "data": {
      "text/plain": [
       "['my', 'name', 'is', 'yang']"
      ]
     },
     "execution_count": 33,
     "metadata": {},
     "output_type": "execute_result"
    }
   ],
   "source": [
    "a = 'my name is yang'\n",
    "a.split() # 띄어쓰기를 기준으로 잘라서 출력, 결과를 리스트로 만들어줌"
   ]
  },
  {
   "cell_type": "code",
   "execution_count": 36,
   "id": "4f9cdfd0-d027-4626-a8ad-2db0bd7d79f1",
   "metadata": {},
   "outputs": [
    {
     "data": {
      "text/plain": [
       "['my', 'name', 'is?yang']"
      ]
     },
     "execution_count": 36,
     "metadata": {},
     "output_type": "execute_result"
    }
   ],
   "source": [
    "a = 'my!name!is?yang'\n",
    "a.split('!') # 느낌표를 기준으로 잘라서 출력"
   ]
  },
  {
   "cell_type": "code",
   "execution_count": 37,
   "id": "1f374a1e-6ba3-4bd9-abfe-d1b70f350fc9",
   "metadata": {},
   "outputs": [
    {
     "data": {
      "text/plain": [
       "8"
      ]
     },
     "execution_count": 37,
     "metadata": {},
     "output_type": "execute_result"
    }
   ],
   "source": [
    "a = 'woooooooow'\n",
    "a.count('o') # 'o'의 개수를 셈"
   ]
  },
  {
   "cell_type": "markdown",
   "id": "1983e447-b725-4b41-8c55-4747d8ef6ff0",
   "metadata": {},
   "source": [
    "## 리스트 메소드"
   ]
  },
  {
   "cell_type": "code",
   "execution_count": 44,
   "id": "1b031234-433e-4124-a830-27d0465db47e",
   "metadata": {},
   "outputs": [],
   "source": [
    "numbers = [ 2, 6, 1, 4, 8, 3, 2, 8]"
   ]
  },
  {
   "cell_type": "code",
   "execution_count": 45,
   "id": "ddf6503f-37d4-4a90-93f9-5987099d3f5e",
   "metadata": {},
   "outputs": [
    {
     "name": "stdout",
     "output_type": "stream",
     "text": [
      "[2, 6, 1, 4, 8, 3, 2, 8, 10]\n"
     ]
    }
   ],
   "source": [
    "numbers.append(10) # 뒤에 데이터 추가\n",
    "print(numbers)"
   ]
  },
  {
   "cell_type": "code",
   "execution_count": 46,
   "id": "a12f9cf1-e1c9-42bc-9fb2-e365444a84ea",
   "metadata": {},
   "outputs": [],
   "source": [
    "a = [99, 100]"
   ]
  },
  {
   "cell_type": "code",
   "execution_count": 48,
   "id": "9c8f1fa7-5ab7-446e-9c32-7ecf5ef1d550",
   "metadata": {},
   "outputs": [
    {
     "name": "stdout",
     "output_type": "stream",
     "text": [
      "[2, 6, 1, 4, 8, 3, 2, 8, 10, 99, 100, 99, 100]\n"
     ]
    }
   ],
   "source": [
    "numbers.extend(a) # 여러개 데이터를 추가, numbers + a\n",
    "print(numbers)"
   ]
  },
  {
   "cell_type": "code",
   "execution_count": 51,
   "id": "63f3de0d-537b-4ba5-9cef-86709fe326bb",
   "metadata": {},
   "outputs": [
    {
     "name": "stdout",
     "output_type": "stream",
     "text": [
      "[2, 6, 1, 5, 5, 4, 8, 3, 2, 8, 10, 99, 100, 99, 100]\n"
     ]
    }
   ],
   "source": [
    "# insert(위치, 값) : # 리스트에 위치를 지정해서 넣을 때\n",
    "numbers.insert(3, 5) \n",
    "print(numbers)"
   ]
  },
  {
   "cell_type": "code",
   "execution_count": 54,
   "id": "43b85d24-bec0-45f6-a53d-9f2a84fac6da",
   "metadata": {},
   "outputs": [
    {
     "ename": "ValueError",
     "evalue": "list.remove(x): x not in list",
     "output_type": "error",
     "traceback": [
      "\u001b[1;31m---------------------------------------------------------------------------\u001b[0m",
      "\u001b[1;31mValueError\u001b[0m                                Traceback (most recent call last)",
      "Cell \u001b[1;32mIn[54], line 1\u001b[0m\n\u001b[1;32m----> 1\u001b[0m \u001b[43mnumbers\u001b[49m\u001b[38;5;241;43m.\u001b[39;49m\u001b[43mremove\u001b[49m\u001b[43m(\u001b[49m\u001b[38;5;241;43m8\u001b[39;49m\u001b[43m)\u001b[49m \u001b[38;5;66;03m# 값 제거, 해당 값이 여러개일 경우 앞에서부터 값 제거\u001b[39;00m\n\u001b[0;32m      2\u001b[0m \u001b[38;5;28mprint\u001b[39m(numbers)\n",
      "\u001b[1;31mValueError\u001b[0m: list.remove(x): x not in list"
     ]
    }
   ],
   "source": [
    "# 값 제거, 해당 값이 여러개일 경우 첫번째에 위치해있는 값 제거\n",
    "# 여러개일 경우 여러번 실행하면 제거 가능, 값이 더이상 없으면 에러가 남\n",
    "numbers.remove(8)\n",
    "print(numbers)"
   ]
  },
  {
   "cell_type": "code",
   "execution_count": 55,
   "id": "c3c94295-e733-45e2-83ec-db5ec44bdb01",
   "metadata": {},
   "outputs": [
    {
     "name": "stdout",
     "output_type": "stream",
     "text": [
      "[2, 6, 1, 5, 5, 4, 3, 2, 10, 99, 100, 99]\n"
     ]
    }
   ],
   "source": [
    "numbers.pop() # 맨 마지막 값 제거\n",
    "print(numbers)"
   ]
  },
  {
   "cell_type": "code",
   "execution_count": 57,
   "id": "588fd46d-53a7-48a8-b7ea-070f64ea0f18",
   "metadata": {},
   "outputs": [
    {
     "name": "stdout",
     "output_type": "stream",
     "text": [
      "[1, 5, 5, 4, 3, 2, 10, 99, 100, 99]\n"
     ]
    }
   ],
   "source": [
    "# stack : 후입선출, q : 선입선출\n",
    "numbers.pop(0) # 리스트의 첫번째 값 제거\n",
    "print(numbers)"
   ]
  },
  {
   "cell_type": "code",
   "execution_count": 58,
   "id": "27af7ea1-b8f2-49b4-97ae-cca925938b21",
   "metadata": {},
   "outputs": [
    {
     "name": "stdout",
     "output_type": "stream",
     "text": [
      "[1, 5, 5, 3, 2, 10, 99, 100, 99]\n"
     ]
    }
   ],
   "source": [
    "numbers.pop(3)\n",
    "print(numbers)"
   ]
  },
  {
   "cell_type": "code",
   "execution_count": 59,
   "id": "7ad3f945-2227-415b-b2d1-bf510803b796",
   "metadata": {},
   "outputs": [
    {
     "name": "stdout",
     "output_type": "stream",
     "text": [
      "[1, 2, 3, 5, 5, 10, 99, 99, 100]\n"
     ]
    }
   ],
   "source": [
    "numbers.sort() # 오름차순 정렬\n",
    "print(numbers)"
   ]
  },
  {
   "cell_type": "code",
   "execution_count": 61,
   "id": "f312c49e-678c-417b-8f37-11bbd7550ce1",
   "metadata": {},
   "outputs": [
    {
     "name": "stdout",
     "output_type": "stream",
     "text": [
      "[100, 99, 99, 10, 5, 5, 3, 2, 1]\n"
     ]
    }
   ],
   "source": [
    "numbers.sort(reverse=True) # 내림차순 정렬, 원본을 바꿈\n",
    "print(numbers)"
   ]
  },
  {
   "cell_type": "code",
   "execution_count": 65,
   "id": "15e60396-bece-4bf4-8bae-7ab371f4e4eb",
   "metadata": {},
   "outputs": [
    {
     "name": "stdout",
     "output_type": "stream",
     "text": [
      "[1, 2, 3, 5, 7, 8]\n",
      "[5, 3, 2, 7, 8, 1]\n"
     ]
    }
   ],
   "source": [
    "# sorted는 원본을 바꾸지 않고 결과만 출력\n",
    "a = [5, 3, 2, 7, 8, 1]\n",
    "print(sorted(a))\n",
    "print(a)"
   ]
  },
  {
   "cell_type": "code",
   "execution_count": 67,
   "id": "6c8b399d-7265-439e-afec-44312cdf6939",
   "metadata": {},
   "outputs": [
    {
     "name": "stdout",
     "output_type": "stream",
     "text": [
      "['a', 'b', 'z', '나', '하']\n"
     ]
    }
   ],
   "source": [
    "my_list = ['a', '하', '나', 'b', 'z']\n",
    "my_list.sort()\n",
    "print(my_list)"
   ]
  },
  {
   "cell_type": "code",
   "execution_count": 69,
   "id": "74d191b1-8d5f-4ddd-b0d2-10b2cc886a46",
   "metadata": {},
   "outputs": [
    {
     "name": "stdout",
     "output_type": "stream",
     "text": [
      "[100, 99, 99, 10, 5, 5, 3, 2, 1]\n",
      "[1, 2, 3, 5, 5, 10, 99, 99, 100]\n"
     ]
    }
   ],
   "source": [
    "print(numbers)\n",
    "numbers.reverse() # 데이터의 순서를 뒤집음, 정렬이 되어있지 않아도 순서롤 뒤집어서 출력\n",
    "print(numbers)"
   ]
  },
  {
   "cell_type": "code",
   "execution_count": 70,
   "id": "bde4109f-b92c-4303-bb43-fdb919c4e602",
   "metadata": {},
   "outputs": [
    {
     "data": {
      "text/plain": [
       "2"
      ]
     },
     "execution_count": 70,
     "metadata": {},
     "output_type": "execute_result"
    }
   ],
   "source": [
    "numbers.count(99)"
   ]
  },
  {
   "cell_type": "markdown",
   "id": "350b4f96-7d0f-4e03-88d2-c3b0cf31fada",
   "metadata": {},
   "source": [
    "### list copy"
   ]
  },
  {
   "cell_type": "code",
   "execution_count": 71,
   "id": "48500dde-54e5-4af5-98ee-b8b0b5e64d94",
   "metadata": {},
   "outputs": [],
   "source": [
    "origin_list = [1, 2, 3]\n",
    "copy_list = origin_list"
   ]
  },
  {
   "cell_type": "code",
   "execution_count": 72,
   "id": "ebafa6ca-bcec-4fb8-9549-f5e4066d8e23",
   "metadata": {},
   "outputs": [
    {
     "name": "stdout",
     "output_type": "stream",
     "text": [
      "[1, 2, 3]\n",
      "[1, 2, 3]\n"
     ]
    }
   ],
   "source": [
    "print(origin_list)\n",
    "print(copy_list)"
   ]
  },
  {
   "cell_type": "code",
   "execution_count": 73,
   "id": "15251a01-78c7-493c-9c01-d06acf4d7a91",
   "metadata": {},
   "outputs": [
    {
     "name": "stdout",
     "output_type": "stream",
     "text": [
      "[100, 2, 3]\n",
      "[100, 2, 3]\n"
     ]
    }
   ],
   "source": [
    "copy_list[0] = 100\n",
    "print(origin_list)\n",
    "print(copy_list)"
   ]
  },
  {
   "cell_type": "code",
   "execution_count": 75,
   "id": "3e060a9c-8dd0-4287-b7be-57fc8c7b864d",
   "metadata": {},
   "outputs": [
    {
     "name": "stdout",
     "output_type": "stream",
     "text": [
      "[1, 2, 3]\n",
      "[100, 2, 3]\n"
     ]
    }
   ],
   "source": [
    "origin_list = [1, 2, 3]\n",
    "copy_list = origin_list[:] # [:]의 의미는 슬라이싱을 해달라는 의미, 처음부터 끝까지 \n",
    "\n",
    "copy_list[0] = 100\n",
    "\n",
    "print(origin_list)\n",
    "print(copy_list)"
   ]
  },
  {
   "cell_type": "code",
   "execution_count": 78,
   "id": "846b4661-21ef-4093-a48c-a136885ef821",
   "metadata": {},
   "outputs": [
    {
     "name": "stdout",
     "output_type": "stream",
     "text": [
      "[1, 2, [10, -10]]\n",
      "[100, 2, [10, -10]]\n"
     ]
    }
   ],
   "source": [
    "o_l = [1, 2, [10, 11]]\n",
    "c_l = o_l[:] # 이중 리스트의 경우 슬라이싱을 한번 더 사용할 수 없음\n",
    "\n",
    "c_l[0] = 100\n",
    "c_l[2][0] = -10\n",
    "\n",
    "print(o_l)\n",
    "print(c_l)"
   ]
  },
  {
   "cell_type": "code",
   "execution_count": 79,
   "id": "80d444a2-3d9e-468e-8d65-d9057363f2bb",
   "metadata": {},
   "outputs": [
    {
     "name": "stdout",
     "output_type": "stream",
     "text": [
      "[1, 2, [10, 11]]\n",
      "[100, 2, [10, -11]]\n"
     ]
    }
   ],
   "source": [
    "# import 추가하다\n",
    "import copy\n",
    "\n",
    "o_l = [1, 2, [10, 11]]\n",
    "c_l = copy.deepcopy(o_l) # copy안의 deepcopy 사용\n",
    "\n",
    "c_l[0] = 100\n",
    "c_l[2][1] = -11\n",
    "\n",
    "print(o_l)\n",
    "print(c_l)"
   ]
  },
  {
   "cell_type": "markdown",
   "id": "9c6514b9-cbe3-4bfe-be04-4c08946251ca",
   "metadata": {},
   "source": [
    "### list comprehension"
   ]
  },
  {
   "cell_type": "code",
   "execution_count": 80,
   "id": "28eeb96b-3239-49bd-b74b-4887bb27bff8",
   "metadata": {},
   "outputs": [
    {
     "name": "stdout",
     "output_type": "stream",
     "text": [
      "[1, 2, 3, 4, 5, 6, 7, 8, 9, 10]\n"
     ]
    }
   ],
   "source": [
    "numbers = list(range(1, 11))\n",
    "print(numbers)"
   ]
  },
  {
   "cell_type": "code",
   "execution_count": 82,
   "id": "cc476005-6744-41e7-b0bb-3b2c68374621",
   "metadata": {},
   "outputs": [
    {
     "name": "stdout",
     "output_type": "stream",
     "text": [
      "[1, 8, 27, 64, 125, 216, 343, 512, 729, 1000]\n"
     ]
    }
   ],
   "source": [
    "result = []\n",
    "\n",
    "for number in numbers:\n",
    "    temp = number ** 3\n",
    "    result.append(temp)\n",
    "\n",
    "print(result)"
   ]
  },
  {
   "cell_type": "code",
   "execution_count": 84,
   "id": "9b82e548-c662-4490-a0b7-341bfd3b2001",
   "metadata": {},
   "outputs": [
    {
     "name": "stdout",
     "output_type": "stream",
     "text": [
      "[1, 8, 27, 64, 125, 216, 343, 512, 729, 1000]\n"
     ]
    }
   ],
   "source": [
    "result = [number ** 3 for number in numbers]\n",
    "# result = [number1 ** 3, number2 * 3, number3 ** 3, ...]\n",
    "print(result)"
   ]
  },
  {
   "cell_type": "code",
   "execution_count": 86,
   "id": "d6e5ef4a-772c-42c9-a3f2-c9f199ddb81a",
   "metadata": {},
   "outputs": [
    {
     "name": "stdout",
     "output_type": "stream",
     "text": [
      "[2, 4, 6, 8, 10, 12, 14, 16, 18, 20, 22, 24, 26, 28, 30]\n"
     ]
    }
   ],
   "source": [
    "# 짝수만 고르기\n",
    "numbers = list(range(1, 31))\n",
    "result = []\n",
    "\n",
    "for number in numbers:\n",
    "    if number % 2 == 0:\n",
    "        result.append(number)\n",
    "\n",
    "print(result)"
   ]
  },
  {
   "cell_type": "code",
   "execution_count": 90,
   "id": "31af0712-f0e5-43a8-8f98-06268f50b02c",
   "metadata": {},
   "outputs": [
    {
     "name": "stdout",
     "output_type": "stream",
     "text": [
      "[4, 8, 12, 16, 20, 24, 28, 32, 36, 40, 44, 48, 52, 56, 60]\n"
     ]
    }
   ],
   "source": [
    "numbers = list(range(1, 31))\n",
    "result = [number * 2 for number in numbers if number % 2 == 0]\n",
    "print(result)\n",
    "# for문 -> if문 -> 결과값(number) 출력"
   ]
  },
  {
   "cell_type": "code",
   "execution_count": 115,
   "id": "b613290d-7ff0-473a-9b32-e32533b9ef9a",
   "metadata": {},
   "outputs": [],
   "source": [
    "# 연습문제 - 모음제거\n",
    "words = 'my name is hong'\n",
    "\n",
    "# => my nm s hng"
   ]
  },
  {
   "cell_type": "code",
   "execution_count": 126,
   "id": "ead6b67d-051b-4fa9-85d4-d7b8917cc30e",
   "metadata": {},
   "outputs": [
    {
     "name": "stdout",
     "output_type": "stream",
     "text": [
      "['m', 'y', ' ', 'n', 'm', ' ', 's', ' ', 'h', 'n', 'g']\n"
     ]
    }
   ],
   "source": [
    "# 1. for/if문 \n",
    "a = ['a', 'e', 'i', 'o', 'u']\n",
    "result = []\n",
    "\n",
    "for word in words:\n",
    "    if word not in a:\n",
    "        result.append(word)\n",
    "        ''.join(result)\n",
    "        \n",
    "print(result)"
   ]
  },
  {
   "cell_type": "code",
   "execution_count": 130,
   "id": "39bf120a-eca3-466f-b7a0-d31125f80308",
   "metadata": {},
   "outputs": [
    {
     "name": "stdout",
     "output_type": "stream",
     "text": [
      "['m', 'y', ' ', 'n', 'm', ' ', 's', ' ', 'h', 'n', 'g']\n",
      "my nm s hng\n"
     ]
    }
   ],
   "source": [
    "# sol1\n",
    "vowels = ['a', 'e', 'i', 'o', 'u']\n",
    "result = []\n",
    "\n",
    "for char in words:\n",
    "    # 모음인 경우\n",
    "    if char in vowels:\n",
    "        pass\n",
    "    # 자음인 경우\n",
    "    else:\n",
    "        result.append(char)\n",
    "\n",
    "print(result)\n",
    "print(''.join(result))"
   ]
  },
  {
   "cell_type": "code",
   "execution_count": 134,
   "id": "d763015d-678e-4ed5-b0eb-19996cec0396",
   "metadata": {},
   "outputs": [
    {
     "name": "stdout",
     "output_type": "stream",
     "text": [
      "['m', 'y', ' ', 'n', 'm', ' ', 's', ' ', 'h', 'n', 'g']\n",
      "my nm s hng\n"
     ]
    }
   ],
   "source": [
    "# sol2\n",
    "vowels = ['a', 'e', 'i', 'o', 'u']\n",
    "result = []\n",
    "\n",
    "for char in words:\n",
    "    # 모음이 아닌 경우(자음인 경우)\n",
    "    if char not in vowels:\n",
    "        result.append(char)\n",
    "        \n",
    "print(result)\n",
    "print(''.join(result))"
   ]
  },
  {
   "cell_type": "code",
   "execution_count": 137,
   "id": "1ef8710c-2f60-46da-b771-195109016dac",
   "metadata": {},
   "outputs": [
    {
     "name": "stdout",
     "output_type": "stream",
     "text": [
      "['m', 'y', ' ', 'n', 'm', ' ', 's', ' ', 'h', 'n', 'g']\n",
      "my nm s hng\n"
     ]
    }
   ],
   "source": [
    "# sol3\n",
    "# vowels = 'aeiou'\n",
    "result = []\n",
    "\n",
    "for char in words:\n",
    "    if char not in 'aeiou':\n",
    "        result.append(char)\n",
    "\n",
    "print(result)\n",
    "print(''.join(result))"
   ]
  },
  {
   "cell_type": "code",
   "execution_count": 129,
   "id": "259d5939-fc4e-4206-9d8d-1d4343ada0b8",
   "metadata": {},
   "outputs": [
    {
     "name": "stdout",
     "output_type": "stream",
     "text": [
      "['m', 'y', ' ', 'n', 'm', ' ', 's', ' ', 'h', 'n', 'g']\n",
      "my nm s hng\n"
     ]
    }
   ],
   "source": [
    "# 2. list comprehension\n",
    "a = ['a', 'e', 'i', 'o', 'u']\n",
    "result = [word for word in words if word not in a]\n",
    "print(result)\n",
    "print(''.join(result))"
   ]
  },
  {
   "cell_type": "code",
   "execution_count": 140,
   "id": "44690c57-97e4-4e52-9792-52dd1e4cd841",
   "metadata": {},
   "outputs": [
    {
     "name": "stdout",
     "output_type": "stream",
     "text": [
      "['m', 'y', ' ', 'n', 'm', ' ', 's', ' ', 'h', 'n', 'g']\n",
      "my nm s hng\n"
     ]
    }
   ],
   "source": [
    "# sol\n",
    "vowels = 'aeiou'\n",
    "result = [char for char in words if char not in vowels]\n",
    "print(result)\n",
    "print(''.join(result))\n",
    "\n",
    "# `''.join([char for char in words if char not in vowels])` 로 줄일 수 있지만 해석만 할 줄 알면 됨"
   ]
  },
  {
   "cell_type": "code",
   "execution_count": 142,
   "id": "15110aac-47ed-4a78-be36-7ce7aa98f419",
   "metadata": {},
   "outputs": [
    {
     "name": "stdout",
     "output_type": "stream",
     "text": [
      "my nm s hng\n"
     ]
    }
   ],
   "source": [
    "# 3. replace 메소드 - 모음에 해당하는 문자를 ''으로 바꾸기\n",
    "vowels = 'aeiou'\n",
    "\n",
    "for char in vowels:\n",
    "    words = words.replace(char, '') # words 안의 char 데이터들을 ''으로 바꿔주세요, 원본이 수정되지 않으므로 재할당해야함\n",
    "\n",
    "print(words)"
   ]
  },
  {
   "cell_type": "markdown",
   "id": "fef6f201-14da-4e18-980c-5631fea60900",
   "metadata": {},
   "source": [
    "## dictionary 메소드"
   ]
  },
  {
   "cell_type": "code",
   "execution_count": 1,
   "id": "bf2ed8ec-8945-4582-8403-d49867fe3c4a",
   "metadata": {},
   "outputs": [],
   "source": [
    "info = {\n",
    "    'name': 'yang',\n",
    "    'location': 'incheon',\n",
    "    'age': 25,\n",
    "    'phone_book': {\n",
    "        'kim': '010-1234-1234',\n",
    "        'park': '010-4321-4321'\n",
    "    },\n",
    "    'models': ['iphone', 'ipad'],\n",
    "}"
   ]
  },
  {
   "cell_type": "code",
   "execution_count": 5,
   "id": "773436ef-9191-4f47-8c8c-86a5862dbb82",
   "metadata": {},
   "outputs": [
    {
     "name": "stdout",
     "output_type": "stream",
     "text": [
      "yang\n",
      "25\n",
      "010-4321-4321\n",
      "ipad\n"
     ]
    }
   ],
   "source": [
    "print(info['name'])\n",
    "print(info['age'])\n",
    "print(info['phone_book']['park'])\n",
    "print(info['models'][1]) #리스트기 때문에 인덱스 접근을 해야함, 숫자를 입력해야함"
   ]
  },
  {
   "cell_type": "code",
   "execution_count": 6,
   "id": "51604d7b-baa4-4e69-b9dd-0a70aaa36864",
   "metadata": {},
   "outputs": [
    {
     "name": "stdout",
     "output_type": "stream",
     "text": [
      "lee\n"
     ]
    }
   ],
   "source": [
    "info['name'] = 'lee'\n",
    "print(info['name'])"
   ]
  },
  {
   "cell_type": "code",
   "execution_count": 7,
   "id": "f24b4ceb-a2bd-4466-a6ae-0cc6df97d9b8",
   "metadata": {},
   "outputs": [
    {
     "name": "stdout",
     "output_type": "stream",
     "text": [
      "{'name': 'choi', 'location': 'incheon', 'age': 25, 'phone_book': {'kim': '010-1234-1234', 'park': '010-4321-4321'}, 'models': ['iphone', 'ipad']}\n"
     ]
    }
   ],
   "source": [
    "info.update(name='choi') # 특정한 key에 value 값을 바꾸는 메소드\n",
    "print(info)"
   ]
  },
  {
   "cell_type": "code",
   "execution_count": 8,
   "id": "4affc7b8-918f-40ee-887b-bc96b3f57122",
   "metadata": {},
   "outputs": [
    {
     "name": "stdout",
     "output_type": "stream",
     "text": [
      "{'name': 'choi', 'age': 25, 'phone_book': {'kim': '010-1234-1234', 'park': '010-4321-4321'}, 'models': ['iphone', 'ipad']}\n"
     ]
    }
   ],
   "source": [
    "info.pop('location') # 원하는 key-value를 제거, dictionary는 순서가 없기 때문에 리스트 메소드와 다른 메소드\n",
    "print(info)"
   ]
  },
  {
   "cell_type": "code",
   "execution_count": 23,
   "id": "800b486d-1792-4f24-ab23-fa47d7e2d3c0",
   "metadata": {},
   "outputs": [
    {
     "name": "stdout",
     "output_type": "stream",
     "text": [
      "choi\n",
      "choi\n"
     ]
    }
   ],
   "source": [
    "print(info.get('name')) # key에 해당하는 value값을 가져옴\n",
    "print(info['name'])"
   ]
  },
  {
   "cell_type": "code",
   "execution_count": 27,
   "id": "74ed461c-33c5-4464-b0a3-b3ca277e34e0",
   "metadata": {},
   "outputs": [],
   "source": [
    "#연습문제\n",
    "blood_type = ['A', 'B', 'A', 'B', 'O', 'AB', 'A', 'A', 'AB']"
   ]
  },
  {
   "cell_type": "code",
   "execution_count": 28,
   "id": "bbf05129-debb-4520-a569-01185a10151d",
   "metadata": {},
   "outputs": [
    {
     "name": "stdout",
     "output_type": "stream",
     "text": [
      "{'A': None, 'B': None, 'O': None, 'AB': None}\n"
     ]
    }
   ],
   "source": [
    "blood_type.count('A')\n",
    "type = dict.fromkeys(blood_type) # dictionary를 만들어주는 함수(내가 찾은거)\n",
    "print(type)"
   ]
  },
  {
   "cell_type": "code",
   "execution_count": 29,
   "id": "bae223c5-2bd6-4825-a32e-298d26ac689b",
   "metadata": {},
   "outputs": [
    {
     "name": "stdout",
     "output_type": "stream",
     "text": [
      "{'A': 4, 'B': 2, 'AB': 2, 'O': 1}\n"
     ]
    }
   ],
   "source": [
    "result = {\n",
    "    'A': 0,\n",
    "    'B': 0,\n",
    "    'AB': 0,\n",
    "    'O': 0\n",
    "}\n",
    "\n",
    "for blood in blood_type:\n",
    "    # result['A']\n",
    "    result[blood] += 1\n",
    "\n",
    "print(result)"
   ]
  },
  {
   "cell_type": "code",
   "execution_count": 30,
   "id": "27bcffd5-3661-4d80-9f12-ef0ddc87f673",
   "metadata": {},
   "outputs": [
    {
     "name": "stdout",
     "output_type": "stream",
     "text": [
      "{'서울': 2, '대전': 1, '부산': 1, '대구': 1, 'LA': 1, '파리': 1}\n"
     ]
    }
   ],
   "source": [
    "locations = ['서울', '서울', '대전', '부산', '대구', 'LA', '파리']\n",
    "result = {}\n",
    "\n",
    "for location in locations:\n",
    "    # if location이 result key 목록에 있다면? => 기존데이터에 +1 => 없다면 => 새로운 키를 등록하고 기본값을 1로 지정\n",
    "    if location in result.keys():\n",
    "        result[location] += 1\n",
    "    else:\n",
    "        result[location] = 1\n",
    "\n",
    "print(result)"
   ]
  },
  {
   "cell_type": "code",
   "execution_count": 31,
   "id": "8c418ac7-1ea9-42e9-94b0-d3ea9f2d88cd",
   "metadata": {},
   "outputs": [
    {
     "name": "stdout",
     "output_type": "stream",
     "text": [
      "{'서울': 2, '대전': 1, '부산': 1, '대구': 1, 'LA': 1, '파리': 1}\n"
     ]
    }
   ],
   "source": [
    "locations = ['서울', '서울', '대전', '부산', '대구', 'LA', '파리']\n",
    "result = {}\n",
    "\n",
    "for location in locations:\n",
    "    if result.get(location): # none은 false\n",
    "        result[location] += 1\n",
    "    else:\n",
    "        result[location] = 1\n",
    "\n",
    "print(result)"
   ]
  },
  {
   "cell_type": "markdown",
   "id": "33d28b57-4796-4515-bd8c-5ff5fedb88c8",
   "metadata": {},
   "source": [
    "### dict comprehension"
   ]
  },
  {
   "cell_type": "code",
   "execution_count": 33,
   "id": "f6c816e4-26a5-4419-9d0a-4c5ef8b59e72",
   "metadata": {},
   "outputs": [
    {
     "name": "stdout",
     "output_type": "stream",
     "text": [
      "{1: 1, 2: 8, 3: 27, 4: 64, 5: 125, 6: 216, 7: 343, 8: 512, 9: 729, 10: 1000}\n"
     ]
    }
   ],
   "source": [
    "# {1: 1, 2: 8, 3: 27, ..., 10: 1000}\n",
    "\n",
    "result = {}\n",
    "numbers = range(1, 11)\n",
    "\n",
    "for number in numbers:\n",
    "    result[number] = number ** 3\n",
    "\n",
    "print(result)"
   ]
  },
  {
   "cell_type": "code",
   "execution_count": 34,
   "id": "691fcb49-749d-4173-81af-e98352fa1165",
   "metadata": {},
   "outputs": [
    {
     "name": "stdout",
     "output_type": "stream",
     "text": [
      "{1: 1, 2: 8, 3: 27, 4: 64, 5: 125, 6: 216, 7: 343, 8: 512, 9: 729, 10: 1000}\n"
     ]
    }
   ],
   "source": [
    "result = {number: number ** 3 for number in range(1, 11)}\n",
    "print(result)"
   ]
  },
  {
   "cell_type": "code",
   "execution_count": 35,
   "id": "f4c22078-1a41-4217-b8f2-d0bcc86e93de",
   "metadata": {},
   "outputs": [],
   "source": [
    "# dust 딕셔너리 중 미세먼지 농도가 30이하인 key-value만 출력\n",
    "dust = {\n",
    "    '서울': 50,\n",
    "    '인천': 100,\n",
    "    '수원': 30,\n",
    "    '부산': 0,\n",
    "}"
   ]
  },
  {
   "cell_type": "code",
   "execution_count": 37,
   "id": "ed5be34a-e007-4820-a06d-a7e6d9d9d7f0",
   "metadata": {},
   "outputs": [
    {
     "name": "stdout",
     "output_type": "stream",
     "text": [
      "{'수원': 30, '부산': 0}\n"
     ]
    }
   ],
   "source": [
    "# 1. for문\n",
    "result = {}\n",
    "\n",
    "for key, value in dust.items():\n",
    "    # key, value = item = ('서울', 50)\n",
    "    if value <= 30:\n",
    "        result[key] = value\n",
    "\n",
    "print(result)"
   ]
  },
  {
   "cell_type": "code",
   "execution_count": 40,
   "id": "4ffd1856-d1b7-4ec9-8500-fcaddb044dd8",
   "metadata": {},
   "outputs": [
    {
     "name": "stdout",
     "output_type": "stream",
     "text": [
      "{'수원': '매우좋음', '부산': '매우좋음'}\n"
     ]
    }
   ],
   "source": [
    "# 2. comprehension\n",
    "result = {k: '매우좋음' for k, v in dust.items() if v <= 30}\n",
    "print(result)"
   ]
  },
  {
   "cell_type": "markdown",
   "id": "2df6ac55-e39a-4161-b810-dd17493d56f9",
   "metadata": {},
   "source": [
    "## Set 메소드"
   ]
  },
  {
   "cell_type": "code",
   "execution_count": 41,
   "id": "303e40ee-e33c-4a1e-a0b9-517ea6ee8aed",
   "metadata": {},
   "outputs": [],
   "source": [
    "fruits = {'apple', 'banana', 'melon'}"
   ]
  },
  {
   "cell_type": "code",
   "execution_count": 42,
   "id": "efc46aa1-140a-439e-84bd-22ca00ae8928",
   "metadata": {},
   "outputs": [
    {
     "name": "stdout",
     "output_type": "stream",
     "text": [
      "{'banana', 'apple', 'melon'}\n"
     ]
    }
   ],
   "source": [
    "print(fruits) # set는 순서가 없기 때문에 순서를 랜덤으로 출력(시퀀드가 아님)"
   ]
  },
  {
   "cell_type": "code",
   "execution_count": 43,
   "id": "b74086de-54da-4362-8952-0c77f00650e1",
   "metadata": {},
   "outputs": [
    {
     "name": "stdout",
     "output_type": "stream",
     "text": [
      "{'banana', 'watermelon', 'apple', 'melon'}\n"
     ]
    }
   ],
   "source": [
    "fruits.add('watermelon') # 데이터 추가하기\n",
    "print(fruits)"
   ]
  },
  {
   "cell_type": "code",
   "execution_count": 44,
   "id": "26620010-5a15-42b2-acc5-6c063a8e706e",
   "metadata": {},
   "outputs": [
    {
     "name": "stdout",
     "output_type": "stream",
     "text": [
      "{'banana', 'watermelon', 'apple', 'melon', 'orange', 'grape'}\n"
     ]
    }
   ],
   "source": [
    "fruits.update({'orange', 'grape'}) # 여러개의 데이터 추가하기\n",
    "print(fruits)"
   ]
  },
  {
   "cell_type": "code",
   "execution_count": 45,
   "id": "57001c3f-783e-49c0-a5eb-34984db6fb33",
   "metadata": {},
   "outputs": [
    {
     "name": "stdout",
     "output_type": "stream",
     "text": [
      "{'banana', 'watermelon', 'melon', 'orange', 'grape'}\n"
     ]
    }
   ],
   "source": [
    "fruits.remove('apple') # 데이터 제거하기\n",
    "print(fruits)"
   ]
  },
  {
   "cell_type": "code",
   "execution_count": 47,
   "id": "8f0f95eb-4775-416e-8609-1344571cf5df",
   "metadata": {},
   "outputs": [
    {
     "name": "stdout",
     "output_type": "stream",
     "text": [
      "{'melon', 'orange', 'grape'}\n"
     ]
    }
   ],
   "source": [
    "fruits.pop() # 데이터가 랜덤하게 제거됨\n",
    "print(fruits)"
   ]
  },
  {
   "cell_type": "markdown",
   "id": "5480e70c-8a37-47d0-bc0e-a9033fb3da89",
   "metadata": {},
   "source": [
    "## map, filter, zip"
   ]
  },
  {
   "cell_type": "markdown",
   "id": "b32201a0-e8bb-42ef-b586-4e1ebc12dde7",
   "metadata": {},
   "source": [
    "### map\n",
    "- `map(function, iterable)`\n",
    "    - `iterable` : 시퀀스 타입, 반복가능한 객체\n",
    "- 일괄처리"
   ]
  },
  {
   "cell_type": "code",
   "execution_count": 48,
   "id": "678e2a00-9bf3-4756-b07a-425df79fe484",
   "metadata": {},
   "outputs": [
    {
     "name": "stdout",
     "output_type": "stream",
     "text": [
      "['1', '2', '3', '4', '5']\n"
     ]
    }
   ],
   "source": [
    "numbers = [1, 2, 3, 4, 5]\n",
    "# => ['1', '2 ',' 3', '4', '5'], 리스트 안의 데이터들을 문자형으로 만들어주기\n",
    "\n",
    "result = []\n",
    "for number in numbers:\n",
    "    result.append(str(number))\n",
    "\n",
    "print(result)"
   ]
  },
  {
   "cell_type": "code",
   "execution_count": 52,
   "id": "64f470e4-efb9-4912-abad-40ea7eeb8bab",
   "metadata": {},
   "outputs": [
    {
     "name": "stdout",
     "output_type": "stream",
     "text": [
      "<map object at 0x000001373273C400>\n",
      "['1', '2', '3', '4', '5']\n"
     ]
    }
   ],
   "source": [
    "# 함수를 실행하지 않고 함수를 알려주는 것이기 때문에 str()이 아닌 str 입력\n",
    "# map은 계산을 나중에 하기 때문에 결과가 바로 안나오기 때문에 리스트로 바꿔줘야함(그러면 바로 나옴)\n",
    "\n",
    "# result = list(map(str, numbers))\n",
    "result = map(str, numbers)\n",
    "print(result)\n",
    "print(list(result))"
   ]
  },
  {
   "cell_type": "code",
   "execution_count": 53,
   "id": "70f8955f-4a62-4e23-9793-6224efe5e9ef",
   "metadata": {},
   "outputs": [
    {
     "name": "stdout",
     "output_type": "stream",
     "text": [
      "[1, 8, 27, 64, 125]\n"
     ]
    }
   ],
   "source": [
    "numbers = [1, 2, 3, 4, 5]\n",
    "# => [1, 8, 27, 64, 125]\n",
    "\n",
    "result = []\n",
    "for number in numbers:\n",
    "    result.append(number ** 3)\n",
    "\n",
    "print(result)"
   ]
  },
  {
   "cell_type": "code",
   "execution_count": 55,
   "id": "b913d400-a507-49af-88f2-f6f492839560",
   "metadata": {},
   "outputs": [
    {
     "name": "stdout",
     "output_type": "stream",
     "text": [
      "<map object at 0x0000013732740280>\n",
      "[1, 8, 27, 64, 125]\n"
     ]
    }
   ],
   "source": [
    "# 파이썬 안에 있는 함수가 아닌 다른 계산을 하려면 함수를 만들어야함\n",
    "def cube(x):\n",
    "    return x ** 3\n",
    "    \n",
    "# result = list(map(cube, numbers))\n",
    "result = map(cube, numbers)\n",
    "print(result)\n",
    "print(list(result))"
   ]
  },
  {
   "cell_type": "code",
   "execution_count": 57,
   "id": "2e5f80f3-1932-42f2-bfb8-498cbcadc3ac",
   "metadata": {},
   "outputs": [
    {
     "name": "stdout",
     "output_type": "stream",
     "text": [
      "[1, 3, 5, 7, 9]\n"
     ]
    }
   ],
   "source": [
    "test_input = '1 3 5 7 9'\n",
    "\n",
    "# 1. 띄어쓰기 기준으로 나눈다.\n",
    "test_input.split()\n",
    "# 2. 각 글자를 숫자로 바꾼다.\n",
    "map(int, test_input.split()) # test_input.split() 의 결과를 그대로 활용\n",
    "# 3. 리스트에 저장한다.\n",
    "result = list(map(int, test_input.split()))\n",
    "\n",
    "print(result)"
   ]
  },
  {
   "cell_type": "markdown",
   "id": "db4873ff-f65e-40bd-aefc-de1ccafae1c9",
   "metadata": {},
   "source": [
    "### filter\n",
    "- `filter(function, iterable)`\n",
    "- funtion의 결과에 따라 필터링해서 골라냄"
   ]
  },
  {
   "cell_type": "code",
   "execution_count": 59,
   "id": "cd6b0058-7328-4ec9-81d5-80bce97274d7",
   "metadata": {},
   "outputs": [
    {
     "name": "stdout",
     "output_type": "stream",
     "text": [
      "[1, 3, 5]\n"
     ]
    }
   ],
   "source": [
    "# 홀수 골라내기\n",
    "numbers = [1, 2, 3, 4, 5, 6]\n",
    "\n",
    "result = []\n",
    "for number in numbers:\n",
    "    if number % 2 == 1:\n",
    "        result.append(number)\n",
    "\n",
    "print(result)"
   ]
  },
  {
   "cell_type": "code",
   "execution_count": 58,
   "id": "9ecffc2f-8770-4d6b-b7ff-c7f68f9cea28",
   "metadata": {},
   "outputs": [],
   "source": [
    "def is_odd(x):\n",
    "    return x % 2"
   ]
  },
  {
   "cell_type": "code",
   "execution_count": 64,
   "id": "93e8b6cd-a1b3-47cb-b14d-712a8860e652",
   "metadata": {},
   "outputs": [
    {
     "name": "stdout",
     "output_type": "stream",
     "text": [
      "<filter object at 0x0000013732740730>\n",
      "[1, 3, 5]\n"
     ]
    }
   ],
   "source": [
    "result = filter(is_odd, numbers)\n",
    "print(result)\n",
    "print(list(result))"
   ]
  },
  {
   "cell_type": "code",
   "execution_count": 63,
   "id": "a8803cc6-873d-4463-805a-32c4c7927fab",
   "metadata": {},
   "outputs": [
    {
     "name": "stdout",
     "output_type": "stream",
     "text": [
      "<map object at 0x000001373273F0A0>\n",
      "[1, 0, 1, 0, 1, 0]\n"
     ]
    }
   ],
   "source": [
    "# map\n",
    "result = map(is_odd, numbers)\n",
    "print(result)\n",
    "print(list(result))"
   ]
  },
  {
   "cell_type": "markdown",
   "id": "a0459c98-f0e8-4273-b733-f86d45c880c5",
   "metadata": {},
   "source": [
    "### zip\n",
    "- `zip(iterable, iterable)` : 리스트의 같은 인덱스끼리 묶어서 합치는 함수\n",
    "- 각 리스트의 수가 맞지 않으면 가장 짧은 리스트를 기준으로 합친다."
   ]
  },
  {
   "cell_type": "code",
   "execution_count": 65,
   "id": "65d0b115-63fb-4f9f-8e74-d378d01971c5",
   "metadata": {},
   "outputs": [
    {
     "name": "stdout",
     "output_type": "stream",
     "text": [
      "<zip object at 0x0000013732C033C0>\n",
      "[(1, 100), (2, 200), (3, 300)]\n"
     ]
    }
   ],
   "source": [
    "a = [1, 2, 3]\n",
    "b = [100, 200, 300]\n",
    "\n",
    "result = zip(a, b)\n",
    "print(result)\n",
    "print(list(result))"
   ]
  }
 ],
 "metadata": {
  "kernelspec": {
   "display_name": "Python 3 (ipykernel)",
   "language": "python",
   "name": "python3"
  },
  "language_info": {
   "codemirror_mode": {
    "name": "ipython",
    "version": 3
   },
   "file_extension": ".py",
   "mimetype": "text/x-python",
   "name": "python",
   "nbconvert_exporter": "python",
   "pygments_lexer": "ipython3",
   "version": "3.13.2"
  }
 },
 "nbformat": 4,
 "nbformat_minor": 5
}
