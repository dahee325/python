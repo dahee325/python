{
 "cells": [
  {
   "cell_type": "markdown",
   "id": "d01b4e60-23d2-48cf-954c-06df221a9c7b",
   "metadata": {},
   "source": [
    "# 객체지향 프로그래밍(OOP)\n",
    "\n",
    "- 클래스(class) : 같은 종류의 집단에 속하는 **속성**과 **행동**을 **정의**한 것\n",
    "- 속성(attribute) : 클래스/인스턴스가 가지고 있는 데이터/값\n",
    "- 행위(method) : 클래스/인스턴스가 가지고 있는 함수/기능, 객체 안에 들어있으면 method라고 함\n",
    "- 인스턴스(instance) : 클래스를 실제로 메모리상에 할당한 것"
   ]
  },
  {
   "cell_type": "code",
   "execution_count": null,
   "id": "beb58f38-fd3b-4fde-8def-9c881d860fce",
   "metadata": {},
   "outputs": [],
   "source": [
    "number = 1 + 2j"
   ]
  },
  {
   "cell_type": "code",
   "execution_count": null,
   "id": "3c3cb584-2aed-4e49-b63e-0ceaec86fc23",
   "metadata": {},
   "outputs": [],
   "source": [
    "print(type(number)) # 복소수의 type은 complex"
   ]
  },
  {
   "cell_type": "code",
   "execution_count": null,
   "id": "6f962c7e-7279-4b4d-80e2-cb4f6a7ef153",
   "metadata": {},
   "outputs": [],
   "source": [
    "# 복소수 = 실수부 + 허수부\n",
    "print(number.real) # 복소수의 실수부\n",
    "print(number.imag) # 복소수의 허수부"
   ]
  },
  {
   "cell_type": "code",
   "execution_count": null,
   "id": "4ff1defe-836a-41cd-9e38-2b0c63855590",
   "metadata": {},
   "outputs": [],
   "source": [
    "numbers = [1, 2, 3]"
   ]
  },
  {
   "cell_type": "code",
   "execution_count": null,
   "id": "fc9662c6-085a-4ce1-b6c5-aed2d48b3958",
   "metadata": {},
   "outputs": [],
   "source": [
    "print(type(numbers))"
   ]
  },
  {
   "cell_type": "code",
   "execution_count": null,
   "id": "1fc2c5ab-c0fc-493c-9603-8301f690d5e1",
   "metadata": {},
   "outputs": [],
   "source": [
    "numbers.reverse()\n",
    "print(numbers)"
   ]
  },
  {
   "cell_type": "code",
   "execution_count": null,
   "id": "c999caad-441e-4940-be7c-223c36f09588",
   "metadata": {},
   "outputs": [],
   "source": [
    "# 핸드폰 만들기\n",
    "number = '010-1234-134'\n",
    "power = True\n",
    "phone_book = {\n",
    "    'kim': '010-1111-1111',\n",
    "    'park': '010-2222-2222',\n",
    "}\n",
    "\n",
    "def call(from_num, to_num):\n",
    "    print(f'{from_num}가 {to_num}한테 전화 거는중')\n",
    "\n",
    "call(number, phone_book['kim'])"
   ]
  },
  {
   "cell_type": "code",
   "execution_count": null,
   "id": "8e649e22-45ba-41e0-ae88-c26a4efb343a",
   "metadata": {},
   "outputs": [],
   "source": [
    "# 또 다른 사람의 핸드폰 만들기\n",
    "number_2 = '010-4321-4321'\n",
    "power = True\n",
    "phone_book_2 = {\n",
    "    'kim': '010-1111-1111',\n",
    "    'park': '010-2222-2222',\n",
    "}\n",
    "\n",
    "def call(from_num, to_num):\n",
    "    print(f'{from_num}가 {to_num}한테 전화 거는중')\n",
    "\n",
    "call(number_2, phone_book_2['kim'])\n",
    "\n",
    "# 여러대의 핸드폰을 만들 때 하나씩 만들면 번거로우니까 이걸 하나로 묶는 것이 클래스"
   ]
  },
  {
   "cell_type": "markdown",
   "id": "73c55615-169e-42d5-93c0-0fee34fe276c",
   "metadata": {},
   "source": [
    "## class\n",
    "- 데이터와 기능을 함께 묶는 방법을 제공\n",
    "\n",
    "- 클래스 선언/정의\n",
    "    - 함수를 정의할 때는 함수이름을 소문자로 쓰고 단어사이에 _를 사용했지만,\n",
    "      클래스에서는 단어의 첫글자를 대문자로 사용\n",
    "```python\n",
    "class ClassName():\n",
    "    attribute1 = value1,\n",
    "    attribute2 = value2,\n",
    "    ...\n",
    "\n",
    "    def method_name(self):\n",
    "        code\n",
    "\n",
    "    def method_name2(self):\n",
    "        code\n",
    "    ...\n",
    "\n",
    "\n",
    "```\n",
    "- 인스턴스화 (클래스 실행) , 함수와 실행방법 같음\n",
    "```python\n",
    "c = ClassName()\n",
    "```"
   ]
  },
  {
   "cell_type": "code",
   "execution_count": null,
   "id": "ef587bc9-dfe3-4830-bf09-b07799b2ce5f",
   "metadata": {},
   "outputs": [],
   "source": [
    "# 선언(정의)\n",
    "class MyClass():\n",
    "    name = 'kim' # name이라는 정보를 가짐\n",
    "\n",
    "    def hello(self): # hello라는 기능을 가짐\n",
    "        return 'hihi'"
   ]
  },
  {
   "cell_type": "code",
   "execution_count": null,
   "id": "54aee6ea-552f-410d-ac63-8ea9a9f1e603",
   "metadata": {},
   "outputs": [],
   "source": [
    "# 인스턴스화\n",
    "m = MyClass()"
   ]
  },
  {
   "cell_type": "code",
   "execution_count": null,
   "id": "5be0ace9-94ba-4193-89bf-ef037b0bf913",
   "metadata": {},
   "outputs": [],
   "source": [
    "print(m)\n",
    "print(type(m))"
   ]
  },
  {
   "cell_type": "code",
   "execution_count": null,
   "id": "5184f084-c20e-4ef8-856b-c61054285140",
   "metadata": {},
   "outputs": [],
   "source": [
    "print(m.name) # 클래스 m안의 정보인 name 출력\n",
    "print(m.hello()) # 클래스 m안의 기능(함수) hello 출력"
   ]
  },
  {
   "cell_type": "code",
   "execution_count": null,
   "id": "38a925bd-1b1b-448a-b2ec-e646333d01cf",
   "metadata": {},
   "outputs": [],
   "source": [
    "m2 = MyClass()\n",
    "print(m2.name)\n",
    "print(m2.hello())"
   ]
  },
  {
   "cell_type": "code",
   "execution_count": null,
   "id": "bbfa4b7e-ea30-4a73-be27-bfeb13ef5f32",
   "metadata": {},
   "outputs": [],
   "source": [
    "m2.name = 'park'\n",
    "\n",
    "print(m.name)\n",
    "print(m2.name)"
   ]
  },
  {
   "cell_type": "code",
   "execution_count": null,
   "id": "deaf39c0-7c12-456c-93aa-50b2f1e517d2",
   "metadata": {},
   "outputs": [],
   "source": [
    "# 클래스 안의 함수는 첫번째 인자로 반드시 self을 갖고있어야함\n",
    "\n",
    "class Phone():\n",
    "    power = False\n",
    "    number = '010-0000-0000'\n",
    "    book = {}\n",
    "    model = ''\n",
    "\n",
    "    def on(self):\n",
    "        if self.power == False:\n",
    "            self.power = True\n",
    "\n",
    "    def off(self):\n",
    "        if self.power == True:\n",
    "            self.power = False\n",
    "\n",
    "    def call(self, target):\n",
    "        if self.power == True:\n",
    "            print(f'{self.number}가 {target.number}한테 전화거는중...')\n",
    "        else:\n",
    "            print('핸드폰이 꺼져있습니다.')"
   ]
  },
  {
   "cell_type": "code",
   "execution_count": null,
   "id": "bd163ff4-5527-4ee9-ab2f-8c6bb1ad4e87",
   "metadata": {},
   "outputs": [],
   "source": [
    "my_phone = Phone()\n",
    "your_phone = Phone()"
   ]
  },
  {
   "cell_type": "code",
   "execution_count": null,
   "id": "a2a58bf8-08cb-43f5-a690-c6715ae6f714",
   "metadata": {},
   "outputs": [],
   "source": [
    "my_phone.number"
   ]
  },
  {
   "cell_type": "code",
   "execution_count": null,
   "id": "a92cfa04-7bb5-4aaf-b63a-cc7aa3398f59",
   "metadata": {},
   "outputs": [],
   "source": [
    "your_phone.number"
   ]
  },
  {
   "cell_type": "code",
   "execution_count": null,
   "id": "3c2576d6-ad38-4cfe-87d8-db66d4466251",
   "metadata": {},
   "outputs": [],
   "source": [
    "my_phone.number = '010-1234-1234'\n",
    "print(my_phone.number)"
   ]
  },
  {
   "cell_type": "code",
   "execution_count": null,
   "id": "523dbe3d-cd41-4610-8c02-b2833be6373b",
   "metadata": {},
   "outputs": [],
   "source": [
    "my_phone.on()"
   ]
  },
  {
   "cell_type": "code",
   "execution_count": null,
   "id": "5bfc1b7f-f17c-4e95-8d0b-f003c19d2446",
   "metadata": {},
   "outputs": [],
   "source": [
    "my_phone.power"
   ]
  },
  {
   "cell_type": "code",
   "execution_count": null,
   "id": "92c2248a-d550-441c-a274-6afa3e4a2076",
   "metadata": {},
   "outputs": [],
   "source": [
    "your_phone.power"
   ]
  },
  {
   "cell_type": "code",
   "execution_count": null,
   "id": "63e15e86-c6cc-4d61-bc50-382bce16988b",
   "metadata": {},
   "outputs": [],
   "source": [
    "my_phone.call(your_phone)"
   ]
  },
  {
   "cell_type": "code",
   "execution_count": null,
   "id": "361e58da-24b5-4458-bdab-39660efcedd8",
   "metadata": {},
   "outputs": [],
   "source": [
    "your_phone.call(my_phone)"
   ]
  },
  {
   "cell_type": "code",
   "execution_count": null,
   "id": "ac00a5e1-0ab3-432c-9ece-5eabafe7e713",
   "metadata": {},
   "outputs": [],
   "source": [
    "class Person():\n",
    "    name = ''\n",
    "    gender = ''\n",
    "    age = 0\n",
    "    height = 0\n",
    "\n",
    "    def greeting(self):\n",
    "        print(f'안녕하세요. 나는 {self.name}입니다.')\n",
    "\n",
    "    def grow(self):\n",
    "        self.age += 1"
   ]
  },
  {
   "cell_type": "code",
   "execution_count": null,
   "id": "5b88d38f-61f3-409a-9cdd-0f67589a0aaf",
   "metadata": {},
   "outputs": [],
   "source": [
    "p1 = Person()\n",
    "p2 = Person()"
   ]
  },
  {
   "cell_type": "code",
   "execution_count": null,
   "id": "c8b8035f-14fa-4582-86c7-3c4307cb3531",
   "metadata": {},
   "outputs": [],
   "source": [
    "print(p1.name, p2.name) # 아직 값을 할당하지 않아서 아무것도 출력되지 않음"
   ]
  },
  {
   "cell_type": "code",
   "execution_count": null,
   "id": "bdeb72f6-a32b-4c03-8296-601cf77cd637",
   "metadata": {},
   "outputs": [],
   "source": [
    "# p1, p2에 값 할당\n",
    "\n",
    "p1.name = 'hong'\n",
    "p2.name = 'kim'\n",
    "\n",
    "p1.gender = 'F'\n",
    "p2.gender = 'M'\n",
    "\n",
    "p1.age = 20\n",
    "p2.age = 30\n",
    "\n",
    "p1.height = 170\n",
    "p2.height = 180"
   ]
  },
  {
   "cell_type": "code",
   "execution_count": null,
   "id": "0d5e8d27-4e43-479c-a4aa-3e39136886ee",
   "metadata": {},
   "outputs": [],
   "source": [
    "Person.greeting(p1)\n",
    "p1.greeting() # 위와 같은 코드, p1이 먼저 언급됐기 때문에 괄호 안에 p1이 생략되어있음"
   ]
  },
  {
   "cell_type": "code",
   "execution_count": null,
   "id": "d21bccf8-9e89-4e0a-a0af-71be3cb6e22d",
   "metadata": {},
   "outputs": [],
   "source": [
    "p2.greeting()"
   ]
  },
  {
   "cell_type": "markdown",
   "id": "23b11daa-6fbd-4070-8560-aac73fe0cdb8",
   "metadata": {},
   "source": [
    "## 생성자, 소멸자\n",
    "```python\n",
    "class MyClass():\n",
    "\n",
    "    def __init__(self): # 생성자\n",
    "        pass\n",
    "    def __del__(self): # 소멸자\n",
    "        pass\n",
    "```"
   ]
  },
  {
   "cell_type": "code",
   "execution_count": null,
   "id": "25e9570a-2020-4444-87e9-48aba61f4027",
   "metadata": {},
   "outputs": [],
   "source": [
    "class Person():\n",
    "    name = ''\n",
    "\n",
    "    def __init__(self, name):\n",
    "        self.name = name\n",
    "        print('생성됨')\n",
    "\n",
    "    def __del__(self):\n",
    "        print('소멸됨')"
   ]
  },
  {
   "cell_type": "code",
   "execution_count": null,
   "id": "ef36023e-6099-4871-93c1-b282b3650203",
   "metadata": {},
   "outputs": [],
   "source": [
    "# p1 = Person() - 클래스 Person의 함수 __init__의 인자인 name을 입력하지않아 오류\n",
    "p1 = Person('yang') # => Person.__init__(p1, 'yang')\n",
    "p2 = Person('park')"
   ]
  },
  {
   "cell_type": "code",
   "execution_count": null,
   "id": "ec09009a-9a6f-4b34-8388-72728b27d4b8",
   "metadata": {},
   "outputs": [],
   "source": [
    "del p1"
   ]
  },
  {
   "cell_type": "code",
   "execution_count": null,
   "id": "b42c0be4-e016-4ce0-b58b-f14230c34101",
   "metadata": {},
   "outputs": [],
   "source": [
    "del p2"
   ]
  },
  {
   "cell_type": "code",
   "execution_count": null,
   "id": "31002198-5218-4d63-8f07-f5fa4d2eb45d",
   "metadata": {},
   "outputs": [],
   "source": [
    "class Circle():\n",
    "    pi = 3.14\n",
    "    \n",
    "    def __init__(self, r, x=0, y=0): # x=0, y=0 은 데이터를 넣지 않았을 때 (0, 0)을 기본값으로 함\n",
    "        self.r = r\n",
    "        self.x = x\n",
    "        self.y = y\n",
    "\n",
    "    def info(self):\n",
    "        print(f'반지름: {self.r}, 중심점: {self.x}, {self.y}')\n",
    "\n",
    "    def area(self):\n",
    "        return self.r ** 2 * self.pi # area에 없으면 그 상위인 class에 가서 pi를 찾아 반환\n",
    "\n",
    "    def round(self):\n",
    "        return self.r * self.pi * 2\n",
    "\n",
    "    def move(self, x, y):\n",
    "        self.x = x\n",
    "        self.y = y"
   ]
  },
  {
   "cell_type": "code",
   "execution_count": null,
   "id": "ae7f90c8-49fd-40b1-b075-b646565f2938",
   "metadata": {},
   "outputs": [],
   "source": [
    "c1 = Circle(5)\n",
    "c2 = Circle(3, 1, 1)"
   ]
  },
  {
   "cell_type": "code",
   "execution_count": null,
   "id": "b9373c39-23c7-4e42-a669-c0707b43a258",
   "metadata": {},
   "outputs": [],
   "source": [
    "c1.info()\n",
    "c2.info()"
   ]
  },
  {
   "cell_type": "code",
   "execution_count": null,
   "id": "667d081e-f3fb-4142-80fd-2cddc287c536",
   "metadata": {},
   "outputs": [],
   "source": [
    "print(c1.area())\n",
    "print(c2.area())"
   ]
  },
  {
   "cell_type": "code",
   "execution_count": null,
   "id": "f427279e-6b01-4a4b-9520-e67f25e88e6e",
   "metadata": {},
   "outputs": [],
   "source": [
    "print(c1.round())\n",
    "print(c2.round())"
   ]
  },
  {
   "cell_type": "code",
   "execution_count": null,
   "id": "b74651bb-40c5-4498-9ecb-0e86a557e141",
   "metadata": {},
   "outputs": [],
   "source": [
    "c1.move(100, 100)\n",
    "c1.info()"
   ]
  },
  {
   "cell_type": "code",
   "execution_count": null,
   "id": "76c58565-c65d-41e2-9927-ec8851dc16c8",
   "metadata": {},
   "outputs": [],
   "source": [
    "class Point():\n",
    "    def __init__(self, x, y):\n",
    "        self.x = x\n",
    "        self.y = y\n",
    "    def info(self):\n",
    "        print(f'{self.x}, {self.y}')"
   ]
  },
  {
   "cell_type": "code",
   "execution_count": null,
   "id": "6b8514f5-17ad-4f84-af23-c78d1baa018a",
   "metadata": {},
   "outputs": [],
   "source": [
    "p1 = Point(1, 1)\n",
    "p2 = Point(2, 3)"
   ]
  },
  {
   "cell_type": "code",
   "execution_count": null,
   "id": "609da317-f012-44b4-aeaf-f88666d70af7",
   "metadata": {},
   "outputs": [],
   "source": [
    "p1.info()\n",
    "p2.info()"
   ]
  },
  {
   "cell_type": "code",
   "execution_count": null,
   "id": "adbaeb56-ad0f-4209-bcd8-4ca85f80367a",
   "metadata": {},
   "outputs": [],
   "source": [
    "class Circle():\n",
    "    def __init__(self, r, point):\n",
    "        self.r = r\n",
    "        self.point = point\n",
    "\n",
    "    def info(self):\n",
    "        print(f'반지름: {self.r}, 중심점: {self.point.x}, {self.point.y}')"
   ]
  },
  {
   "cell_type": "code",
   "execution_count": null,
   "id": "b5e2c48b-aac5-44f1-92b1-467a92d262ed",
   "metadata": {},
   "outputs": [],
   "source": [
    "c1 = Circle(10, p1)\n",
    "c2 = Circle(5, p2)"
   ]
  },
  {
   "cell_type": "code",
   "execution_count": null,
   "id": "fd1cddc2-fae1-4968-995f-ab42fad68128",
   "metadata": {},
   "outputs": [],
   "source": [
    "c1.info()"
   ]
  },
  {
   "cell_type": "code",
   "execution_count": null,
   "id": "e20b0f86-b248-4eda-9c77-d17e173cdf3e",
   "metadata": {},
   "outputs": [],
   "source": [
    "['a', 'b', 'c'].pop().capitalize()"
   ]
  },
  {
   "cell_type": "markdown",
   "id": "4965733a-35c4-4eef-a985-6aa8f017de72",
   "metadata": {},
   "source": [
    "## 클래스 변수 / 인스턴스 변수\n",
    "\n",
    "- 클래스 변수 : 클래스 선언 블록 최상단에 위치\n",
    "- 인스턴스 변수 : 인스턴스 내부에서 생성한 변수\n",
    "- 각각 독립적인 영역을 가짐\n",
    "```python\n",
    "class MyClass():\n",
    "    class_variable = '클래스변수'\n",
    "\n",
    "    def __init__(self):\n",
    "        self.instance_variable = '인스턴스변수'\n",
    "```"
   ]
  },
  {
   "cell_type": "code",
   "execution_count": null,
   "id": "b197054d-8b52-4556-85e6-43b13d295d9b",
   "metadata": {},
   "outputs": [],
   "source": [
    "class Person():\n",
    "    name = 'hong'\n",
    "    age = 10\n",
    "\n",
    "    def __init__(self, name):\n",
    "        self.name = name"
   ]
  },
  {
   "cell_type": "code",
   "execution_count": null,
   "id": "cf85ae2d-4b0a-40c4-9616-16c55798a335",
   "metadata": {},
   "outputs": [],
   "source": [
    "p1 = Person('yang')\n",
    "print(p1.name)\n",
    "print(p1.age)"
   ]
  },
  {
   "cell_type": "markdown",
   "id": "3be5be2e-5369-4a59-b351-eac328fe41f2",
   "metadata": {},
   "source": [
    "### 클래스 메소드 / 인스턴스 메소드 / 스태틱메소드\n",
    "```python\n",
    "class MyClass():\n",
    "\n",
    "    def instance_method(self): # 인스턴스 메소드\n",
    "        pass\n",
    "\n",
    "    @classmethod\n",
    "    def class_method(cls): # 클래스 메소드\n",
    "        pass\n",
    "\n",
    "    @staticmethod\n",
    "    def static_method(): # 스태틱 메소드 : 클래스/인스턴스변수 둘 다 접근할 필요가 없을 경우 사용\n",
    "        pass\n",
    "```"
   ]
  },
  {
   "cell_type": "markdown",
   "id": "0acbb819-1337-44cb-830d-af9b674d91c5",
   "metadata": {},
   "source": [
    "- 클래스\n",
    "    - 데이터/변수/속성/attribute\n",
    "        - 클래스 변수\n",
    "        - 인스턴스 변수\n",
    "    - 기능/동작/함수/method\n",
    "        - 클래스 변수에 접근하려면 클래스 메소드 사용\n",
    "        - 인스턴스 변수에 접근하려면 인스턴 스메소드 사용\n",
    "        - 둘 다 필요없는 경우 스태틱 메소드 사용"
   ]
  },
  {
   "cell_type": "code",
   "execution_count": null,
   "id": "b60c0e4d-e587-4ca3-93a9-f9ee45301405",
   "metadata": {},
   "outputs": [],
   "source": [
    "class MyClass():\n",
    "    def instance_method(self):\n",
    "        print(self)\n",
    "\n",
    "    @classmethod\n",
    "    def class_method(cls):\n",
    "        print(cls)\n",
    "\n",
    "    @staticmethod\n",
    "    def static_method():\n",
    "        print('static')"
   ]
  },
  {
   "cell_type": "code",
   "execution_count": null,
   "id": "ff7f9ea1-67a9-4ed2-9338-56d99976139b",
   "metadata": {},
   "outputs": [],
   "source": [
    "mc = MyClass()\n",
    "mc.instance_method() # self출력\n",
    "print(mc) # self : 내가 인스턴스화한 내 자신을 의미"
   ]
  },
  {
   "cell_type": "code",
   "execution_count": null,
   "id": "2b52a937-e0fb-4372-a398-58525a84eca8",
   "metadata": {},
   "outputs": [],
   "source": [
    "mc.class_method() # cls출력\n",
    "print(MyClass)"
   ]
  },
  {
   "cell_type": "code",
   "execution_count": null,
   "id": "f9bebf84-9cd7-4e40-bb53-6b99f2b39572",
   "metadata": {},
   "outputs": [],
   "source": [
    "mc.static_method()"
   ]
  },
  {
   "cell_type": "code",
   "execution_count": null,
   "id": "feda913f-9c71-4d19-b863-7f5d6e2813a6",
   "metadata": {},
   "outputs": [],
   "source": [
    "class Puppy():\n",
    "    num_of_puppy = 0\n",
    "    \n",
    "    def __init__(self, name):\n",
    "        self.name = name\n",
    "        Puppy.num_of_puppy += 1\n",
    "\n",
    "    @classmethod # class 데이터를 사용할 때\n",
    "    def info(cls): #내가 접근하고싶은 num_of_puppy에 접근하기 위해 @classmethod를 사용해서 호출\n",
    "        print(f'현재 강아지는 {cls.num_of_puppy}마리입니다.')\n",
    "\n",
    "    def bark(self):\n",
    "        print(f'멍멍! {self.name}입니다.')\n",
    "\n",
    "    @staticmethod\n",
    "    def bark2():\n",
    "        print('왈왈!')"
   ]
  },
  {
   "cell_type": "code",
   "execution_count": null,
   "id": "eeab553c-276e-43c1-baa4-854fb7f411d3",
   "metadata": {},
   "outputs": [],
   "source": [
    "p1 = Puppy('초코')\n",
    "p2 = Puppy('구름')\n",
    "p3 = Puppy('인절미')\n",
    "\n",
    "Puppy.info()"
   ]
  },
  {
   "cell_type": "code",
   "execution_count": null,
   "id": "c0cf34b5-14ba-4aa0-8335-f23f4ae1553e",
   "metadata": {},
   "outputs": [],
   "source": [
    "p1.bark()\n",
    "p2.bark()"
   ]
  },
  {
   "cell_type": "code",
   "execution_count": null,
   "id": "8c1ab2cd-d583-42ae-921d-15011b2fdf2d",
   "metadata": {},
   "outputs": [],
   "source": [
    "p1.bark2()\n",
    "p2.bark2()"
   ]
  },
  {
   "cell_type": "markdown",
   "id": "919ca43f-59ae-4acb-a891-4fccd8315c8a",
   "metadata": {},
   "source": [
    "## 상속"
   ]
  },
  {
   "cell_type": "code",
   "execution_count": null,
   "id": "d377b0dd-e7c5-4285-abe3-0a0ef4692f82",
   "metadata": {},
   "outputs": [],
   "source": [
    "class Person():\n",
    "    ident = ''\n",
    "\n",
    "    def __init__(self, name):\n",
    "        self.name = name\n",
    "\n",
    "    def greeting(self):\n",
    "        print(f'안녕하세요 저는 {self.name}입니다.')"
   ]
  },
  {
   "cell_type": "code",
   "execution_count": null,
   "id": "43d4ae0d-7345-4e3b-a952-fb4520cac070",
   "metadata": {},
   "outputs": [],
   "source": [
    "p1 = Person('hong')\n",
    "p2 = Person('kim')"
   ]
  },
  {
   "cell_type": "code",
   "execution_count": null,
   "id": "f0e8812b-3038-4944-bc78-506771b67f8e",
   "metadata": {},
   "outputs": [],
   "source": [
    "p1.greeting()\n",
    "p2.greeting()"
   ]
  },
  {
   "cell_type": "code",
   "execution_count": null,
   "id": "f9e6a756-6659-4e5d-87e4-f0dfd073a96c",
   "metadata": {},
   "outputs": [],
   "source": [
    "p1.ident = '999999-111111'\n",
    "p1.ident"
   ]
  },
  {
   "cell_type": "code",
   "execution_count": null,
   "id": "6f6b5768-f56f-4cdb-aa51-065183fd000f",
   "metadata": {},
   "outputs": [],
   "source": [
    "class Soldier(Person):\n",
    "\n",
    "    #     ident = ''\n",
    "\n",
    "    # def __init__(self, name):\n",
    "    #     self.name = name\n",
    "\n",
    "    # def greeting(self):\n",
    "    #     print(f'안녕하세요 저는 {self.name}입니다.')\n",
    "        \n",
    "    def soldier_greeting(self):\n",
    "    # def greeting(self): # 부모 클래스에 있는 함수이름과 같은 이름의 함수를 만든다면 자식클래스의 함수로 덮어씌워진다.\n",
    "        print(f'충성! {self.name}입니다.')"
   ]
  },
  {
   "cell_type": "code",
   "execution_count": null,
   "id": "2015c1df-3cd0-4543-bd73-4ffc495fe8ce",
   "metadata": {},
   "outputs": [],
   "source": [
    "s1 = Soldier('굳건이')\n",
    "s1.greeting()\n",
    "s1.soldier_greeting()"
   ]
  },
  {
   "cell_type": "code",
   "execution_count": null,
   "id": "8b273802-a7e0-4dda-b99e-28dfd80ee89e",
   "metadata": {},
   "outputs": [],
   "source": [
    "s1.ident = '25-12341234'\n",
    "s1.ident"
   ]
  },
  {
   "cell_type": "code",
   "execution_count": null,
   "id": "dd09503a-8b17-47e9-a231-c890c1321098",
   "metadata": {},
   "outputs": [],
   "source": [
    "class Person():\n",
    "    def __init__(self, name, age, email, phone):\n",
    "        self.name = name\n",
    "        self.age = age\n",
    "        self.email = email\n",
    "        self.phone = phone\n",
    "\n",
    "class student(Person):\n",
    "    def __init__(self, name, age, email, phone, student_id): # student_id 추가\n",
    "        super().__init__(name, age, email, phone) # `super().함수` : 자식클래스에서 부모클래스의 함수를 실행\n",
    "        self.student_id = student_id"
   ]
  },
  {
   "cell_type": "markdown",
   "id": "1d054cd7-46e1-4b7d-874c-aa17a4b9eda2",
   "metadata": {},
   "source": [
    "### 다중상속\n",
    "여러개의 부모클래스를 가짐"
   ]
  },
  {
   "cell_type": "code",
   "execution_count": null,
   "id": "893b40e0-440a-44c4-989b-05e1679dd261",
   "metadata": {},
   "outputs": [],
   "source": [
    "class Person():\n",
    "    def __init__(self, name):\n",
    "        self.name = name\n",
    "\n",
    "    def breath(self):\n",
    "        print('후하')"
   ]
  },
  {
   "cell_type": "code",
   "execution_count": null,
   "id": "94656cce-71b5-45e0-8f61-606899bf5c82",
   "metadata": {},
   "outputs": [],
   "source": [
    "class Mom(Person):\n",
    "    gene = 'xx'\n",
    "\n",
    "    def swim(self):\n",
    "        print('어푸어푸')"
   ]
  },
  {
   "cell_type": "code",
   "execution_count": null,
   "id": "692dfc17-97b8-4967-b624-b08fe2c19715",
   "metadata": {},
   "outputs": [],
   "source": [
    "class Dad(Person):\n",
    "    gene = 'xy'\n",
    "\n",
    "    def run (self):\n",
    "        print('다다다')"
   ]
  },
  {
   "cell_type": "code",
   "execution_count": null,
   "id": "69598720-dfa8-4df1-a15c-9d90132e2c04",
   "metadata": {},
   "outputs": [],
   "source": [
    "class Child(Dad, Mom): # 형태가 다이아몬드라 다이아몬드 상속이라고 함\n",
    "    pass"
   ]
  },
  {
   "cell_type": "code",
   "execution_count": null,
   "id": "5ac714fc-a232-4b7d-8515-3b76241b53f8",
   "metadata": {},
   "outputs": [],
   "source": [
    "c = Child('금쪽이')\n",
    "c.breath()\n",
    "c.run()\n",
    "c.swim()"
   ]
  },
  {
   "cell_type": "code",
   "execution_count": null,
   "id": "7b6ac3be-ae7e-4a05-8d36-2c6c1edc8870",
   "metadata": {},
   "outputs": [],
   "source": [
    "c.gene # 함수의 이름이 겹친다면 상속할 때 먼저 입력한 클래스의 함수를 가져옴"
   ]
  },
  {
   "cell_type": "code",
   "execution_count": 19,
   "id": "5dfa9491-d3f2-4936-8535-996609a38082",
   "metadata": {},
   "outputs": [],
   "source": [
    "import random\n",
    "\n",
    "# 포켓몬 클래스 정의\n",
    "class Pokemon:\n",
    "    def __init__(self, name, level=5):\n",
    "        self.name = name            # 포켓몬 이름\n",
    "        self.level = level          # 포켓몬 레벨 (기본값 5)\n",
    "        self.hp = level * 10        # 체력은 레벨에 따라 결정 (예: 레벨 5면 체력 50)\n",
    "\n",
    "    def attack(self, opponent):\n",
    "        # 간단한 공격: 데미지는 레벨과 1부터 3 사이의 랜덤 숫자를 곱해 결정합니다.\n",
    "        damage = self.level * random.randint(1, 3)\n",
    "        print(f\"{self.name}이(가) {opponent.name}에게 {damage}의 데미지를 입혔습니다!\")\n",
    "        opponent.hp -= damage\n",
    "\n",
    "    def is_knocked_out(self):\n",
    "        # 체력이 0 이하이면 쓰러진 것으로 간주\n",
    "        return self.hp <= 0\n",
    "\n",
    "    def status(self):\n",
    "        # 현재 상태(이름과 체력)를 출력하는 메서드\n",
    "        print(f\"{self.name} - 체력: {self.hp}\")\n",
    "\n",
    "# 포켓몬 객체 생성 (타입 정보를 제거)\n",
    "kobugi = Pokemon(\"꼬부기\", level=5)\n",
    "pairi = Pokemon(\"파이리\", level=5)\n"
   ]
  },
  {
   "cell_type": "code",
   "execution_count": 20,
   "id": "024cc597-556a-4a1e-9437-570c29dda4d3",
   "metadata": {},
   "outputs": [
    {
     "name": "stdout",
     "output_type": "stream",
     "text": [
      "배틀 시작!\n",
      "꼬부기이(가) 파이리에게 15의 데미지를 입혔습니다!\n",
      "파이리이(가) 꼬부기에게 15의 데미지를 입혔습니다!\n",
      "꼬부기 - 체력: 35\n",
      "파이리 - 체력: 35\n",
      "----------\n",
      "꼬부기이(가) 파이리에게 5의 데미지를 입혔습니다!\n",
      "파이리이(가) 꼬부기에게 10의 데미지를 입혔습니다!\n",
      "꼬부기 - 체력: 25\n",
      "파이리 - 체력: 30\n",
      "----------\n",
      "꼬부기이(가) 파이리에게 5의 데미지를 입혔습니다!\n",
      "파이리이(가) 꼬부기에게 5의 데미지를 입혔습니다!\n",
      "꼬부기 - 체력: 20\n",
      "파이리 - 체력: 25\n",
      "----------\n",
      "꼬부기이(가) 파이리에게 10의 데미지를 입혔습니다!\n",
      "파이리이(가) 꼬부기에게 10의 데미지를 입혔습니다!\n",
      "꼬부기 - 체력: 10\n",
      "파이리 - 체력: 15\n",
      "----------\n",
      "꼬부기이(가) 파이리에게 5의 데미지를 입혔습니다!\n",
      "파이리이(가) 꼬부기에게 15의 데미지를 입혔습니다!\n",
      "꼬부기가 쓰러졌습니다! 파이리 승리!\n"
     ]
    }
   ],
   "source": [
    "# 배틀 시뮬레이션 시작\n",
    "print(\"배틀 시작!\")\n",
    "while True:\n",
    "    # 꼬부기가 파이리를 공격\n",
    "    kobugi.attack(pairi)\n",
    "    if pairi.is_knocked_out():\n",
    "        print(f\"{pairi.name}가 쓰러졌습니다! {kobugi.name} 승리!\")\n",
    "        break\n",
    "\n",
    "    # 파이리가 꼬부기를 공격\n",
    "    pairi.attack(kobugi)\n",
    "    if kobugi.is_knocked_out():\n",
    "        print(f\"{kobugi.name}가 쓰러졌습니다! {pairi.name} 승리!\")\n",
    "        break\n",
    "\n",
    "    # 각 포켓몬의 현재 체력을 출력\n",
    "    kobugi.status()\n",
    "    pairi.status()\n",
    "    print(\"----------\")"
   ]
  },
  {
   "cell_type": "code",
   "execution_count": 33,
   "id": "91af5153-41a1-477f-a565-2ab5f552b2fd",
   "metadata": {},
   "outputs": [],
   "source": [
    "# 카트라이더(목표 주행거리를 먼저 채우면 승리)\n",
    "\n",
    "import random\n",
    "\n",
    "class KartRider:\n",
    "    \n",
    "    def __init__(self, name, level=1, distance = 100, drive = 0):\n",
    "        self.name = name            # 캐릭터 이름\n",
    "        self.level = level          # 카트의 레벨(기본값 1)\n",
    "        self.speed = level * 10       # 속도는 카트의 레벨에 따라 결정\n",
    "        self.distance = distance    # 목표 주행거리 (기본값 100)\n",
    "        self.drive = drive          # 주행거리 (기본값 0)\n",
    "\n",
    "    def run(self):\n",
    "        # 전진 : 남은 주행거리는 남은 주행거리에서 속도만큼 뺀 거리로 표현\n",
    "        self.drive += self.speed\n",
    "        \n",
    "    def attack(self, opponent):\n",
    "        # 아이템 중 공격 : 데미지는 레벨에 1부터 5 사이의 랜덤한 숫자를 곱해 결정\n",
    "        damage = self.level * random.randint(1, 5)\n",
    "        print(f'{self.name}가(이) {opponent.name}에게 {damage}의 데미지를 입혔습니다!')\n",
    "        # 주행거리가 데미지만큼 감소\n",
    "        opponent.drive -= damage\n",
    "    \n",
    "    def booster(self):\n",
    "        # 아이템 중 보너스 : 부스터는 레벨에 1부터 10 사이의 랜덤한 숫자를 곱해 결정\n",
    "        booster = self.level * random.randint(1, 10)\n",
    "        print(f'{self.name}가(이) {booster}만큼 앞으로 이동했습니다!')\n",
    "        # 주행 거리가 보너스만큼 증가\n",
    "        self.drive += booster\n",
    "\n",
    "    def win(self):\n",
    "        # 남은 주행거리가 0이하면 승리\n",
    "        return (self.distance - self.drive) <= 0\n",
    "            # print(f'{self.name} 승리!')\n",
    "\n",
    "        \n",
    "    def status(self):\n",
    "        # 현재 상태(이름과 남은 주행거리)를 출력\n",
    "        print(f'{self.name} - 남은 주행거리: {self.distance - self.drive}')"
   ]
  },
  {
   "cell_type": "code",
   "execution_count": 34,
   "id": "4113368c-87e4-46f5-a3d9-31f791e52521",
   "metadata": {},
   "outputs": [],
   "source": [
    "# 캐릭터 생성\n",
    "mario = KartRider('마리오')\n",
    "luigi = KartRider('루이지')"
   ]
  },
  {
   "cell_type": "code",
   "execution_count": 35,
   "id": "b0f3ff68-7d6a-44ff-8b3a-dee4c163bafc",
   "metadata": {},
   "outputs": [
    {
     "name": "stdout",
     "output_type": "stream",
     "text": [
      "경기 시작!\n",
      "마리오가(이) 루이지에게 5의 데미지를 입혔습니다!\n",
      "마리오가(이) 10만큼 앞으로 이동했습니다!\n",
      "마리오 - 남은 주행거리: 80\n",
      "루이지 - 남은 주행거리: 95\n",
      "----------------\n",
      "루이지가(이) 마리오에게 5의 데미지를 입혔습니다!\n",
      "루이지가(이) 9만큼 앞으로 이동했습니다!\n",
      "마리오 - 남은 주행거리: 75\n",
      "루이지 - 남은 주행거리: 76\n",
      "----------------\n",
      "루이지가(이) 마리오에게 3의 데미지를 입혔습니다!\n",
      "루이지가(이) 1만큼 앞으로 이동했습니다!\n",
      "마리오 - 남은 주행거리: 68\n",
      "루이지 - 남은 주행거리: 65\n",
      "----------------\n",
      "마리오가(이) 루이지에게 1의 데미지를 입혔습니다!\n",
      "루이지가(이) 3만큼 앞으로 이동했습니다!\n",
      "마리오 - 남은 주행거리: 58\n",
      "루이지 - 남은 주행거리: 53\n",
      "----------------\n",
      "루이지가(이) 마리오에게 4의 데미지를 입혔습니다!\n",
      "루이지가(이) 7만큼 앞으로 이동했습니다!\n",
      "마리오 - 남은 주행거리: 52\n",
      "루이지 - 남은 주행거리: 36\n",
      "----------------\n",
      "마리오가(이) 루이지에게 4의 데미지를 입혔습니다!\n",
      "루이지가(이) 4만큼 앞으로 이동했습니다!\n",
      "마리오 - 남은 주행거리: 42\n",
      "루이지 - 남은 주행거리: 26\n",
      "----------------\n",
      "마리오가(이) 루이지에게 1의 데미지를 입혔습니다!\n",
      "마리오가(이) 5만큼 앞으로 이동했습니다!\n",
      "마리오 - 남은 주행거리: 27\n",
      "루이지 - 남은 주행거리: 17\n",
      "----------------\n",
      "루이지가(이) 마리오에게 5의 데미지를 입혔습니다!\n",
      "루이지가(이) 2만큼 앞으로 이동했습니다!\n",
      "마리오 - 남은 주행거리: 22\n",
      "루이지 - 남은 주행거리: 5\n",
      "----------------\n",
      "루이지 승리!\n"
     ]
    }
   ],
   "source": [
    "print('경기 시작!')\n",
    "\n",
    "import random\n",
    "\n",
    "while True:\n",
    "    mario.run()\n",
    "    if mario.win():\n",
    "            print(f'{mario.name} 승리!')\n",
    "            break\n",
    "    luigi.run()\n",
    "    if luigi.win():\n",
    "            print(f'{luigi.name} 승리!')\n",
    "            break\n",
    "    \n",
    "    # 0, 1 중에 하나를 랜덤으로 뽑아 0이면 마리오가 루이지 공격\n",
    "    if random.randint(0, 1) == 0:\n",
    "        mario.attack(luigi)\n",
    "        if mario.win():\n",
    "            print(f'{mario.name} 승리!')\n",
    "            break\n",
    "    # 1이면 루이지가 마리오 공격\n",
    "    else:\n",
    "        luigi.attack(mario)\n",
    "        if luigi.win():\n",
    "            print(f'{luigi.name} 승리!')\n",
    "            break\n",
    "\n",
    "    # 0, 1 중에 하나를 랜덤으로 뽑아 0이면 마리오가 보너스거리 획득\n",
    "    if random.randint(0, 1) == 0:\n",
    "        mario.booster()\n",
    "        if mario.win():\n",
    "            print(f'{mario.name} 승리!')\n",
    "            break\n",
    "    # 1이면 루이지가 보너스거리 획득\n",
    "    else:\n",
    "        luigi.booster()\n",
    "        if luigi.win():\n",
    "            print(f'{luigi.name} 승리!')\n",
    "            break\n",
    "\n",
    "    mario.status()\n",
    "    luigi.status()\n",
    "    print('----------------')"
   ]
  },
  {
   "cell_type": "code",
   "execution_count": null,
   "id": "b209c06c-5813-4b53-9f3f-ed53c77f565b",
   "metadata": {},
   "outputs": [],
   "source": []
  }
 ],
 "metadata": {
  "kernelspec": {
   "display_name": "Python 3 (ipykernel)",
   "language": "python",
   "name": "python3"
  },
  "language_info": {
   "codemirror_mode": {
    "name": "ipython",
    "version": 3
   },
   "file_extension": ".py",
   "mimetype": "text/x-python",
   "name": "python",
   "nbconvert_exporter": "python",
   "pygments_lexer": "ipython3",
   "version": "3.13.2"
  }
 },
 "nbformat": 4,
 "nbformat_minor": 5
}
