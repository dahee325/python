{
 "cells": [
  {
   "cell_type": "markdown",
   "id": "f5144d1e-8745-4dce-959a-e0f6dad721f0",
   "metadata": {},
   "source": [
    "# 모듈"
   ]
  },
  {
   "cell_type": "code",
   "execution_count": 2,
   "id": "57c7d700-be54-48a4-810f-fbd8e5d01a94",
   "metadata": {},
   "outputs": [],
   "source": [
    "# import 파일이름\n",
    "import fact"
   ]
  },
  {
   "cell_type": "code",
   "execution_count": 3,
   "id": "5595316b-a1a0-4865-a272-41bc0a245134",
   "metadata": {},
   "outputs": [
    {
     "name": "stdout",
     "output_type": "stream",
     "text": [
      "<module 'fact' from 'C:\\\\Users\\\\1-13\\\\Desktop\\\\DAMF2\\\\python\\\\fact.py'>\n"
     ]
    }
   ],
   "source": [
    "print(fact)"
   ]
  },
  {
   "cell_type": "code",
   "execution_count": 4,
   "id": "1564485e-d2f5-46bf-af0c-0c8f1b7007fc",
   "metadata": {},
   "outputs": [
    {
     "data": {
      "text/plain": [
       "120"
      ]
     },
     "execution_count": 4,
     "metadata": {},
     "output_type": "execute_result"
    }
   ],
   "source": [
    "# 파일이름.함수이름()\n",
    "fact.factorial(5)"
   ]
  },
  {
   "cell_type": "code",
   "execution_count": 5,
   "id": "62aad735-6b35-47f7-adb3-7846376ce61e",
   "metadata": {},
   "outputs": [
    {
     "data": {
      "text/plain": [
       "3"
      ]
     },
     "execution_count": 5,
     "metadata": {},
     "output_type": "execute_result"
    }
   ],
   "source": [
    "fact.my_max(2, 3)"
   ]
  },
  {
   "cell_type": "markdown",
   "id": "7971075d-94f8-4222-9047-17d7b9d99047",
   "metadata": {},
   "source": [
    "# 패키지\n",
    "\n",
    "```\n",
    "myPackage/\n",
    "    __init__.py\n",
    "    math/\n",
    "        __init__.py\n",
    "```\n",
    "- 패키지 안에 `__init__.py` 파일이 존재해야 패키지로 인식"
   ]
  },
  {
   "cell_type": "code",
   "execution_count": 6,
   "id": "54579ad7-a353-4fdd-ac94-c92067e2284a",
   "metadata": {},
   "outputs": [],
   "source": [
    "import myPackage"
   ]
  },
  {
   "cell_type": "code",
   "execution_count": 7,
   "id": "ea411874-88d9-4d46-bc42-b3daa6681d47",
   "metadata": {},
   "outputs": [
    {
     "name": "stdout",
     "output_type": "stream",
     "text": [
      "<module 'myPackage' from 'C:\\\\Users\\\\1-13\\\\Desktop\\\\DAMF2\\\\python\\\\myPackage\\\\__init__.py'>\n"
     ]
    }
   ],
   "source": [
    "print(myPackage)"
   ]
  },
  {
   "cell_type": "code",
   "execution_count": 17,
   "id": "b12632f5-a2fb-4540-a947-3fcafdf42e2a",
   "metadata": {},
   "outputs": [
    {
     "data": {
      "text/plain": [
       "3"
      ]
     },
     "execution_count": 17,
     "metadata": {},
     "output_type": "execute_result"
    }
   ],
   "source": [
    "myPackage.math.fomula.my_max(2, 3)\n",
    "\n",
    "# 오류가 생기면 각 폴더 안의 파일 `__imit__.py`에 `from . import 폴더/파일이름` 작성 후 실행"
   ]
  },
  {
   "cell_type": "code",
   "execution_count": 9,
   "id": "2fc42e24-a872-4a48-b2a9-1ca329e1ff8f",
   "metadata": {},
   "outputs": [],
   "source": [
    "# `from a import b` : a부터 b를 불러와주세요\n",
    "from myPackage.math.fomula import my_max # my_max함수를 가져옴"
   ]
  },
  {
   "cell_type": "code",
   "execution_count": 10,
   "id": "9d9795e3-5f23-4706-a3e8-dc22ac71ebfc",
   "metadata": {},
   "outputs": [
    {
     "data": {
      "text/plain": [
       "3"
      ]
     },
     "execution_count": 10,
     "metadata": {},
     "output_type": "execute_result"
    }
   ],
   "source": [
    "my_max(2, 3)"
   ]
  },
  {
   "cell_type": "code",
   "execution_count": 11,
   "id": "9f5d81fa-99e9-4b76-8a17-241fd7c2a56f",
   "metadata": {},
   "outputs": [
    {
     "data": {
      "text/plain": [
       "3"
      ]
     },
     "execution_count": 11,
     "metadata": {},
     "output_type": "execute_result"
    }
   ],
   "source": [
    "from myPackage.math import fomula # fomula 모듈을 가져옴\n",
    "fomula.my_max(2, 3)"
   ]
  },
  {
   "cell_type": "code",
   "execution_count": 12,
   "id": "815de304-42aa-4965-9c6d-c8c8e293cde3",
   "metadata": {},
   "outputs": [
    {
     "name": "stdout",
     "output_type": "stream",
     "text": [
      "3.14\n"
     ]
    }
   ],
   "source": [
    "from myPackage.math.fomula import * # * : 모든 항목을 다 가져옴\n",
    "print(pi)"
   ]
  },
  {
   "cell_type": "code",
   "execution_count": 14,
   "id": "c3364ae5-f2d9-4407-9bf4-5b96f9668d6a",
   "metadata": {},
   "outputs": [
    {
     "name": "stdout",
     "output_type": "stream",
     "text": [
      "1234\n",
      "<module 'myPackage.math.fomula' from 'C:\\\\Users\\\\1-13\\\\Desktop\\\\DAMF2\\\\python\\\\myPackage\\\\math\\\\fomula.py'>\n"
     ]
    }
   ],
   "source": [
    "fomula = 1234\n",
    "from myPackage.math import fomula as f # import abcd as a: abcd이름을 a로 바꿔서 사용\n",
    "print(fomula) # 함수이름과 같은 변수가 있을 때 변수를 찾지 못하고 나중에 입력한 함수를 출력 (변수 fomula에 함수 fomula가 덮어씌워짐)\n",
    "print(f)"
   ]
  },
  {
   "cell_type": "code",
   "execution_count": 16,
   "id": "2134fa0a-5503-4b38-b740-4e2432a21e96",
   "metadata": {},
   "outputs": [
    {
     "name": "stdout",
     "output_type": "stream",
     "text": [
      "1234\n"
     ]
    }
   ],
   "source": [
    "from myPackage.math import fomula\n",
    "fomula = 1234\n",
    "print(fomula) \n",
    "# 변수이름과 함수이름이 같지만 나중에 입력한 변수이름 출력"
   ]
  },
  {
   "cell_type": "markdown",
   "id": "6ac0b0e0-cdfd-4970-87d4-4e80d7809aa8",
   "metadata": {},
   "source": [
    "## 파이썬 내장 패키지"
   ]
  },
  {
   "cell_type": "markdown",
   "id": "499ad3ea-6b5a-444f-8667-b46f9dae54e6",
   "metadata": {},
   "source": [
    "### math"
   ]
  },
  {
   "cell_type": "code",
   "execution_count": 18,
   "id": "88194c1e-41fa-47a0-aa08-27e6453c7dda",
   "metadata": {},
   "outputs": [],
   "source": [
    "import math"
   ]
  },
  {
   "cell_type": "code",
   "execution_count": 19,
   "id": "20d50ab5-26be-43a4-8c3b-ad014d7c3f23",
   "metadata": {},
   "outputs": [
    {
     "data": {
      "text/plain": [
       "3.141592653589793"
      ]
     },
     "execution_count": 19,
     "metadata": {},
     "output_type": "execute_result"
    }
   ],
   "source": [
    "math.pi"
   ]
  },
  {
   "cell_type": "code",
   "execution_count": 20,
   "id": "0171eb57-6436-42a5-9a52-62f7263ef735",
   "metadata": {},
   "outputs": [
    {
     "data": {
      "text/plain": [
       "2.718281828459045"
      ]
     },
     "execution_count": 20,
     "metadata": {},
     "output_type": "execute_result"
    }
   ],
   "source": [
    "math.e # math 패키지가 갖고있는 변수 e"
   ]
  },
  {
   "cell_type": "code",
   "execution_count": 21,
   "id": "33c6b96f-27c2-4704-945d-f6d6f1eea67b",
   "metadata": {},
   "outputs": [
    {
     "data": {
      "text/plain": [
       "3"
      ]
     },
     "execution_count": 21,
     "metadata": {},
     "output_type": "execute_result"
    }
   ],
   "source": [
    "# math 패키지가 갖고있는 함수 ceil()\n",
    "math.ceil(math.e) # 올림"
   ]
  },
  {
   "cell_type": "code",
   "execution_count": 22,
   "id": "a6629294-6c39-48e6-b382-53fc56d320b9",
   "metadata": {},
   "outputs": [
    {
     "data": {
      "text/plain": [
       "2"
      ]
     },
     "execution_count": 22,
     "metadata": {},
     "output_type": "execute_result"
    }
   ],
   "source": [
    "math.floor(math.e) # 내림"
   ]
  },
  {
   "cell_type": "code",
   "execution_count": 23,
   "id": "3ff657d4-39e4-42f3-af3c-8db17b0d675c",
   "metadata": {},
   "outputs": [
    {
     "data": {
      "text/plain": [
       "3.0"
      ]
     },
     "execution_count": 23,
     "metadata": {},
     "output_type": "execute_result"
    }
   ],
   "source": [
    "math.sqrt(9)"
   ]
  },
  {
   "cell_type": "code",
   "execution_count": 24,
   "id": "60ad85b3-fb9f-486e-b337-801d6c68d891",
   "metadata": {},
   "outputs": [
    {
     "data": {
      "text/plain": [
       "3628800"
      ]
     },
     "execution_count": 24,
     "metadata": {},
     "output_type": "execute_result"
    }
   ],
   "source": [
    "math.factorial(10)"
   ]
  },
  {
   "cell_type": "code",
   "execution_count": 25,
   "id": "eb1205f9-f69b-4d46-8a8f-88ba78d9cfc2",
   "metadata": {},
   "outputs": [],
   "source": [
    "from math import sqrt, factorial"
   ]
  },
  {
   "cell_type": "code",
   "execution_count": 26,
   "id": "9a2744e1-6b9c-4fa1-8178-fb84241cbab6",
   "metadata": {},
   "outputs": [
    {
     "data": {
      "text/plain": [
       "4.0"
      ]
     },
     "execution_count": 26,
     "metadata": {},
     "output_type": "execute_result"
    }
   ],
   "source": [
    "sqrt(16)"
   ]
  },
  {
   "cell_type": "code",
   "execution_count": 27,
   "id": "89dd9845-6137-4e8c-853b-e2b65c6c0505",
   "metadata": {},
   "outputs": [
    {
     "data": {
      "text/plain": [
       "120"
      ]
     },
     "execution_count": 27,
     "metadata": {},
     "output_type": "execute_result"
    }
   ],
   "source": [
    "factorial(5)"
   ]
  },
  {
   "cell_type": "markdown",
   "id": "a0f79f60-2574-4ac5-986f-485f3c786469",
   "metadata": {},
   "source": [
    "### random"
   ]
  },
  {
   "cell_type": "code",
   "execution_count": 28,
   "id": "f5ac8299-4750-4028-b1fc-97e741d5ad9e",
   "metadata": {},
   "outputs": [],
   "source": [
    "import random"
   ]
  },
  {
   "cell_type": "code",
   "execution_count": 36,
   "id": "5f8da5b8-2b74-41d3-953f-1f6c9cb2771c",
   "metadata": {},
   "outputs": [
    {
     "data": {
      "text/plain": [
       "0.7876143917798094"
      ]
     },
     "execution_count": 36,
     "metadata": {},
     "output_type": "execute_result"
    }
   ],
   "source": [
    "# random파일 안의 random()함수\n",
    "random.random() # 0부터 1사이의 소수 반환 (실행할 때마다 바뀜)"
   ]
  },
  {
   "cell_type": "code",
   "execution_count": 41,
   "id": "280891d7-4379-4e11-a767-85ced1549cc1",
   "metadata": {},
   "outputs": [
    {
     "data": {
      "text/plain": [
       "7"
      ]
     },
     "execution_count": 41,
     "metadata": {},
     "output_type": "execute_result"
    }
   ],
   "source": [
    "random.randint(1, 10) # 내가 지정한 범위의 자연수"
   ]
  },
  {
   "cell_type": "code",
   "execution_count": 50,
   "id": "728dc0c7-6756-498b-9d66-6252cea15980",
   "metadata": {},
   "outputs": [
    {
     "data": {
      "text/plain": [
       "0.052363598850944326"
      ]
     },
     "execution_count": 50,
     "metadata": {},
     "output_type": "execute_result"
    }
   ],
   "source": [
    "# 똑같은 값을 주고싶을 때 seed()로 고정\n",
    "random.seed(123) # 테스트를 돌릴 때 123을 기준으로 일정한 값을 줌\n",
    "random.random()"
   ]
  },
  {
   "cell_type": "code",
   "execution_count": 51,
   "id": "9a6187a2-305f-4fad-abdc-0a011ca67bb8",
   "metadata": {},
   "outputs": [],
   "source": [
    "numbers = [1, 2, 3, 4, 5]"
   ]
  },
  {
   "cell_type": "code",
   "execution_count": 63,
   "id": "ca6bdaab-02ba-475c-8693-f86dba1eeeb8",
   "metadata": {},
   "outputs": [
    {
     "name": "stdout",
     "output_type": "stream",
     "text": [
      "[3, 2, 1, 5, 4]\n"
     ]
    }
   ],
   "source": [
    "random.shuffle(numbers) # 리스트를 넣으면 리스트를 무작위로 섞어줌\n",
    "print(numbers)"
   ]
  },
  {
   "cell_type": "code",
   "execution_count": 73,
   "id": "40382b01-5ed0-444c-a1c3-8cdc1fbf028d",
   "metadata": {},
   "outputs": [
    {
     "name": "stdout",
     "output_type": "stream",
     "text": [
      "5\n",
      "5\n"
     ]
    }
   ],
   "source": [
    "random.choice(numbers) # 복원추출, numbers안의 데이터 중 하나를 무작위로 뽑음\n",
    "print(random.choice(numbers))\n",
    "print(random.choice(numbers))"
   ]
  },
  {
   "cell_type": "code",
   "execution_count": 80,
   "id": "a53f8653-aac4-479a-a9b7-27c54ff4cea7",
   "metadata": {},
   "outputs": [
    {
     "data": {
      "text/plain": [
       "[1, 5]"
      ]
     },
     "execution_count": 80,
     "metadata": {},
     "output_type": "execute_result"
    }
   ],
   "source": [
    "# 비복원추출, numbers 안에서 2개 랜덤추출\n",
    "random.sample(numbers, 2)"
   ]
  },
  {
   "cell_type": "markdown",
   "id": "4acb9b18-e760-4e67-8818-d9b762c1c0b9",
   "metadata": {},
   "source": [
    "### datetime"
   ]
  },
  {
   "cell_type": "code",
   "execution_count": 82,
   "id": "5e4cb008-e237-4f9d-a63b-efc91402d4b7",
   "metadata": {},
   "outputs": [],
   "source": [
    "from datetime import datetime"
   ]
  },
  {
   "cell_type": "code",
   "execution_count": 83,
   "id": "480c2f57-52af-42a7-b601-288a367070ed",
   "metadata": {},
   "outputs": [
    {
     "data": {
      "text/plain": [
       "datetime.datetime(2025, 2, 18, 14, 39, 6, 66199)"
      ]
     },
     "execution_count": 83,
     "metadata": {},
     "output_type": "execute_result"
    }
   ],
   "source": [
    "datetime.now()\n",
    "# (년, 월, 일, 시, 분, 초, 밀리초)"
   ]
  },
  {
   "cell_type": "code",
   "execution_count": 84,
   "id": "a96f5dd9-2842-4001-bdbe-500fe5f8cb14",
   "metadata": {},
   "outputs": [
    {
     "data": {
      "text/plain": [
       "datetime.datetime(2025, 2, 18, 14, 39, 58, 242476)"
      ]
     },
     "execution_count": 84,
     "metadata": {},
     "output_type": "execute_result"
    }
   ],
   "source": [
    "datetime.today() # now()와 같음"
   ]
  },
  {
   "cell_type": "code",
   "execution_count": 88,
   "id": "c8812755-7d47-4713-90f0-a1e0857a1684",
   "metadata": {},
   "outputs": [
    {
     "name": "stderr",
     "output_type": "stream",
     "text": [
      "C:\\Users\\1-13\\AppData\\Local\\Temp\\ipykernel_14176\\810821859.py:1: DeprecationWarning: datetime.datetime.utcnow() is deprecated and scheduled for removal in a future version. Use timezone-aware objects to represent datetimes in UTC: datetime.datetime.now(datetime.UTC).\n",
      "  datetime.utcnow() # 그리니치 천문대 기준\n"
     ]
    },
    {
     "data": {
      "text/plain": [
       "datetime.datetime(2025, 2, 18, 5, 43, 33, 970803)"
      ]
     },
     "execution_count": 88,
     "metadata": {},
     "output_type": "execute_result"
    }
   ],
   "source": [
    "datetime.utcnow() # 그리니치 천문대 기준\n",
    "# datetime.now(datetime.UTC)"
   ]
  },
  {
   "cell_type": "code",
   "execution_count": 89,
   "id": "b8ffe398-4cc2-445f-8f7a-ff94153950e9",
   "metadata": {},
   "outputs": [],
   "source": [
    "now = datetime.now()"
   ]
  },
  {
   "cell_type": "code",
   "execution_count": 91,
   "id": "52ba2514-1cc2-4c07-b2ba-113ac652324c",
   "metadata": {},
   "outputs": [
    {
     "data": {
      "text/plain": [
       "2025"
      ]
     },
     "execution_count": 91,
     "metadata": {},
     "output_type": "execute_result"
    }
   ],
   "source": [
    "now.year"
   ]
  },
  {
   "cell_type": "code",
   "execution_count": 92,
   "id": "68b80374-1cba-4bca-ae41-097864d8ae61",
   "metadata": {},
   "outputs": [
    {
     "data": {
      "text/plain": [
       "2"
      ]
     },
     "execution_count": 92,
     "metadata": {},
     "output_type": "execute_result"
    }
   ],
   "source": [
    "now.month"
   ]
  },
  {
   "cell_type": "code",
   "execution_count": 93,
   "id": "1f19684f-e6fb-4767-a5a2-2fab0d1f9294",
   "metadata": {},
   "outputs": [
    {
     "data": {
      "text/plain": [
       "18"
      ]
     },
     "execution_count": 93,
     "metadata": {},
     "output_type": "execute_result"
    }
   ],
   "source": [
    "now.day"
   ]
  },
  {
   "cell_type": "code",
   "execution_count": 94,
   "id": "ebbdd406-969e-492d-8890-8dded0a09600",
   "metadata": {},
   "outputs": [
    {
     "data": {
      "text/plain": [
       "1"
      ]
     },
     "execution_count": 94,
     "metadata": {},
     "output_type": "execute_result"
    }
   ],
   "source": [
    "now.weekday() # 요일, 0(월요일) ~ 6(일요일)"
   ]
  },
  {
   "cell_type": "code",
   "execution_count": 95,
   "id": "1aeb8dca-8655-4628-a049-4138af95fa39",
   "metadata": {},
   "outputs": [
    {
     "name": "stdout",
     "output_type": "stream",
     "text": [
      "2025-02-18 14:44:15.299785\n"
     ]
    }
   ],
   "source": [
    "print(now) # print()로 출력하면 우리가 보기 좋게 보여줌"
   ]
  },
  {
   "cell_type": "code",
   "execution_count": 98,
   "id": "93c12006-c29c-492d-804e-5dd95833ee5d",
   "metadata": {},
   "outputs": [
    {
     "data": {
      "text/plain": [
       "'25/ Feb/ 18/'"
      ]
     },
     "execution_count": 98,
     "metadata": {},
     "output_type": "execute_result"
    }
   ],
   "source": [
    "now.strftime('%Y년 %m월 %d일') # string  formatting을 하겠다\n",
    "now.strftime('%y/ %b/ %d/')"
   ]
  },
  {
   "cell_type": "code",
   "execution_count": 100,
   "id": "aa74c7bd-827b-4077-b761-02655b8a8fea",
   "metadata": {},
   "outputs": [
    {
     "name": "stdout",
     "output_type": "stream",
     "text": [
      "2025-12-25 00:00:00\n"
     ]
    }
   ],
   "source": [
    "# 시간 계산\n",
    "# 오늘부터 크리스마스까지 얼마나 남았을까?\n",
    "x_mas = datetime(2025, 12, 25)\n",
    "print(x_mas)"
   ]
  },
  {
   "cell_type": "code",
   "execution_count": 101,
   "id": "6006e263-2154-4f5c-a15d-b8a10dd29a96",
   "metadata": {},
   "outputs": [],
   "source": [
    "from datetime import timedelta"
   ]
  },
  {
   "cell_type": "code",
   "execution_count": 103,
   "id": "e4da89be-6a07-4324-a00f-8cc50968108a",
   "metadata": {},
   "outputs": [
    {
     "name": "stdout",
     "output_type": "stream",
     "text": [
      "2025-09-16 00:00:00\n"
     ]
    }
   ],
   "source": [
    "future = timedelta(days=-100) # 변화량을 수치화해서 묶음 (a일 전은 -a로, a일 후는 a로 입력)\n",
    "print(x_mas + future)"
   ]
  },
  {
   "cell_type": "code",
   "execution_count": 104,
   "id": "a961e148-95d0-47a8-b267-b0654b4bc591",
   "metadata": {},
   "outputs": [
    {
     "data": {
      "text/plain": [
       "datetime.timedelta(days=309, seconds=33344, microseconds=700215)"
      ]
     },
     "execution_count": 104,
     "metadata": {},
     "output_type": "execute_result"
    }
   ],
   "source": [
    "x_mas - now # 오늘부터 크리스마스까지 309일 남음"
   ]
  },
  {
   "cell_type": "code",
   "execution_count": null,
   "id": "26159154-7ef8-4967-b031-8623523485a4",
   "metadata": {},
   "outputs": [],
   "source": []
  },
  {
   "cell_type": "code",
   "execution_count": null,
   "id": "931d07df-cbfb-4038-ba12-474722540245",
   "metadata": {},
   "outputs": [],
   "source": []
  },
  {
   "cell_type": "code",
   "execution_count": null,
   "id": "9b2c9cbf-19f4-43fa-9181-e14d786d1152",
   "metadata": {},
   "outputs": [],
   "source": []
  },
  {
   "cell_type": "code",
   "execution_count": null,
   "id": "a9152e4d-3baa-440a-852a-dee4fb60d0a9",
   "metadata": {},
   "outputs": [],
   "source": []
  }
 ],
 "metadata": {
  "kernelspec": {
   "display_name": "Python 3 (ipykernel)",
   "language": "python",
   "name": "python3"
  },
  "language_info": {
   "codemirror_mode": {
    "name": "ipython",
    "version": 3
   },
   "file_extension": ".py",
   "mimetype": "text/x-python",
   "name": "python",
   "nbconvert_exporter": "python",
   "pygments_lexer": "ipython3",
   "version": "3.13.2"
  }
 },
 "nbformat": 4,
 "nbformat_minor": 5
}
