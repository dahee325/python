{
 "cells": [
  {
   "cell_type": "markdown",
   "id": "f5144d1e-8745-4dce-959a-e0f6dad721f0",
   "metadata": {},
   "source": [
    "# 모듈"
   ]
  },
  {
   "cell_type": "code",
   "execution_count": null,
   "id": "57c7d700-be54-48a4-810f-fbd8e5d01a94",
   "metadata": {},
   "outputs": [],
   "source": [
    "# import 파일이름\n",
    "import fact"
   ]
  },
  {
   "cell_type": "code",
   "execution_count": null,
   "id": "5595316b-a1a0-4865-a272-41bc0a245134",
   "metadata": {},
   "outputs": [],
   "source": [
    "print(fact)"
   ]
  },
  {
   "cell_type": "code",
   "execution_count": null,
   "id": "1564485e-d2f5-46bf-af0c-0c8f1b7007fc",
   "metadata": {},
   "outputs": [],
   "source": [
    "# 파일이름.함수이름()\n",
    "fact.factorial(5)"
   ]
  },
  {
   "cell_type": "code",
   "execution_count": null,
   "id": "62aad735-6b35-47f7-adb3-7846376ce61e",
   "metadata": {},
   "outputs": [],
   "source": [
    "fact.my_max(2, 3)"
   ]
  },
  {
   "cell_type": "markdown",
   "id": "7971075d-94f8-4222-9047-17d7b9d99047",
   "metadata": {},
   "source": [
    "# 패키지\n",
    "\n",
    "```\n",
    "myPackage/\n",
    "    __init__.py\n",
    "    math/\n",
    "        __init__.py\n",
    "```\n",
    "- 패키지 안에 `__init__.py` 파일이 존재해야 패키지로 인식"
   ]
  },
  {
   "cell_type": "code",
   "execution_count": null,
   "id": "54579ad7-a353-4fdd-ac94-c92067e2284a",
   "metadata": {},
   "outputs": [],
   "source": [
    "import myPackage"
   ]
  },
  {
   "cell_type": "code",
   "execution_count": null,
   "id": "ea411874-88d9-4d46-bc42-b3daa6681d47",
   "metadata": {},
   "outputs": [],
   "source": [
    "print(myPackage)"
   ]
  },
  {
   "cell_type": "code",
   "execution_count": null,
   "id": "b12632f5-a2fb-4540-a947-3fcafdf42e2a",
   "metadata": {},
   "outputs": [],
   "source": [
    "myPackage.math.fomula.my_max(2, 3)\n",
    "\n",
    "# 오류가 생기면 각 폴더 안의 파일 `__imit__.py`에 `from . import 폴더/파일이름` 작성 후 실행"
   ]
  },
  {
   "cell_type": "code",
   "execution_count": null,
   "id": "2fc42e24-a872-4a48-b2a9-1ca329e1ff8f",
   "metadata": {},
   "outputs": [],
   "source": [
    "# `from a import b` : a부터 b를 불러와주세요\n",
    "from myPackage.math.fomula import my_max # my_max함수를 가져옴"
   ]
  },
  {
   "cell_type": "code",
   "execution_count": null,
   "id": "9d9795e3-5f23-4706-a3e8-dc22ac71ebfc",
   "metadata": {},
   "outputs": [],
   "source": [
    "my_max(2, 3)"
   ]
  },
  {
   "cell_type": "code",
   "execution_count": null,
   "id": "9f5d81fa-99e9-4b76-8a17-241fd7c2a56f",
   "metadata": {},
   "outputs": [],
   "source": [
    "from myPackage.math import fomula # fomula 모듈을 가져옴\n",
    "fomula.my_max(2, 3)"
   ]
  },
  {
   "cell_type": "code",
   "execution_count": null,
   "id": "815de304-42aa-4965-9c6d-c8c8e293cde3",
   "metadata": {},
   "outputs": [],
   "source": [
    "from myPackage.math.fomula import * # * : 모든 항목을 다 가져옴\n",
    "print(pi)"
   ]
  },
  {
   "cell_type": "code",
   "execution_count": null,
   "id": "c3364ae5-f2d9-4407-9bf4-5b96f9668d6a",
   "metadata": {},
   "outputs": [],
   "source": [
    "fomula = 1234\n",
    "from myPackage.math import fomula as f # import abcd as a: abcd이름을 a로 바꿔서 사용\n",
    "print(fomula) # 함수이름과 같은 변수가 있을 때 변수를 찾지 못하고 나중에 입력한 함수를 출력 (변수 fomula에 함수 fomula가 덮어씌워짐)\n",
    "print(f)"
   ]
  },
  {
   "cell_type": "code",
   "execution_count": null,
   "id": "2134fa0a-5503-4b38-b740-4e2432a21e96",
   "metadata": {},
   "outputs": [],
   "source": [
    "from myPackage.math import fomula\n",
    "fomula = 1234\n",
    "print(fomula) \n",
    "# 변수이름과 함수이름이 같지만 나중에 입력한 변수이름 출력"
   ]
  },
  {
   "cell_type": "markdown",
   "id": "6ac0b0e0-cdfd-4970-87d4-4e80d7809aa8",
   "metadata": {},
   "source": [
    "## 파이썬 내장 패키지"
   ]
  },
  {
   "cell_type": "markdown",
   "id": "499ad3ea-6b5a-444f-8667-b46f9dae54e6",
   "metadata": {},
   "source": [
    "### math"
   ]
  },
  {
   "cell_type": "code",
   "execution_count": null,
   "id": "88194c1e-41fa-47a0-aa08-27e6453c7dda",
   "metadata": {},
   "outputs": [],
   "source": [
    "import math"
   ]
  },
  {
   "cell_type": "code",
   "execution_count": null,
   "id": "20d50ab5-26be-43a4-8c3b-ad014d7c3f23",
   "metadata": {},
   "outputs": [],
   "source": [
    "math.pi"
   ]
  },
  {
   "cell_type": "code",
   "execution_count": null,
   "id": "0171eb57-6436-42a5-9a52-62f7263ef735",
   "metadata": {},
   "outputs": [],
   "source": [
    "math.e # math 패키지가 갖고있는 변수 e"
   ]
  },
  {
   "cell_type": "code",
   "execution_count": null,
   "id": "33c6b96f-27c2-4704-945d-f6d6f1eea67b",
   "metadata": {},
   "outputs": [],
   "source": [
    "# math 패키지가 갖고있는 함수 ceil()\n",
    "math.ceil(math.e) # 올림"
   ]
  },
  {
   "cell_type": "code",
   "execution_count": null,
   "id": "a6629294-6c39-48e6-b382-53fc56d320b9",
   "metadata": {},
   "outputs": [],
   "source": [
    "math.floor(math.e) # 내림"
   ]
  },
  {
   "cell_type": "code",
   "execution_count": null,
   "id": "3ff657d4-39e4-42f3-af3c-8db17b0d675c",
   "metadata": {},
   "outputs": [],
   "source": [
    "math.sqrt(9)"
   ]
  },
  {
   "cell_type": "code",
   "execution_count": null,
   "id": "60ad85b3-fb9f-486e-b337-801d6c68d891",
   "metadata": {},
   "outputs": [],
   "source": [
    "math.factorial(10)"
   ]
  },
  {
   "cell_type": "code",
   "execution_count": null,
   "id": "eb1205f9-f69b-4d46-8a8f-88ba78d9cfc2",
   "metadata": {},
   "outputs": [],
   "source": [
    "from math import sqrt, factorial"
   ]
  },
  {
   "cell_type": "code",
   "execution_count": null,
   "id": "9a2744e1-6b9c-4fa1-8178-fb84241cbab6",
   "metadata": {},
   "outputs": [],
   "source": [
    "sqrt(16)"
   ]
  },
  {
   "cell_type": "code",
   "execution_count": null,
   "id": "89dd9845-6137-4e8c-853b-e2b65c6c0505",
   "metadata": {},
   "outputs": [],
   "source": [
    "factorial(5)"
   ]
  },
  {
   "cell_type": "markdown",
   "id": "a0f79f60-2574-4ac5-986f-485f3c786469",
   "metadata": {},
   "source": [
    "### random"
   ]
  },
  {
   "cell_type": "code",
   "execution_count": null,
   "id": "f5ac8299-4750-4028-b1fc-97e741d5ad9e",
   "metadata": {},
   "outputs": [],
   "source": [
    "import random"
   ]
  },
  {
   "cell_type": "code",
   "execution_count": null,
   "id": "5f8da5b8-2b74-41d3-953f-1f6c9cb2771c",
   "metadata": {},
   "outputs": [],
   "source": [
    "# random파일 안의 random()함수\n",
    "random.random() # 0부터 1사이의 소수 반환 (실행할 때마다 바뀜)"
   ]
  },
  {
   "cell_type": "code",
   "execution_count": null,
   "id": "280891d7-4379-4e11-a767-85ced1549cc1",
   "metadata": {},
   "outputs": [],
   "source": [
    "random.randint(1, 10) # 내가 지정한 범위의 자연수"
   ]
  },
  {
   "cell_type": "code",
   "execution_count": null,
   "id": "728dc0c7-6756-498b-9d66-6252cea15980",
   "metadata": {},
   "outputs": [],
   "source": [
    "# 똑같은 값을 주고싶을 때 seed()로 고정\n",
    "random.seed(123) # 테스트를 돌릴 때 123을 기준으로 일정한 값을 줌\n",
    "random.random()"
   ]
  },
  {
   "cell_type": "code",
   "execution_count": null,
   "id": "9a6187a2-305f-4fad-abdc-0a011ca67bb8",
   "metadata": {},
   "outputs": [],
   "source": [
    "numbers = [1, 2, 3, 4, 5]"
   ]
  },
  {
   "cell_type": "code",
   "execution_count": null,
   "id": "ca6bdaab-02ba-475c-8693-f86dba1eeeb8",
   "metadata": {},
   "outputs": [],
   "source": [
    "random.shuffle(numbers) # 리스트를 넣으면 리스트를 무작위로 섞어줌\n",
    "print(numbers)"
   ]
  },
  {
   "cell_type": "code",
   "execution_count": null,
   "id": "40382b01-5ed0-444c-a1c3-8cdc1fbf028d",
   "metadata": {},
   "outputs": [],
   "source": [
    "random.choice(numbers) # 복원추출, numbers안의 데이터 중 하나를 무작위로 뽑음\n",
    "print(random.choice(numbers))\n",
    "print(random.choice(numbers))"
   ]
  },
  {
   "cell_type": "code",
   "execution_count": null,
   "id": "a53f8653-aac4-479a-a9b7-27c54ff4cea7",
   "metadata": {},
   "outputs": [],
   "source": [
    "# 비복원추출, numbers 안에서 2개 랜덤추출\n",
    "random.sample(numbers, 2)"
   ]
  },
  {
   "cell_type": "markdown",
   "id": "4acb9b18-e760-4e67-8818-d9b762c1c0b9",
   "metadata": {},
   "source": [
    "### datetime"
   ]
  },
  {
   "cell_type": "code",
   "execution_count": null,
   "id": "5e4cb008-e237-4f9d-a63b-efc91402d4b7",
   "metadata": {},
   "outputs": [],
   "source": [
    "from datetime import datetime"
   ]
  },
  {
   "cell_type": "code",
   "execution_count": null,
   "id": "480c2f57-52af-42a7-b601-288a367070ed",
   "metadata": {},
   "outputs": [],
   "source": [
    "datetime.now()\n",
    "# (년, 월, 일, 시, 분, 초, 밀리초)"
   ]
  },
  {
   "cell_type": "code",
   "execution_count": null,
   "id": "a96f5dd9-2842-4001-bdbe-500fe5f8cb14",
   "metadata": {},
   "outputs": [],
   "source": [
    "datetime.today() # now()와 같음"
   ]
  },
  {
   "cell_type": "code",
   "execution_count": null,
   "id": "c8812755-7d47-4713-90f0-a1e0857a1684",
   "metadata": {},
   "outputs": [],
   "source": [
    "datetime.utcnow() # 그리니치 천문대 기준\n",
    "# datetime.now(datetime.UTC)"
   ]
  },
  {
   "cell_type": "code",
   "execution_count": null,
   "id": "b8ffe398-4cc2-445f-8f7a-ff94153950e9",
   "metadata": {},
   "outputs": [],
   "source": [
    "now = datetime.now()"
   ]
  },
  {
   "cell_type": "code",
   "execution_count": null,
   "id": "52ba2514-1cc2-4c07-b2ba-113ac652324c",
   "metadata": {},
   "outputs": [],
   "source": [
    "now.year"
   ]
  },
  {
   "cell_type": "code",
   "execution_count": null,
   "id": "68b80374-1cba-4bca-ae41-097864d8ae61",
   "metadata": {},
   "outputs": [],
   "source": [
    "now.month"
   ]
  },
  {
   "cell_type": "code",
   "execution_count": null,
   "id": "1f19684f-e6fb-4767-a5a2-2fab0d1f9294",
   "metadata": {},
   "outputs": [],
   "source": [
    "now.day"
   ]
  },
  {
   "cell_type": "code",
   "execution_count": null,
   "id": "ebbdd406-969e-492d-8890-8dded0a09600",
   "metadata": {},
   "outputs": [],
   "source": [
    "now.weekday() # 요일, 0(월요일) ~ 6(일요일)"
   ]
  },
  {
   "cell_type": "code",
   "execution_count": null,
   "id": "1aeb8dca-8655-4628-a049-4138af95fa39",
   "metadata": {},
   "outputs": [],
   "source": [
    "print(now) # print()로 출력하면 우리가 보기 좋게 보여줌"
   ]
  },
  {
   "cell_type": "code",
   "execution_count": null,
   "id": "93c12006-c29c-492d-804e-5dd95833ee5d",
   "metadata": {},
   "outputs": [],
   "source": [
    "now.strftime('%Y년 %m월 %d일') # string  formatting을 하겠다\n",
    "now.strftime('%y/ %b/ %d/')"
   ]
  },
  {
   "cell_type": "code",
   "execution_count": null,
   "id": "aa74c7bd-827b-4077-b761-02655b8a8fea",
   "metadata": {},
   "outputs": [],
   "source": [
    "# 시간 계산\n",
    "# 오늘부터 크리스마스까지 얼마나 남았을까?\n",
    "x_mas = datetime(2025, 12, 25)\n",
    "print(x_mas)"
   ]
  },
  {
   "cell_type": "code",
   "execution_count": null,
   "id": "6006e263-2154-4f5c-a15d-b8a10dd29a96",
   "metadata": {},
   "outputs": [],
   "source": [
    "from datetime import timedelta"
   ]
  },
  {
   "cell_type": "code",
   "execution_count": null,
   "id": "e4da89be-6a07-4324-a00f-8cc50968108a",
   "metadata": {},
   "outputs": [],
   "source": [
    "future = timedelta(days=-100) # 변화량을 수치화해서 묶음 (a일 전은 -a로, a일 후는 a로 입력)\n",
    "print(x_mas + future)"
   ]
  },
  {
   "cell_type": "code",
   "execution_count": null,
   "id": "a961e148-95d0-47a8-b267-b0654b4bc591",
   "metadata": {},
   "outputs": [],
   "source": [
    "x_mas - now # 오늘부터 크리스마스까지 309일 남음"
   ]
  },
  {
   "cell_type": "markdown",
   "id": "43bcc92d-6124-4e43-8c1d-24dbc03731de",
   "metadata": {},
   "source": [
    "## 외부 라이브러리"
   ]
  },
  {
   "cell_type": "markdown",
   "id": "db4779c4-608e-421d-a5c1-a293e9d9b380",
   "metadata": {},
   "source": [
    "### requests"
   ]
  },
  {
   "cell_type": "code",
   "execution_count": null,
   "id": "9b2c9cbf-19f4-43fa-9181-e14d786d1152",
   "metadata": {},
   "outputs": [],
   "source": [
    "import requests"
   ]
  },
  {
   "cell_type": "code",
   "execution_count": null,
   "id": "a9152e4d-3baa-440a-852a-dee4fb60d0a9",
   "metadata": {},
   "outputs": [],
   "source": [
    "r = requests.get('https://api.github.com/events')"
   ]
  },
  {
   "cell_type": "code",
   "execution_count": null,
   "id": "f3c05509-51c4-4b10-9591-0c6a8f792ff9",
   "metadata": {},
   "outputs": [],
   "source": [
    "print(r.text) # 상위.하위"
   ]
  },
  {
   "cell_type": "code",
   "execution_count": null,
   "id": "37f86545-3cc3-40c6-b4e3-3d9dbfc6f31c",
   "metadata": {},
   "outputs": [],
   "source": [
    "r = requests.get('https://naver.com')\n",
    "print(r.text)"
   ]
  },
  {
   "cell_type": "code",
   "execution_count": null,
   "id": "e4357ac9-e02d-4ca2-9b41-150e64790337",
   "metadata": {},
   "outputs": [],
   "source": [
    "payload = {'key1': 'value1', 'key2': 'value2'}\n",
    "r = requests.get('https://httpbin.org/get', params=payload)\n",
    "print(r.text)\n",
    "# https://httpbin.org/get => 서버주소\n",
    "# ? => 뒤에 특정한 데이터가 들어올 떄 사용, 물음표 뒤에는 데이터가 들어있음\n",
    "# key1=value1\n",
    "# &\n",
    "# key2=value2"
   ]
  },
  {
   "cell_type": "code",
   "execution_count": null,
   "id": "fc291a5f-be26-43fc-a44b-ae50e839f7ea",
   "metadata": {},
   "outputs": [],
   "source": [
    "payload = {'query': '파이썬'}\n",
    "r = requests.get('https://search.naver.com/search.naver', params=payload)\n",
    "print(r.url)"
   ]
  },
  {
   "cell_type": "code",
   "execution_count": null,
   "id": "5e446128-9490-4899-a2f7-cf51e0d670fe",
   "metadata": {},
   "outputs": [],
   "source": [
    "r = requests.get('https://api.github.com/events')\n",
    "# print(type(r.text)) # 외부로 나가면 JSON타입\n",
    "# print(r.text['message']) # # dictionary가 아닌 string으로 인식하기 때문에 오류\n",
    "print(type(r.json)) # dictionary로 바꿔줌\n",
    "print(r.json()['message'])"
   ]
  },
  {
   "cell_type": "code",
   "execution_count": null,
   "id": "8aee56c0-471b-4cb9-bce2-336af285d435",
   "metadata": {},
   "outputs": [],
   "source": [
    "# **동행복권 로또 당첨 번호**\n",
    "# https://www.dhlottery.co.kr/common.do\n",
    "# ?\n",
    "# method=getLottoNumber\n",
    "# &\n",
    "# drwNo=1159`"
   ]
  },
  {
   "cell_type": "code",
   "execution_count": null,
   "id": "b798764a-509b-4ac8-8086-2c3cdae77567",
   "metadata": {},
   "outputs": [],
   "source": [
    "lotto_url = 'https://www.dhlottery.co.kr/common.do'\n",
    "\n",
    "payload = {\n",
    "    'method': 'getLottoNumber',\n",
    "    'drwNo': 1157 # 회차정보\n",
    "}\n",
    "\n",
    "r = requests.get(lotto_url, params=payload)\n",
    "# print(r.url)\n",
    "# print(r.text) # json => str\n",
    "# print(r.json()) # `.json()` : json을 dict로 바꿔주는 함수\n",
    "lotto_dict = r.json()\n",
    "\n",
    "print(lotto_dict['drwNoDate']) # 날짜 출력\n",
    "# print(lotto_dict['drwtNo1']) # 로또번호 출력\n",
    "# print(lotto_dict['drwtNo2'])\n",
    "# print(lotto_dict['drwtNo3'])\n",
    "# print(lotto_dict['drwtNo4'])\n",
    "# print(lotto_dict['drwtNo5'])\n",
    "# print(lotto_dict['drwtNo6'])\n",
    "\n",
    "for i in range(1, 7):\n",
    "    print(lotto_dict[f'drwtNo{i}']) # 반복문을 사용한 로또번호 출력"
   ]
  },
  {
   "cell_type": "markdown",
   "id": "162a484f-696d-4d86-9983-793e1409e8d0",
   "metadata": {},
   "source": [
    "### 페어프로그래밍 (로또)\n",
    "1. 로또 5000원 구매하기\n",
    "    - 랜덤으로 6개 숫자로 이루어진 5세트의 로또번호 생성\n",
    "2. 최신회차 당첨번호 수집하기\n",
    "3. 등수 확인하기\n",
    "    - 최신회차의 당첨번호와 생성된 번호를 비교하여 몇등인지 출력\n",
    "    - 1, 3, 4, 5, 꽝 작성 후 2\n",
    "4. 추가기능 구현\n"
   ]
  },
  {
   "cell_type": "code",
   "execution_count": 52,
   "id": "c994228f-cf9d-48c7-96c4-8930645f8d2b",
   "metadata": {},
   "outputs": [
    {
     "name": "stdout",
     "output_type": "stream",
     "text": [
      "{'lotto1': [32, 34, 43, 27, 24, 33], 'lotto2': [3, 42, 12, 6, 32, 17], 'lotto3': [11, 22, 44, 36, 26, 5], 'lotto4': [30, 25, 37, 22, 2, 13], 'lotto5': [38, 6, 41, 24, 1, 23]}\n"
     ]
    }
   ],
   "source": [
    "# 내풀이 - 1. 로또번호 생성\n",
    "\n",
    "import random\n",
    "\n",
    "numbers = range(1, 46)\n",
    "# random.seed(123)\n",
    "\n",
    "my_numbers = {\n",
    "    'lotto1': random.sample(numbers, 6), # => [4, 18, 6, 27, 44, 7] - 1\n",
    "    'lotto2': random.sample(numbers, 6), # => [3, 25, 35, 36, 22, 41] - 1\n",
    "    'lotto3': random.sample(numbers, 6), # => [4, 11, 9, 22, 36, 42] - 1\n",
    "    'lotto4': random.sample(numbers, 6), # => [45, 16, 11, 1, 28, 6] - 1\n",
    "    'lotto5': random.sample(numbers, 6), # => [39, 25, 5, 1, 21, 29] - 1  [3, 9, 27, 28, 38, 39]\n",
    "}\n",
    "\n",
    "print(my_numbers)"
   ]
  },
  {
   "cell_type": "code",
   "execution_count": 63,
   "id": "a20c70f7-6588-4445-b9b6-7a680a32cebc",
   "metadata": {},
   "outputs": [
    {
     "name": "stdout",
     "output_type": "stream",
     "text": [
      "[3, 9, 27, 28, 38, 39]\n",
      "<class 'list'>\n"
     ]
    }
   ],
   "source": [
    "# 내 풀이 - 2. 최신회차 당첨번호 수집\n",
    "\n",
    "import requests\n",
    "\n",
    "lotto_url = 'https://www.dhlottery.co.kr/common.do'\n",
    "payload = {\n",
    "    'method': 'getLottoNumber',\n",
    "    'drwNo': 1159, # 회차정보\n",
    "}\n",
    "r = requests.get(lotto_url, params=payload)\n",
    "lotto_dict = r.json()\n",
    "\n",
    "win = []\n",
    "for i in range(1, 7):\n",
    "    win.append(lotto_dict[f'drwtNo{i}'])\n",
    "\n",
    "print(win)\n",
    "print(type(win))"
   ]
  },
  {
   "cell_type": "code",
   "execution_count": 69,
   "id": "92694836-a29a-4424-80ac-153321d1491a",
   "metadata": {},
   "outputs": [
    {
     "name": "stdout",
     "output_type": "stream",
     "text": [
      "꽝입니다.\n",
      "꽝입니다.\n",
      "꽝입니다.\n",
      "5등입니다.\n",
      "lotto2는 4등입니다.\n"
     ]
    }
   ],
   "source": [
    "# 내 풀이 - 3. 등수확인하기\n",
    "my_numbers = {\n",
    "    'lotto2': [3, 9, 27, 28, 38, 39], \n",
    "    'lotto2': [3, 9, 27, 28, 38, 7]\n",
    "}\n",
    "    \n",
    "bonus = lotto_dict['bnusNo']\n",
    "count_set = {}\n",
    "count = 0\n",
    "\n",
    "for key, value in my_numbers.items():\n",
    "    for i in value:\n",
    "        for j in range(6):\n",
    "            if i == win[j]:\n",
    "                count += 1\n",
    "                count_set[j] = count\n",
    "\n",
    "for v in count_set:\n",
    "    if v == 6:\n",
    "        print('1등입니다.')\n",
    "    elif v == 5 and bonus in value:\n",
    "        print('2등입니다.')\n",
    "    elif v == 5:\n",
    "        print('3등입니다.')\n",
    "    elif v == 4:\n",
    "        print(f'{key}는 4등입니다.')\n",
    "    elif v == 3:\n",
    "        print('5등입니다.')\n",
    "    else:\n",
    "        print('꽝입니다.')"
   ]
  },
  {
   "cell_type": "code",
   "execution_count": 11,
   "id": "b913edc1-9905-4b35-95a2-4224e1b09891",
   "metadata": {},
   "outputs": [
    {
     "name": "stdout",
     "output_type": "stream",
     "text": [
      "{1: [12, 27, 28, 34, 35, 43], 2: [4, 13, 18, 34, 37, 44], 3: [1, 17, 27, 34, 35, 39], 4: [8, 10, 14, 15, 22, 28], 5: [8, 15, 24, 32, 37, 45]}\n"
     ]
    }
   ],
   "source": [
    "# 강사님 - 1. 로또번호 생성\n",
    "import random\n",
    "\n",
    "my_numbers = {}\n",
    "\n",
    "for i in range(1, 6):\n",
    "    random_numbers = random.sample(range(1, 46), 6)\n",
    "    random_numbers.sort()\n",
    "    my_numbers[i] = random_numbers\n",
    "    \n",
    "print(my_numbers)"
   ]
  },
  {
   "cell_type": "code",
   "execution_count": 35,
   "id": "0a8682eb-85a0-4e94-9ee2-fd959b22a367",
   "metadata": {},
   "outputs": [
    {
     "name": "stdout",
     "output_type": "stream",
     "text": [
      "[39, 28, 38, 9, 27, 3]\n"
     ]
    }
   ],
   "source": [
    "# 강사님 - 2. 최신회차 당첨번호 수집\n",
    "import requests\n",
    "\n",
    "LOTTO_URL = 'https://www.dhlottery.co.kr/common.do' #변하지않은 상수의 변수이름은 대부분 대문자로 사용\n",
    "payload = {\n",
    "    'method': 'getLottoNumber',\n",
    "    'drwNo': 1159,\n",
    "}\n",
    "\n",
    "res = requests.get(LOTTO_URL, params=payload) # 변수 r은 request의 반대 respond의 약자\n",
    "lotto_dict = res.json()\n",
    "\n",
    "lucky_numbers = []\n",
    "bonus_number = lotto_dict['bnusNo']\n",
    "\n",
    "for k, v in lotto_dict.items():\n",
    "    if 'drwtNo' in k:\n",
    "        lucky_numbers.append(v)\n",
    "\n",
    "\n",
    "print(lucky_numbers)"
   ]
  },
  {
   "cell_type": "code",
   "execution_count": 13,
   "id": "fde583a6-d635-4644-b55d-edb70e45ac20",
   "metadata": {},
   "outputs": [
    {
     "name": "stdout",
     "output_type": "stream",
     "text": [
      "{1: [12, 27, 28, 34, 35, 43], 2: [4, 13, 18, 34, 37, 44], 3: [1, 17, 27, 34, 35, 39], 4: [8, 10, 14, 15, 22, 28], 5: [8, 15, 24, 32, 37, 45]}\n",
      "[39, 28, 38, 9, 27, 3]\n",
      "7\n"
     ]
    }
   ],
   "source": [
    "print(my_numbers)\n",
    "print(lucky_numbers)\n",
    "print(bonus_number)"
   ]
  },
  {
   "cell_type": "code",
   "execution_count": 16,
   "id": "faca8513-a123-426d-9e17-ab9eba3519fd",
   "metadata": {
    "collapsed": true,
    "jupyter": {
     "outputs_hidden": true
    }
   },
   "outputs": [
    {
     "name": "stdout",
     "output_type": "stream",
     "text": [
      "0\n",
      "1\n",
      "2\n",
      "3\n",
      "4\n",
      "5\n",
      "0\n",
      "1\n",
      "2\n",
      "3\n",
      "4\n",
      "5\n",
      "0\n",
      "1\n",
      "2\n",
      "3\n",
      "4\n",
      "5\n",
      "0\n",
      "1\n",
      "2\n",
      "3\n",
      "4\n",
      "5\n",
      "0\n",
      "1\n",
      "2\n",
      "3\n",
      "4\n",
      "5\n",
      "0\n",
      "1\n",
      "2\n",
      "3\n",
      "4\n",
      "5\n",
      "0\n",
      "1\n",
      "2\n",
      "3\n",
      "4\n",
      "5\n",
      "0\n",
      "1\n",
      "2\n",
      "3\n",
      "4\n",
      "5\n",
      "0\n",
      "1\n",
      "2\n",
      "3\n",
      "4\n",
      "5\n",
      "0\n",
      "1\n",
      "2\n",
      "3\n",
      "4\n",
      "5\n",
      "0\n",
      "1\n",
      "2\n",
      "3\n",
      "4\n",
      "5\n",
      "0\n",
      "1\n",
      "2\n",
      "3\n",
      "4\n",
      "5\n",
      "0\n",
      "1\n",
      "2\n",
      "3\n",
      "4\n",
      "5\n",
      "0\n",
      "1\n",
      "2\n",
      "3\n",
      "4\n",
      "5\n",
      "0\n",
      "1\n",
      "2\n",
      "3\n",
      "4\n",
      "5\n",
      "0\n",
      "1\n",
      "2\n",
      "3\n",
      "4\n",
      "5\n",
      "0\n",
      "1\n",
      "2\n",
      "3\n",
      "4\n",
      "5\n",
      "0\n",
      "1\n",
      "2\n",
      "3\n",
      "4\n",
      "5\n",
      "0\n",
      "1\n",
      "2\n",
      "3\n",
      "4\n",
      "5\n",
      "0\n",
      "1\n",
      "2\n",
      "3\n",
      "4\n",
      "5\n",
      "0\n",
      "1\n",
      "2\n",
      "3\n",
      "4\n",
      "5\n",
      "0\n",
      "1\n",
      "2\n",
      "3\n",
      "4\n",
      "5\n",
      "0\n",
      "1\n",
      "2\n",
      "3\n",
      "4\n",
      "5\n",
      "0\n",
      "1\n",
      "2\n",
      "3\n",
      "4\n",
      "5\n",
      "0\n",
      "1\n",
      "2\n",
      "3\n",
      "4\n",
      "5\n",
      "0\n",
      "1\n",
      "2\n",
      "3\n",
      "4\n",
      "5\n",
      "0\n",
      "1\n",
      "2\n",
      "3\n",
      "4\n",
      "5\n",
      "0\n",
      "1\n",
      "2\n",
      "3\n",
      "4\n",
      "5\n",
      "0\n",
      "1\n",
      "2\n",
      "3\n",
      "4\n",
      "5\n",
      "0\n",
      "1\n",
      "2\n",
      "3\n",
      "4\n",
      "5\n"
     ]
    }
   ],
   "source": [
    "# 강사님 - 3. 등수확인하기\n",
    "for key, value in my_numbers.items():\n",
    "    for i in value:\n",
    "        for j in range(6):\n",
    "            print(j)\n",
    "            #if i == lucky_numbers[j]:\n",
    "             #   count += 1"
   ]
  },
  {
   "cell_type": "code",
   "execution_count": 36,
   "id": "b8aa3cd2-f7a0-4ea6-8f50-1b424db95dfc",
   "metadata": {},
   "outputs": [
    {
     "name": "stdout",
     "output_type": "stream",
     "text": [
      "꽝\n",
      "꽝\n",
      "꽝\n",
      "꽝\n",
      "꽝\n"
     ]
    }
   ],
   "source": [
    "# 강사님2 - 3. 등수확인하기\n",
    " #my_numbers = {\n",
    " #   '1': [39, 28, 38, 9, 27, 7]\n",
    "#}\n",
    "\n",
    "for my_number in my_numbers.values():\n",
    "    my_number_set = set(my_number) # set로 형변환\n",
    "    lucky_numbers_set = set(lucky_numbers)\n",
    "\n",
    "    match_count = len(my_number_set & lucky_numbers_set) # 두 세트의 교집합을 출력\n",
    "\n",
    "    if match_count == 6:\n",
    "        print('1등')\n",
    "    elif match_count == 5 and bonus_number in my_number:\n",
    "        print('2등')\n",
    "    elif match_count == 5:\n",
    "        print('3등')\n",
    "    elif match_count == 4:\n",
    "        print('4등')\n",
    "    elif match_count == 3:\n",
    "        print('5등')\n",
    "    else :\n",
    "        print('꽝')"
   ]
  }
 ],
 "metadata": {
  "kernelspec": {
   "display_name": "Python 3 (ipykernel)",
   "language": "python",
   "name": "python3"
  },
  "language_info": {
   "codemirror_mode": {
    "name": "ipython",
    "version": 3
   },
   "file_extension": ".py",
   "mimetype": "text/x-python",
   "name": "python",
   "nbconvert_exporter": "python",
   "pygments_lexer": "ipython3",
   "version": "3.13.2"
  }
 },
 "nbformat": 4,
 "nbformat_minor": 5
}
