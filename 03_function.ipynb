{
 "cells": [
  {
   "cell_type": "markdown",
   "id": "dd644ed7-ede2-466b-9c8e-6260fef9f82f",
   "metadata": {},
   "source": [
    "# 함수(function)"
   ]
  },
  {
   "cell_type": "code",
   "execution_count": 2,
   "id": "0962e8d8-bbf7-4850-b39b-63ee025c7387",
   "metadata": {},
   "outputs": [
    {
     "name": "stdout",
     "output_type": "stream",
     "text": [
      "사각형의 면적은 1000이고 둘레는 140입니다.\n"
     ]
    }
   ],
   "source": [
    "# 사각형의 가로와 세로의 길이를 이용해서 면적과 둘레를 구하는 코드\n",
    "height = 50\n",
    "width = 20\n",
    "\n",
    "area = height * width\n",
    "perimeter = (height + width) * 2\n",
    "\n",
    "print(f'사각형의 면적은 {area}이고 둘레는 {perimeter}입니다.')"
   ]
  },
  {
   "cell_type": "code",
   "execution_count": null,
   "id": "7bb6f12f-e1cf-4343-8cb1-4085423bda94",
   "metadata": {},
   "outputs": [],
   "source": [
    "# 사각형의 가로와 세로의 길이를 이용해서 면적과 둘레를 구하는 코드\n",
    "height2 = 50\n",
    "width2 = 50\n",
    "\n",
    "area2 = height2 * width2\n",
    "perimeter2 = (height2 + width2) * 2\n",
    "\n",
    "print(f'사각형의 면적은 {area2}이고 둘레는 {perimeter2}입니다.')"
   ]
  },
  {
   "cell_type": "markdown",
   "id": "4d8d979a-8a9b-46fb-b442-a6aaa91b6f26",
   "metadata": {},
   "source": [
    "## 함수의 선언과 호출"
   ]
  },
  {
   "cell_type": "markdown",
   "id": "13af776b-85aa-4545-a44c-da8a56a9c1e2",
   "metadata": {},
   "source": [
    "- 선언\n",
    "``` python\n",
    "def func_name(parameter1, parameter2, ...):\n",
    "    code1\n",
    "    code2\n",
    "    ...\n",
    "    return value\n",
    "```\n",
    "- 호출\n",
    "    - `func_name(parameter1, parameter2, ...)`"
   ]
  },
  {
   "cell_type": "code",
   "execution_count": 7,
   "id": "48129b7b-597d-4a2f-823d-292a81aef3dc",
   "metadata": {},
   "outputs": [],
   "source": [
    "def rectangle(height, width):\n",
    "    area = height * width\n",
    "    perimeter = (height + width) * 2\n",
    "\n",
    "    print(f'사각형의 면적은 {area}이고 둘레는 {perimeter}입니다. ')"
   ]
  },
  {
   "cell_type": "code",
   "execution_count": 8,
   "id": "beed665f-14d2-4831-87e5-dad740592250",
   "metadata": {},
   "outputs": [
    {
     "name": "stdout",
     "output_type": "stream",
     "text": [
      "사각형의 면적은 1500이고 둘레는 160입니다. \n",
      "사각형의 면적은 2000이고 둘레는 240입니다. \n"
     ]
    }
   ],
   "source": [
    "rectangle(50, 30)\n",
    "rectangle(20, 100)"
   ]
  },
  {
   "cell_type": "code",
   "execution_count": 10,
   "id": "cda0ff97-af8d-42d7-9dc3-beb5fe7225c0",
   "metadata": {},
   "outputs": [
    {
     "data": {
      "text/plain": [
       "['ArithmeticError',\n",
       " 'AssertionError',\n",
       " 'AttributeError',\n",
       " 'BaseException',\n",
       " 'BaseExceptionGroup',\n",
       " 'BlockingIOError',\n",
       " 'BrokenPipeError',\n",
       " 'BufferError',\n",
       " 'BytesWarning',\n",
       " 'ChildProcessError',\n",
       " 'ConnectionAbortedError',\n",
       " 'ConnectionError',\n",
       " 'ConnectionRefusedError',\n",
       " 'ConnectionResetError',\n",
       " 'DeprecationWarning',\n",
       " 'EOFError',\n",
       " 'Ellipsis',\n",
       " 'EncodingWarning',\n",
       " 'EnvironmentError',\n",
       " 'Exception',\n",
       " 'ExceptionGroup',\n",
       " 'False',\n",
       " 'FileExistsError',\n",
       " 'FileNotFoundError',\n",
       " 'FloatingPointError',\n",
       " 'FutureWarning',\n",
       " 'GeneratorExit',\n",
       " 'IOError',\n",
       " 'ImportError',\n",
       " 'ImportWarning',\n",
       " 'IndentationError',\n",
       " 'IndexError',\n",
       " 'InterruptedError',\n",
       " 'IsADirectoryError',\n",
       " 'KeyError',\n",
       " 'KeyboardInterrupt',\n",
       " 'LookupError',\n",
       " 'MemoryError',\n",
       " 'ModuleNotFoundError',\n",
       " 'NameError',\n",
       " 'None',\n",
       " 'NotADirectoryError',\n",
       " 'NotImplemented',\n",
       " 'NotImplementedError',\n",
       " 'OSError',\n",
       " 'OverflowError',\n",
       " 'PendingDeprecationWarning',\n",
       " 'PermissionError',\n",
       " 'ProcessLookupError',\n",
       " 'PythonFinalizationError',\n",
       " 'RecursionError',\n",
       " 'ReferenceError',\n",
       " 'ResourceWarning',\n",
       " 'RuntimeError',\n",
       " 'RuntimeWarning',\n",
       " 'StopAsyncIteration',\n",
       " 'StopIteration',\n",
       " 'SyntaxError',\n",
       " 'SyntaxWarning',\n",
       " 'SystemError',\n",
       " 'SystemExit',\n",
       " 'TabError',\n",
       " 'TimeoutError',\n",
       " 'True',\n",
       " 'TypeError',\n",
       " 'UnboundLocalError',\n",
       " 'UnicodeDecodeError',\n",
       " 'UnicodeEncodeError',\n",
       " 'UnicodeError',\n",
       " 'UnicodeTranslateError',\n",
       " 'UnicodeWarning',\n",
       " 'UserWarning',\n",
       " 'ValueError',\n",
       " 'Warning',\n",
       " 'WindowsError',\n",
       " 'ZeroDivisionError',\n",
       " '_IncompleteInputError',\n",
       " '__IPYTHON__',\n",
       " '__build_class__',\n",
       " '__debug__',\n",
       " '__doc__',\n",
       " '__import__',\n",
       " '__loader__',\n",
       " '__name__',\n",
       " '__package__',\n",
       " '__spec__',\n",
       " 'abs',\n",
       " 'aiter',\n",
       " 'all',\n",
       " 'anext',\n",
       " 'any',\n",
       " 'ascii',\n",
       " 'bin',\n",
       " 'bool',\n",
       " 'breakpoint',\n",
       " 'bytearray',\n",
       " 'bytes',\n",
       " 'callable',\n",
       " 'chr',\n",
       " 'classmethod',\n",
       " 'compile',\n",
       " 'complex',\n",
       " 'copyright',\n",
       " 'credits',\n",
       " 'delattr',\n",
       " 'dict',\n",
       " 'dir',\n",
       " 'display',\n",
       " 'divmod',\n",
       " 'enumerate',\n",
       " 'eval',\n",
       " 'exec',\n",
       " 'execfile',\n",
       " 'filter',\n",
       " 'float',\n",
       " 'format',\n",
       " 'frozenset',\n",
       " 'get_ipython',\n",
       " 'getattr',\n",
       " 'globals',\n",
       " 'hasattr',\n",
       " 'hash',\n",
       " 'help',\n",
       " 'hex',\n",
       " 'id',\n",
       " 'input',\n",
       " 'int',\n",
       " 'isinstance',\n",
       " 'issubclass',\n",
       " 'iter',\n",
       " 'len',\n",
       " 'license',\n",
       " 'list',\n",
       " 'locals',\n",
       " 'map',\n",
       " 'max',\n",
       " 'memoryview',\n",
       " 'min',\n",
       " 'next',\n",
       " 'object',\n",
       " 'oct',\n",
       " 'open',\n",
       " 'ord',\n",
       " 'pow',\n",
       " 'print',\n",
       " 'property',\n",
       " 'range',\n",
       " 'repr',\n",
       " 'reversed',\n",
       " 'round',\n",
       " 'runfile',\n",
       " 'set',\n",
       " 'setattr',\n",
       " 'slice',\n",
       " 'sorted',\n",
       " 'staticmethod',\n",
       " 'str',\n",
       " 'sum',\n",
       " 'super',\n",
       " 'tuple',\n",
       " 'type',\n",
       " 'vars',\n",
       " 'zip']"
      ]
     },
     "execution_count": 10,
     "metadata": {},
     "output_type": "execute_result"
    }
   ],
   "source": [
    "dir(__builtins__)\n",
    "# 새 함수명은 아래와 중복 불가능\n",
    "# 중복될 경우 기존 값에 덮어쓰기되고 그러면 커널을 재실행 해야함"
   ]
  },
  {
   "cell_type": "code",
   "execution_count": 11,
   "id": "854c00ae-246f-497d-97d1-54fb327ea7b7",
   "metadata": {},
   "outputs": [
    {
     "data": {
      "text/plain": [
       "2"
      ]
     },
     "execution_count": 11,
     "metadata": {},
     "output_type": "execute_result"
    }
   ],
   "source": [
    "# 최댓값\n",
    "max(2, 2)"
   ]
  },
  {
   "cell_type": "code",
   "execution_count": 13,
   "id": "287ad093-5679-43b2-b1ff-023c7c6749c2",
   "metadata": {},
   "outputs": [],
   "source": [
    "def my_max(num1, num2):\n",
    "    if num1 > num2:\n",
    "        print(num1)\n",
    "    elif num1 < num2:\n",
    "        print(num2)\n",
    "    else:\n",
    "        print('같습니다.')"
   ]
  },
  {
   "cell_type": "code",
   "execution_count": 14,
   "id": "1d957bd8-87b5-4634-974f-dcc8166336ee",
   "metadata": {},
   "outputs": [
    {
     "name": "stdout",
     "output_type": "stream",
     "text": [
      "같습니다.\n",
      "5\n",
      "5\n"
     ]
    }
   ],
   "source": [
    "my_max(2, 2)\n",
    "my_max(2, 5)\n",
    "my_max(5, 2)"
   ]
  },
  {
   "cell_type": "markdown",
   "id": "93d0d455-61ef-4e18-ba39-d42191f32cc9",
   "metadata": {},
   "source": [
    "## 함수의 return\n",
    "- 함수가 return을 만나면 해당값을 반환하고 함수를 종료\n",
    "- 만약 return이 없는 경우 None을 자동으로 반환\n",
    "- return은 오직 하나의 객체만 변환한다."
   ]
  },
  {
   "cell_type": "code",
   "execution_count": 25,
   "id": "dbd2f432-82ee-4cac-b9b2-f4713544258f",
   "metadata": {},
   "outputs": [
    {
     "name": "stdout",
     "output_type": "stream",
     "text": [
      "2\n",
      "None\n"
     ]
    },
    {
     "ename": "TypeError",
     "evalue": "unsupported operand type(s) for *: 'NoneType' and 'int'",
     "output_type": "error",
     "traceback": [
      "\u001b[1;31m---------------------------------------------------------------------------\u001b[0m",
      "\u001b[1;31mTypeError\u001b[0m                                 Traceback (most recent call last)",
      "Cell \u001b[1;32mIn[25], line 3\u001b[0m\n\u001b[0;32m      1\u001b[0m result \u001b[38;5;241m=\u001b[39m my_max(\u001b[38;5;241m1\u001b[39m, \u001b[38;5;241m2\u001b[39m)\n\u001b[0;32m      2\u001b[0m \u001b[38;5;28mprint\u001b[39m(result)\n\u001b[1;32m----> 3\u001b[0m \u001b[43mresult\u001b[49m\u001b[43m \u001b[49m\u001b[38;5;241;43m*\u001b[39;49m\u001b[43m \u001b[49m\u001b[38;5;241;43m2\u001b[39;49m\n",
      "\u001b[1;31mTypeError\u001b[0m: unsupported operand type(s) for *: 'NoneType' and 'int'"
     ]
    }
   ],
   "source": [
    "result = my_max(1, 2)\n",
    "print(result)\n",
    "#return을 사용하지 않으면 재사용 불가능\n",
    "result * 2"
   ]
  },
  {
   "cell_type": "code",
   "execution_count": 16,
   "id": "bb8cdf58-da2e-48ee-b8a5-bad955455bc2",
   "metadata": {},
   "outputs": [],
   "source": [
    "def my_max2(num1, num2):\n",
    "    if num1 > num2:\n",
    "        return num1\n",
    "    else:\n",
    "        return num2"
   ]
  },
  {
   "cell_type": "code",
   "execution_count": 26,
   "id": "d922a345-9168-48a9-ad96-416ce6f8fc1d",
   "metadata": {},
   "outputs": [
    {
     "name": "stdout",
     "output_type": "stream",
     "text": [
      "2\n"
     ]
    },
    {
     "data": {
      "text/plain": [
       "4"
      ]
     },
     "execution_count": 26,
     "metadata": {},
     "output_type": "execute_result"
    }
   ],
   "source": [
    "result = my_max2(1, 2)\n",
    "print(result)\n",
    "result * 2"
   ]
  },
  {
   "cell_type": "code",
   "execution_count": 27,
   "id": "23c07461-4bfc-4006-a075-c30c3938d957",
   "metadata": {},
   "outputs": [
    {
     "name": "stdout",
     "output_type": "stream",
     "text": [
      "0\n",
      "1\n",
      "2\n",
      "3\n"
     ]
    },
    {
     "data": {
      "text/plain": [
       "3"
      ]
     },
     "execution_count": 27,
     "metadata": {},
     "output_type": "execute_result"
    }
   ],
   "source": [
    "def my_for(x):\n",
    "    for i in range(x):\n",
    "        print(i)\n",
    "        if i == 3:\n",
    "            return i\n",
    "\n",
    "my_for(5)"
   ]
  },
  {
   "cell_type": "code",
   "execution_count": 28,
   "id": "0085285e-2eeb-46e2-ab7c-67ede475cd2e",
   "metadata": {},
   "outputs": [
    {
     "data": {
      "text/plain": [
       "(20, 10)"
      ]
     },
     "execution_count": 28,
     "metadata": {},
     "output_type": "execute_result"
    }
   ],
   "source": [
    "def my_def(x):\n",
    "    return(x * 2, x)\n",
    "\n",
    "my_def(10)\n",
    "# 하나의 데이터만 반환할 수 있기 때문에 결과에 tuple 출력"
   ]
  },
  {
   "cell_type": "code",
   "execution_count": 34,
   "id": "4af4129e-b460-4c04-b312-9399cda9952d",
   "metadata": {},
   "outputs": [],
   "source": [
    "# 각 리스트의 합 구한 후 비교하기\n",
    "# 내 풀이\n",
    "\n",
    "def my_list_max(list1, list2):\n",
    "    list1 = [num1, num2, num3]\n",
    "    list2 = [num4, num5, num6]\n",
    "    my_list_sum1 = 0\n",
    "    my_list_sum2 = 0\n",
    "\n",
    "    for number1 in list1:\n",
    "        my_list_sum1 += number1\n",
    "        print(my_list_sum1)\n",
    "\n",
    "    for number2 in list2:\n",
    "        my_list_sum2 += number2\n",
    "        print(my_list_sum2)\n",
    "\n",
    "if my_list_sum1 > my_list_sum2:\n",
    "    print(my_list_sum1)\n",
    "else:\n",
    "    print(my_list_sum2)"
   ]
  },
  {
   "cell_type": "code",
   "execution_count": 36,
   "id": "f39675de-4ea6-4801-902d-02c16aa18ea8",
   "metadata": {},
   "outputs": [],
   "source": [
    "# 함수 작성시 값을 지정해버리면 함수를 사용할 때 지정한 값이 적용, 함수 호출시 제대로 작동 X\n",
    "# version1\n",
    "def my_list_max(list1, list2):\n",
    "    sum_of_list1 = list1[0] + list1[1] + list1[2]\n",
    "    sum_of_list2 = list2[0] + list2[1] + list2[2]\n",
    "\n",
    "    if sum_of_list1 > sum_of_list2:\n",
    "        return list1\n",
    "    else:\n",
    "        return list2"
   ]
  },
  {
   "cell_type": "code",
   "execution_count": 39,
   "id": "3642eb3c-3f64-4b26-853c-215ae81c78a1",
   "metadata": {},
   "outputs": [],
   "source": [
    "# version2\n",
    "def my_list_max(list1, list2):\n",
    "    sum_of_list1 = 0\n",
    "    sum_of_list2 = 0\n",
    "    for item in list1:\n",
    "        sum_of_list1 = sum_of_list1 + item\n",
    "\n",
    "    for item in list2:\n",
    "        sum_of_list2 += item\n",
    "\n",
    "    if sum_of_list1 > sum_of_list2:\n",
    "        return list1\n",
    "    else:\n",
    "        return list2"
   ]
  },
  {
   "cell_type": "code",
   "execution_count": 41,
   "id": "a2ca6b4d-b4cd-432b-b6a7-a70c9a9ddd7f",
   "metadata": {},
   "outputs": [],
   "source": [
    "# version3\n",
    "def my_list_max(list1, list2):\n",
    "    sum_of_list1 = sum(list1)\n",
    "    sum_of_list2 = sum(list2)\n",
    "\n",
    "    if sum_of_list1 > sum_of_list2:\n",
    "        return list1\n",
    "    else:\n",
    "        return list2"
   ]
  },
  {
   "cell_type": "code",
   "execution_count": 42,
   "id": "dfcd77cb-8c50-44e3-9c42-a4f667cf8ed1",
   "metadata": {},
   "outputs": [],
   "source": [
    "# version3-2\n",
    "def my_list_max(list1, list2):\n",
    "    if sum(list1) > sum(list2): # 할당하지 않고 극단적으로 줄이기\n",
    "        return list1\n",
    "    else:\n",
    "        return list2"
   ]
  },
  {
   "cell_type": "code",
   "execution_count": 43,
   "id": "2e3d8cc1-8cb0-4279-9d10-56173065ec32",
   "metadata": {},
   "outputs": [
    {
     "data": {
      "text/plain": [
       "[22, 6, 55]"
      ]
     },
     "execution_count": 43,
     "metadata": {},
     "output_type": "execute_result"
    }
   ],
   "source": [
    "my_list_max([22, 6, 55], [1, 2, 3])"
   ]
  },
  {
   "cell_type": "markdown",
   "id": "254d33cd-a688-40d1-b1f7-e35e689a8f0b",
   "metadata": {},
   "source": [
    "## 함수의 인수\n",
    "### 위치인수\n",
    "- 기본적으로 함수는 위치를 기준으로 인수를 판단합니다."
   ]
  },
  {
   "cell_type": "code",
   "execution_count": 4,
   "id": "20207df7-cf6c-44c1-8c44-9290d17411f5",
   "metadata": {},
   "outputs": [],
   "source": [
    "def cylinder(r, h):\n",
    "    # r = 3\n",
    "    # h = 10\n",
    "    return 3.14 * r ** 2 * h"
   ]
  },
  {
   "cell_type": "code",
   "execution_count": 2,
   "id": "5b0a7acf-5ae3-4c23-8e28-f1fcff7f2827",
   "metadata": {},
   "outputs": [
    {
     "data": {
      "text/plain": [
       "282.6"
      ]
     },
     "execution_count": 2,
     "metadata": {},
     "output_type": "execute_result"
    }
   ],
   "source": [
    "cylinder(3, 10)"
   ]
  },
  {
   "cell_type": "code",
   "execution_count": 5,
   "id": "1a4c00a2-5d5c-4a5e-ade9-65de9893aaf0",
   "metadata": {},
   "outputs": [
    {
     "data": {
      "text/plain": [
       "942.0"
      ]
     },
     "execution_count": 5,
     "metadata": {},
     "output_type": "execute_result"
    }
   ],
   "source": [
    "cylinder(10, 3)"
   ]
  },
  {
   "cell_type": "markdown",
   "id": "052190b0-c633-4127-afc9-e1d99388fc9e",
   "metadata": {},
   "source": [
    "### 기본값 인자\n",
    "```python\n",
    "def func_name(p1=va):\n",
    "    code1\n",
    "    return value\n",
    "```"
   ]
  },
  {
   "cell_type": "code",
   "execution_count": 14,
   "id": "ccfc6414-a139-45d2-9ad9-e4d082331519",
   "metadata": {},
   "outputs": [],
   "source": [
    "def greeting(name='익명'):\n",
    "    return f'{name}님 반갑습니다.'"
   ]
  },
  {
   "cell_type": "code",
   "execution_count": 15,
   "id": "adcef807-6b8d-49ab-af51-f49665d2e1e9",
   "metadata": {},
   "outputs": [
    {
     "data": {
      "text/plain": [
       "'익명님 반갑습니다.'"
      ]
     },
     "execution_count": 15,
     "metadata": {},
     "output_type": "execute_result"
    }
   ],
   "source": [
    "greeting()"
   ]
  },
  {
   "cell_type": "code",
   "execution_count": 13,
   "id": "c6dbabe2-0191-41a8-9aad-90401139b6c8",
   "metadata": {},
   "outputs": [
    {
     "data": {
      "text/plain": [
       "'양다희님 반갑습니다.'"
      ]
     },
     "execution_count": 13,
     "metadata": {},
     "output_type": "execute_result"
    }
   ],
   "source": [
    "greeting('양다희')"
   ]
  },
  {
   "cell_type": "code",
   "execution_count": 17,
   "id": "480ba50b-c6bc-4cf2-84f1-3df6de20aae2",
   "metadata": {},
   "outputs": [
    {
     "name": "stdout",
     "output_type": "stream",
     "text": [
      "안녕하세요***반갑습니다.!!!\n",
      "저는 양다희입니다.\n"
     ]
    }
   ],
   "source": [
    "print('안녕하세요', '반갑습니다.', sep='***', end='!!!\\n')\n",
    "print('저는 양다희입니다.')"
   ]
  },
  {
   "cell_type": "code",
   "execution_count": 12,
   "id": "10bd1b0b-4cf0-4931-83c7-8cb8a936d242",
   "metadata": {},
   "outputs": [
    {
     "name": "stdout",
     "output_type": "stream",
     "text": [
      "안녕하세요***반갑습니다.***처음뵙겠습니다.!!!\n",
      "저는 양다희입니다.\n"
     ]
    }
   ],
   "source": [
    "print('안녕하세요', '반갑습니다.', '처음뵙겠습니다.', sep='***', end='!!!\\n')\n",
    "print('저는 양다희입니다.')"
   ]
  },
  {
   "cell_type": "code",
   "execution_count": 26,
   "id": "df0a2f7c-eabd-4719-836b-813b55c365e1",
   "metadata": {},
   "outputs": [
    {
     "ename": "SyntaxError",
     "evalue": "parameter without a default follows parameter with a default (3738572875.py, line 1)",
     "output_type": "error",
     "traceback": [
      "\u001b[1;36m  Cell \u001b[1;32mIn[26], line 1\u001b[1;36m\u001b[0m\n\u001b[1;33m    def greeting(name='익명', age):\u001b[0m\n\u001b[1;37m                            ^\u001b[0m\n\u001b[1;31mSyntaxError\u001b[0m\u001b[1;31m:\u001b[0m parameter without a default follows parameter with a default\n"
     ]
    }
   ],
   "source": [
    "def greeting(name='익명', age):\n",
    "    return f'{name}님의 나이는 {age}살입니다.'"
   ]
  },
  {
   "cell_type": "code",
   "execution_count": 27,
   "id": "421cc72a-cc35-4319-ac11-7eb8752abe6f",
   "metadata": {},
   "outputs": [],
   "source": [
    "# 기본값인자는 위치인자보다 뒤에 나와야 한다.\n",
    "def greeting(age, name='익명'):\n",
    "    return f'{name}님의 나이는 {age}살입니다.'"
   ]
  },
  {
   "cell_type": "code",
   "execution_count": 28,
   "id": "e8a68cd9-ea2b-4c8c-8532-7c8de0e00003",
   "metadata": {},
   "outputs": [
    {
     "data": {
      "text/plain": [
       "'양다희님의 나이는 25살입니다.'"
      ]
     },
     "execution_count": 28,
     "metadata": {},
     "output_type": "execute_result"
    }
   ],
   "source": [
    "greeting(25, '양다희')\n",
    "# greeting(25)"
   ]
  },
  {
   "cell_type": "markdown",
   "id": "fe8b6c86-77c3-4622-a7d4-2ecefa628a38",
   "metadata": {},
   "source": [
    "### 키워드 인수\n",
    "- 함수를 호출(실행)할 때 내가 원하는 위치에 직접적으로 값을 전달"
   ]
  },
  {
   "cell_type": "code",
   "execution_count": 29,
   "id": "1cd684c8-198c-467d-8556-8647ce3aae26",
   "metadata": {},
   "outputs": [],
   "source": [
    "def greeting(age, name='익명'):\n",
    "    return f'{name}님의 나이는 {age}살입니다.'"
   ]
  },
  {
   "cell_type": "code",
   "execution_count": 32,
   "id": "69bf34f9-d045-47cd-a6e8-de561963fab7",
   "metadata": {},
   "outputs": [
    {
     "data": {
      "text/plain": [
       "'길동님의 나이는 10살입니다.'"
      ]
     },
     "execution_count": 32,
     "metadata": {},
     "output_type": "execute_result"
    }
   ],
   "source": [
    "greeting(10, '길동')\n",
    "greeting(10)\n",
    "greeting(name='길동', age=10)"
   ]
  },
  {
   "cell_type": "markdown",
   "id": "1029cb97-7388-4e1e-899d-99c7ea6e6055",
   "metadata": {},
   "source": [
    "### 가변이자 리스트\n",
    "- 사용자가 몇 개의 데이터를 입력할지 모르는 경우 사용\n",
    "- 각 데이터를 변수명을 계속 지정할 수 없으므로 하나의 묶음(tuple)으로 인식, 출력\n",
    "```python\n",
    "def func_name(*parms):\n",
    "    code\n",
    "    ...\n",
    "    return value\n",
    "```"
   ]
  },
  {
   "cell_type": "code",
   "execution_count": 34,
   "id": "bd97afe4-9ad9-4f00-a151-f9ce11077363",
   "metadata": {},
   "outputs": [],
   "source": [
    "# * 표시된 것이 가변인자\n",
    "def my_print(*words):\n",
    "    print(words)"
   ]
  },
  {
   "cell_type": "code",
   "execution_count": 35,
   "id": "6969f5ff-2f53-4a44-919a-32c82ccc5280",
   "metadata": {},
   "outputs": [
    {
     "name": "stdout",
     "output_type": "stream",
     "text": [
      "('my', 'name', 'is')\n"
     ]
    }
   ],
   "source": [
    "my_print('my', 'name', 'is') # tuple"
   ]
  },
  {
   "cell_type": "code",
   "execution_count": 36,
   "id": "195598f2-d60b-4432-99da-3a8bf27d4243",
   "metadata": {},
   "outputs": [
    {
     "data": {
      "text/plain": [
       "7"
      ]
     },
     "execution_count": 36,
     "metadata": {},
     "output_type": "execute_result"
    }
   ],
   "source": [
    "max(1, 2, 3, 4, 5, 6, 7)"
   ]
  },
  {
   "cell_type": "code",
   "execution_count": 3,
   "id": "1a04fd6a-9787-4bf4-a2a2-74ccbe558023",
   "metadata": {},
   "outputs": [],
   "source": [
    "def my_max(*numbers):\n",
    "    my_max_number = 0\n",
    "\n",
    "    for number in numbers:\n",
    "        if my_max_number < number:\n",
    "            my_max_number = number\n",
    "    return my_max_number"
   ]
  },
  {
   "cell_type": "code",
   "execution_count": 4,
   "id": "e32096e4-9c7c-4713-a50d-db1e27afa96f",
   "metadata": {},
   "outputs": [
    {
     "data": {
      "text/plain": [
       "5"
      ]
     },
     "execution_count": 4,
     "metadata": {},
     "output_type": "execute_result"
    }
   ],
   "source": [
    "my_max(5, 4, 3, 2)"
   ]
  },
  {
   "cell_type": "code",
   "execution_count": 58,
   "id": "ebef28e3-93e8-4ef9-9939-b7661a41cdbd",
   "metadata": {},
   "outputs": [],
   "source": [
    "def my_max(*numbers):\n",
    "    # max_num = 0\n",
    "    max_num = numbers[0]\n",
    "    \n",
    "    for number in numbers:\n",
    "        if max_num < number:\n",
    "            max_num = number\n",
    "    return max_num"
   ]
  },
  {
   "cell_type": "code",
   "execution_count": 60,
   "id": "3bcb0660-079a-4984-91a8-b220aef2705c",
   "metadata": {},
   "outputs": [
    {
     "data": {
      "text/plain": [
       "200"
      ]
     },
     "execution_count": 60,
     "metadata": {},
     "output_type": "execute_result"
    }
   ],
   "source": [
    "my_max(1, 2, 100, 200, 5, 6, 7)"
   ]
  },
  {
   "cell_type": "code",
   "execution_count": null,
   "id": "640c47d5-c598-494e-bcd7-64842eb49ac5",
   "metadata": {},
   "outputs": [],
   "source": []
  }
 ],
 "metadata": {
  "kernelspec": {
   "display_name": "Python 3 (ipykernel)",
   "language": "python",
   "name": "python3"
  },
  "language_info": {
   "codemirror_mode": {
    "name": "ipython",
    "version": 3
   },
   "file_extension": ".py",
   "mimetype": "text/x-python",
   "name": "python",
   "nbconvert_exporter": "python",
   "pygments_lexer": "ipython3",
   "version": "3.13.2"
  }
 },
 "nbformat": 4,
 "nbformat_minor": 5
}
