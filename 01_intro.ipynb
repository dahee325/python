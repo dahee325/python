{
 "cells": [
  {
   "cell_type": "markdown",
   "id": "efc58658-0cad-43fd-9d6f-591e397a2dc0",
   "metadata": {},
   "source": [
    "# 01.intro\n",
    "\n",
    "## shortcut\n",
    "\n",
    "- ctrl + enter : 현재 셀 실행\n",
    "- shitft + enter : 현재 셀 실행 & 아래로 이동\n",
    "- alt + enter : 현재 셀 실행 & 아래에 새로운 셀 추가\n",
    "- esc & m : 현재 셀을 markdown으로 바꾸기"
   ]
  },
  {
   "cell_type": "markdown",
   "id": "cbce49e9-e592-40f5-9403-00b4240906e5",
   "metadata": {},
   "source": [
    "## 주의사항\n",
    "\n",
    "1. Apple / apple : 대소문자\n",
    "2. git add. / git add . : 띄어쓰기\n",
    "3. message / massage : 오타"
   ]
  },
  {
   "cell_type": "markdown",
   "id": "fbe4df73-af34-4451-89d9-44707e2eb5f2",
   "metadata": {},
   "source": [
    "# 01.변수\n",
    "```\n",
    "var_name = value\n",
    "```\n",
    "\n",
    "- 변수이름은 어떤 이름이든 사용가능\n",
    "- 다만 영어, 숫자, _를 이용해서 변수선언\n",
    "- 키워드는 불가능"
   ]
  },
  {
   "cell_type": "code",
   "execution_count": 7,
   "id": "1ee8cda2-d5fb-4f17-bc12-e047234aee8a",
   "metadata": {},
   "outputs": [],
   "source": [
    "a = 100"
   ]
  },
  {
   "cell_type": "code",
   "execution_count": 9,
   "id": "63ce0d50-ac16-4f35-96b1-d01be45eaf58",
   "metadata": {},
   "outputs": [
    {
     "data": {
      "text/plain": [
       "100"
      ]
     },
     "execution_count": 9,
     "metadata": {},
     "output_type": "execute_result"
    }
   ],
   "source": [
    "a"
   ]
  },
  {
   "cell_type": "code",
   "execution_count": 10,
   "id": "f8766115-4b7e-4c54-a532-056eec0b46fe",
   "metadata": {},
   "outputs": [
    {
     "data": {
      "text/plain": [
       "['False',\n",
       " 'None',\n",
       " 'True',\n",
       " 'and',\n",
       " 'as',\n",
       " 'assert',\n",
       " 'async',\n",
       " 'await',\n",
       " 'break',\n",
       " 'class',\n",
       " 'continue',\n",
       " 'def',\n",
       " 'del',\n",
       " 'elif',\n",
       " 'else',\n",
       " 'except',\n",
       " 'finally',\n",
       " 'for',\n",
       " 'from',\n",
       " 'global',\n",
       " 'if',\n",
       " 'import',\n",
       " 'in',\n",
       " 'is',\n",
       " 'lambda',\n",
       " 'nonlocal',\n",
       " 'not',\n",
       " 'or',\n",
       " 'pass',\n",
       " 'raise',\n",
       " 'return',\n",
       " 'try',\n",
       " 'while',\n",
       " 'with',\n",
       " 'yield']"
      ]
     },
     "execution_count": 10,
     "metadata": {},
     "output_type": "execute_result"
    }
   ],
   "source": [
    "import keyword\n",
    "keyword.kwlist"
   ]
  },
  {
   "cell_type": "markdown",
   "id": "fb9cdde6-7ca2-4ceb-bffa-ad5916dc89c0",
   "metadata": {},
   "source": [
    "# 1.1 number"
   ]
  },
  {
   "cell_type": "code",
   "execution_count": 11,
   "id": "f2b0c50f-1a35-4c27-8106-8720e9ce06d0",
   "metadata": {},
   "outputs": [],
   "source": [
    "a = 10000"
   ]
  },
  {
   "cell_type": "code",
   "execution_count": 13,
   "id": "ef94d69a-dbf0-476f-a9f2-5715120a4697",
   "metadata": {},
   "outputs": [
    {
     "data": {
      "text/plain": [
       "10000"
      ]
     },
     "execution_count": 13,
     "metadata": {},
     "output_type": "execute_result"
    }
   ],
   "source": [
    "a"
   ]
  },
  {
   "cell_type": "code",
   "execution_count": 14,
   "id": "3ca78f01-40a4-48cb-8009-3aca6455317a",
   "metadata": {},
   "outputs": [
    {
     "data": {
      "text/plain": [
       "int"
      ]
     },
     "execution_count": 14,
     "metadata": {},
     "output_type": "execute_result"
    }
   ],
   "source": [
    "type(a) # 유형확인\n",
    "#int : 정수"
   ]
  },
  {
   "cell_type": "code",
   "execution_count": 15,
   "id": "3d3f8ad8-d75a-419b-9eee-c1fb85e02e28",
   "metadata": {},
   "outputs": [],
   "source": [
    "b = 1.1"
   ]
  },
  {
   "cell_type": "code",
   "execution_count": 16,
   "id": "641f989d-0972-46a8-be50-3853da085f8d",
   "metadata": {},
   "outputs": [
    {
     "data": {
      "text/plain": [
       "1.1"
      ]
     },
     "execution_count": 16,
     "metadata": {},
     "output_type": "execute_result"
    }
   ],
   "source": [
    "b"
   ]
  },
  {
   "cell_type": "code",
   "execution_count": 17,
   "id": "95671dd6-83d0-4a2f-9e2a-8c7620a17df3",
   "metadata": {},
   "outputs": [
    {
     "data": {
      "text/plain": [
       "float"
      ]
     },
     "execution_count": 17,
     "metadata": {},
     "output_type": "execute_result"
    }
   ],
   "source": [
    "type(b) \n",
    "# float : 소수"
   ]
  },
  {
   "cell_type": "code",
   "execution_count": 18,
   "id": "6370ead6-0480-4878-8a4d-45df9843df6c",
   "metadata": {},
   "outputs": [],
   "source": [
    "c = 1 + 1j"
   ]
  },
  {
   "cell_type": "code",
   "execution_count": 19,
   "id": "91c3bc06-9772-4edd-b4b6-e3bd9aaff49e",
   "metadata": {},
   "outputs": [
    {
     "data": {
      "text/plain": [
       "(1+1j)"
      ]
     },
     "execution_count": 19,
     "metadata": {},
     "output_type": "execute_result"
    }
   ],
   "source": [
    "c"
   ]
  },
  {
   "cell_type": "code",
   "execution_count": 20,
   "id": "bd68588d-fffc-4585-8db3-10e276082032",
   "metadata": {},
   "outputs": [
    {
     "data": {
      "text/plain": [
       "complex"
      ]
     },
     "execution_count": 20,
     "metadata": {},
     "output_type": "execute_result"
    }
   ],
   "source": [
    "type(c)\n",
    "#complex : 복합"
   ]
  },
  {
   "cell_type": "markdown",
   "id": "8e4d1dd4-2474-40f3-953c-7d4f64f71250",
   "metadata": {},
   "source": [
    "## 1.2 boolean"
   ]
  },
  {
   "cell_type": "code",
   "execution_count": 23,
   "id": "67175b8c-1625-4797-ab83-d690f9789311",
   "metadata": {},
   "outputs": [],
   "source": [
    "a = True"
   ]
  },
  {
   "cell_type": "code",
   "execution_count": 24,
   "id": "cdbef904-e190-4902-88fa-ea62a53471ee",
   "metadata": {},
   "outputs": [
    {
     "data": {
      "text/plain": [
       "True"
      ]
     },
     "execution_count": 24,
     "metadata": {},
     "output_type": "execute_result"
    }
   ],
   "source": [
    "a"
   ]
  },
  {
   "cell_type": "code",
   "execution_count": 25,
   "id": "e408e7de-0e63-4f82-83fd-87f4d7a2f941",
   "metadata": {},
   "outputs": [
    {
     "data": {
      "text/plain": [
       "bool"
      ]
     },
     "execution_count": 25,
     "metadata": {},
     "output_type": "execute_result"
    }
   ],
   "source": [
    "type(a)\n",
    "#bool : 참, 거짓"
   ]
  },
  {
   "cell_type": "code",
   "execution_count": 26,
   "id": "c2d2671f-d8c9-4124-aea7-54d555f7051c",
   "metadata": {},
   "outputs": [],
   "source": [
    "b = False"
   ]
  },
  {
   "cell_type": "code",
   "execution_count": 27,
   "id": "57d5c88f-0e1d-4dff-a4d6-6e6c42e18f4c",
   "metadata": {},
   "outputs": [
    {
     "data": {
      "text/plain": [
       "False"
      ]
     },
     "execution_count": 27,
     "metadata": {},
     "output_type": "execute_result"
    }
   ],
   "source": [
    "b"
   ]
  },
  {
   "cell_type": "markdown",
   "id": "3e2eb722-8b60-4fa8-a432-8db931217ab8",
   "metadata": {},
   "source": [
    "## 1.3 string\n",
    "- `'`, `\"`를 이용하여 표현"
   ]
  },
  {
   "cell_type": "code",
   "execution_count": 28,
   "id": "dd6c171d-023e-445d-8d53-b2f0d8502e7d",
   "metadata": {},
   "outputs": [],
   "source": [
    "a = 'hello'"
   ]
  },
  {
   "cell_type": "code",
   "execution_count": 29,
   "id": "739f4fe5-8026-41af-973e-9293b9822bfb",
   "metadata": {},
   "outputs": [],
   "source": [
    "b = \"hi\""
   ]
  },
  {
   "cell_type": "code",
   "execution_count": 30,
   "id": "17a62bff-232e-4c70-bd8a-bdd70c0c0d99",
   "metadata": {},
   "outputs": [
    {
     "data": {
      "text/plain": [
       "'hello'"
      ]
     },
     "execution_count": 30,
     "metadata": {},
     "output_type": "execute_result"
    }
   ],
   "source": [
    "a"
   ]
  },
  {
   "cell_type": "code",
   "execution_count": 31,
   "id": "5a772312-725d-4385-812e-2c216e9faa18",
   "metadata": {},
   "outputs": [
    {
     "data": {
      "text/plain": [
       "'hi'"
      ]
     },
     "execution_count": 31,
     "metadata": {},
     "output_type": "execute_result"
    }
   ],
   "source": [
    "b"
   ]
  },
  {
   "cell_type": "code",
   "execution_count": 36,
   "id": "408f005a-2a80-49f8-a408-7abe7a3e3645",
   "metadata": {},
   "outputs": [
    {
     "name": "stdout",
     "output_type": "stream",
     "text": [
      "hello my name is 'dahee'\n"
     ]
    }
   ],
   "source": [
    "print(\"hello my name is 'dahee'\")"
   ]
  },
  {
   "cell_type": "code",
   "execution_count": 37,
   "id": "b9f26e1e-9339-4704-85e2-b202a0265f4b",
   "metadata": {},
   "outputs": [
    {
     "name": "stdout",
     "output_type": "stream",
     "text": [
      "hello my name is 'dahee'\n"
     ]
    }
   ],
   "source": [
    "print('hello my name is \\'dahee\\'')"
   ]
  },
  {
   "cell_type": "code",
   "execution_count": 38,
   "id": "2c798788-6eba-4dc3-835c-e20e1acdb414",
   "metadata": {},
   "outputs": [
    {
     "name": "stdout",
     "output_type": "stream",
     "text": [
      "hello\n",
      " my name is \"dahee\"\n"
     ]
    }
   ],
   "source": [
    "print('hello\\n my name is \"dahee\"')"
   ]
  },
  {
   "cell_type": "code",
   "execution_count": 39,
   "id": "47e44c13-be87-4ca5-aa8f-8b4f642234bf",
   "metadata": {},
   "outputs": [],
   "source": [
    "a = '''\n",
    "hello\n",
    "world\n",
    "hi\n",
    "'''"
   ]
  },
  {
   "cell_type": "code",
   "execution_count": 40,
   "id": "f58701ea-16b2-4ca8-b839-365bed323d1c",
   "metadata": {},
   "outputs": [
    {
     "data": {
      "text/plain": [
       "'\\nhello\\nworld\\nhi\\n'"
      ]
     },
     "execution_count": 40,
     "metadata": {},
     "output_type": "execute_result"
    }
   ],
   "source": [
    "a"
   ]
  },
  {
   "cell_type": "code",
   "execution_count": 42,
   "id": "f4314877-1d46-4a62-a5d8-a03f4e6704c8",
   "metadata": {},
   "outputs": [],
   "source": [
    "a = 10\n",
    "b = '홍길동은 a살입니다.'"
   ]
  },
  {
   "cell_type": "markdown",
   "id": "25f0a251-2c14-471b-a743-113e30d73811",
   "metadata": {},
   "source": [
    "### string interpolation\n",
    "\n",
    "- %-formatting\n",
    "- str.format()\n",
    "- f-string"
   ]
  },
  {
   "cell_type": "code",
   "execution_count": 43,
   "id": "a0797de2-ba71-461c-9336-b5c303ff3a20",
   "metadata": {},
   "outputs": [],
   "source": [
    "age = 10"
   ]
  },
  {
   "cell_type": "code",
   "execution_count": 45,
   "id": "fbc4cd62-35cf-49f4-afe5-c2d1f061c44b",
   "metadata": {},
   "outputs": [
    {
     "name": "stdout",
     "output_type": "stream",
     "text": [
      "홍길동은 10살입니다.\n"
     ]
    }
   ],
   "source": [
    "print('홍길동은 %s살입니다.' % age)"
   ]
  },
  {
   "cell_type": "code",
   "execution_count": 46,
   "id": "9c6c59dd-d2f7-49a6-90c5-30f03c31e563",
   "metadata": {},
   "outputs": [
    {
     "name": "stdout",
     "output_type": "stream",
     "text": [
      "홍길동은 10살입니다.\n"
     ]
    }
   ],
   "source": [
    "print('홍길동은 {}살입니다.'.format(age))"
   ]
  },
  {
   "cell_type": "code",
   "execution_count": 47,
   "id": "645085dd-7467-45fe-802e-a0d2f8d41892",
   "metadata": {},
   "outputs": [
    {
     "name": "stdout",
     "output_type": "stream",
     "text": [
      "홍길동은 10살입니다.\n"
     ]
    }
   ],
   "source": [
    "print(f'홍길동은 {age}살입니다.')"
   ]
  },
  {
   "cell_type": "markdown",
   "id": "d2c613d6-cbc4-4383-b8fe-05b1b3fbdb8f",
   "metadata": {},
   "source": [
    "# 02.연산자"
   ]
  },
  {
   "cell_type": "markdown",
   "id": "60312854-e7b1-4233-936f-1ea538c4e98f",
   "metadata": {},
   "source": [
    "## 2.1산술연산자"
   ]
  },
  {
   "cell_type": "code",
   "execution_count": 52,
   "id": "98cac23d-2c36-454c-a4a1-6f956fe46958",
   "metadata": {},
   "outputs": [],
   "source": [
    "a = 5\n",
    "b = 2"
   ]
  },
  {
   "cell_type": "code",
   "execution_count": 51,
   "id": "1207e8a8-537b-4c41-91e2-d495d20bc879",
   "metadata": {},
   "outputs": [
    {
     "name": "stdout",
     "output_type": "stream",
     "text": [
      "7\n",
      "-3\n",
      "10\n",
      "0.4\n"
     ]
    }
   ],
   "source": [
    "print(a + b)\n",
    "print(a - b)\n",
    "print(a * b)\n",
    "print(a / b)"
   ]
  },
  {
   "cell_type": "code",
   "execution_count": 54,
   "id": "8d4d6c69-49ea-4235-8ae3-18255a40710c",
   "metadata": {},
   "outputs": [
    {
     "name": "stdout",
     "output_type": "stream",
     "text": [
      "25\n",
      "2\n",
      "1\n"
     ]
    }
   ],
   "source": [
    "print(a ** b) # ** : 제곱수\n",
    "print(a // b) # // : 나눗셈을 한 후 몫 표시\n",
    "print(a % b) # % : 나눗셈을 한 후 나머지 표시"
   ]
  },
  {
   "cell_type": "code",
   "execution_count": 55,
   "id": "a8608c1a-c174-45bf-8ca5-8ed7bef0b5a9",
   "metadata": {},
   "outputs": [
    {
     "name": "stdout",
     "output_type": "stream",
     "text": [
      "(2, 1)\n"
     ]
    }
   ],
   "source": [
    "result = divmod(a, b) # divmod : a를 b로 나누는 도구로 몫, 나머지 모두 표시 / 산술연산자 아님\n",
    "print(result)"
   ]
  },
  {
   "cell_type": "markdown",
   "id": "81ae29f6-4955-4ac9-a033-f94a4b1c95f0",
   "metadata": {},
   "source": [
    "# 2.2 비교연산자"
   ]
  },
  {
   "cell_type": "code",
   "execution_count": 56,
   "id": "537f6a1f-5c30-40d3-babd-4b289dfab7fc",
   "metadata": {},
   "outputs": [],
   "source": [
    "a = 5\n",
    "b = 10"
   ]
  },
  {
   "cell_type": "code",
   "execution_count": 58,
   "id": "137cd5a0-1dca-49ab-90b0-8fcddf321db9",
   "metadata": {},
   "outputs": [
    {
     "name": "stdout",
     "output_type": "stream",
     "text": [
      "False\n",
      "True\n",
      "False\n",
      "True\n"
     ]
    }
   ],
   "source": [
    "print(a > b) # >는 물음표의 역할, a가 b보다 큰가요? 크면 True/작으면 False\n",
    "print(a < b)\n",
    "print(a >= b)\n",
    "print(a <= b)"
   ]
  },
  {
   "cell_type": "code",
   "execution_count": 60,
   "id": "1f9babe2-a02e-44a8-aec9-a6cf8190681b",
   "metadata": {},
   "outputs": [
    {
     "name": "stdout",
     "output_type": "stream",
     "text": [
      "False\n",
      "True\n"
     ]
    }
   ],
   "source": [
    "print(a == b) # == : a와 b가 같나요?\n",
    "print(a != b) # != : a와 b가 같지않나요?"
   ]
  },
  {
   "cell_type": "code",
   "execution_count": 61,
   "id": "733b7fec-b1c8-4d75-af84-2b13c544d6b0",
   "metadata": {},
   "outputs": [
    {
     "name": "stdout",
     "output_type": "stream",
     "text": [
      "True\n",
      "False\n"
     ]
    }
   ],
   "source": [
    "print('hi' == 'hi')\n",
    "print('hi' == 'Hi') #대소문자 차이"
   ]
  },
  {
   "cell_type": "markdown",
   "id": "09c4d1e9-2dc2-4334-94b7-17dabe0ab959",
   "metadata": {},
   "source": [
    "## 2.3 논리연산자\n",
    "- and : 양쪽 모두 True일 때, True 반환\n",
    "- or : 양쪽 모두 False일 때, False 반환 / 둘 중 하나라도 True면 True 반환\n",
    "- not : 현재 상태를 부정"
   ]
  },
  {
   "cell_type": "code",
   "execution_count": 65,
   "id": "5dc0e5af-0033-406b-b040-c6381b258101",
   "metadata": {},
   "outputs": [
    {
     "name": "stdout",
     "output_type": "stream",
     "text": [
      "True\n",
      "False\n",
      "False\n",
      "False\n"
     ]
    }
   ],
   "source": [
    "print(True and True)\n",
    "print(True and False)\n",
    "print(False and True)\n",
    "print(False and False)"
   ]
  },
  {
   "cell_type": "code",
   "execution_count": 66,
   "id": "eef5a881-e056-4cc5-bb01-30934f2c02ef",
   "metadata": {},
   "outputs": [
    {
     "name": "stdout",
     "output_type": "stream",
     "text": [
      "True\n",
      "True\n",
      "True\n",
      "False\n"
     ]
    }
   ],
   "source": [
    "print(True or True)\n",
    "print(True or False)\n",
    "print(False or True)\n",
    "print(False or False)"
   ]
  },
  {
   "cell_type": "code",
   "execution_count": 67,
   "id": "265c02b3-9b97-416f-9604-aec8ace37803",
   "metadata": {},
   "outputs": [
    {
     "name": "stdout",
     "output_type": "stream",
     "text": [
      "False\n"
     ]
    }
   ],
   "source": [
    "a = True\n",
    "print(not a)"
   ]
  },
  {
   "cell_type": "code",
   "execution_count": 70,
   "id": "fccc71f6-28cd-4e1c-98d8-1d50ce7c73cd",
   "metadata": {},
   "outputs": [
    {
     "name": "stdout",
     "output_type": "stream",
     "text": [
      "5\n",
      "0\n",
      "0\n",
      "0\n"
     ]
    }
   ],
   "source": [
    "# 단축평가\n",
    "# print(a and b) : a가 True이면 b 반환, a가 False이면 a반환\n",
    "print(3 and 5)\n",
    "print(3 and 0)\n",
    "print(0 and 5)\n",
    "print(0 and 0)"
   ]
  },
  {
   "cell_type": "code",
   "execution_count": 71,
   "id": "4139c956-e6f2-4b81-974b-63a2e68ac9d5",
   "metadata": {},
   "outputs": [
    {
     "name": "stdout",
     "output_type": "stream",
     "text": [
      "3\n",
      "3\n",
      "5\n",
      "0\n"
     ]
    }
   ],
   "source": [
    "# print(a or b) : a가 True이면 a 반환, a가 False이면 b반환\n",
    "print(3 or 5)\n",
    "print(3 or 0)\n",
    "print(0 or 5)\n",
    "print(0 or 0)"
   ]
  },
  {
   "cell_type": "markdown",
   "id": "adc6de1c-b5b3-4507-911d-3d7ace60654d",
   "metadata": {},
   "source": [
    "## 2.4 복합연산자"
   ]
  },
  {
   "cell_type": "code",
   "execution_count": 72,
   "id": "b9d2a4cc-c1b4-4882-8db8-a29405c7cff7",
   "metadata": {},
   "outputs": [],
   "source": [
    "a = 2\n",
    "b = 3"
   ]
  },
  {
   "cell_type": "code",
   "execution_count": 75,
   "id": "af472708-0722-4445-ad7e-efd4c981f9e1",
   "metadata": {},
   "outputs": [],
   "source": [
    "a = a + b\n",
    "a = a - b\n",
    "a = a * b\n",
    "a = a / b"
   ]
  },
  {
   "cell_type": "code",
   "execution_count": 76,
   "id": "a69fa416-68b3-4923-8da2-77229330717f",
   "metadata": {},
   "outputs": [],
   "source": [
    "a += b # 위의 식과 같음\n",
    "a -= b\n",
    "a *= b\n",
    "a /= b\n",
    "a //= b\n",
    "a %= b\n",
    "a **= b"
   ]
  },
  {
   "cell_type": "code",
   "execution_count": 74,
   "id": "8261450f-7366-4007-8806-ab87e39075c7",
   "metadata": {},
   "outputs": [
    {
     "data": {
      "text/plain": [
       "5"
      ]
     },
     "execution_count": 74,
     "metadata": {},
     "output_type": "execute_result"
    }
   ],
   "source": [
    "a"
   ]
  },
  {
   "cell_type": "markdown",
   "id": "035f079c-80c4-49dd-ba28-14cca04d4b80",
   "metadata": {},
   "source": [
    "## 2.5 기타연산자"
   ]
  },
  {
   "cell_type": "code",
   "execution_count": 77,
   "id": "437b06f8-863a-4095-b575-991062aa61b7",
   "metadata": {},
   "outputs": [],
   "source": [
    "a = 'hi'\n",
    "b = 'hello'"
   ]
  },
  {
   "cell_type": "code",
   "execution_count": 79,
   "id": "d0152908-188b-4bc5-94fb-9f7834da02b7",
   "metadata": {},
   "outputs": [
    {
     "name": "stdout",
     "output_type": "stream",
     "text": [
      "hihello\n"
     ]
    }
   ],
   "source": [
    "# concatenation : 연결\n",
    "# a가 글자면 +를 연결로 인식, 숫자면 +를 더하기로 인식\n",
    "# a와 b가 같은 유형이여야함\n",
    "print(a + b)"
   ]
  },
  {
   "cell_type": "code",
   "execution_count": 80,
   "id": "1d51e120-de6d-4999-89f2-74ba59fda866",
   "metadata": {},
   "outputs": [],
   "source": [
    "# [] : 리스트\n",
    "a = [1, 2, 3]\n",
    "b = [2, 3, 4]"
   ]
  },
  {
   "cell_type": "code",
   "execution_count": 81,
   "id": "6530691e-9201-49f9-9411-0520e54b4193",
   "metadata": {},
   "outputs": [
    {
     "name": "stdout",
     "output_type": "stream",
     "text": [
      "[1, 2, 3, 2, 3, 4]\n"
     ]
    }
   ],
   "source": [
    "print(a + b)"
   ]
  },
  {
   "cell_type": "code",
   "execution_count": 83,
   "id": "5eac7582-36bf-4ac5-88b3-2973e530288f",
   "metadata": {},
   "outputs": [
    {
     "name": "stdout",
     "output_type": "stream",
     "text": [
      "True\n",
      "False\n"
     ]
    }
   ],
   "source": [
    "print(1 in a) # 1이 a에 포함되어 있나요?\n",
    "print(10 in a)"
   ]
  },
  {
   "cell_type": "code",
   "execution_count": 88,
   "id": "a2ce1494-c471-4166-8465-90743b2b2be7",
   "metadata": {},
   "outputs": [],
   "source": [
    "a = 100\n",
    "b = 100"
   ]
  },
  {
   "cell_type": "code",
   "execution_count": 89,
   "id": "4f71e7d6-76b8-43b7-bcae-b4ec3df1a559",
   "metadata": {},
   "outputs": [
    {
     "name": "stdout",
     "output_type": "stream",
     "text": [
      "True\n",
      "True\n"
     ]
    }
   ],
   "source": [
    "print(a == b) \n",
    "print(a is b) # a가 b인가요?\n",
    "# == : a와 b의 값이 같은지, is : a와 b가 본질적으로 같은 객체인지\n",
    "# -5부터 256까지의 숫자는 자주 쓰는 숫자여서 같은 위치에 있으므로 True라고 나옴"
   ]
  },
  {
   "cell_type": "markdown",
   "id": "82a6d42f-d494-4551-b5d9-9d924d4db047",
   "metadata": {},
   "source": [
    "### 연산자 우선순위\n",
    " 0. ()를 통ㅇ해서 그룹\n",
    " 1. **\n",
    " 2. 산술연산자(*, /)\n",
    " 3. 산술연산자(+, -)\n",
    " 4. 비교연산자(>, <, >=, <=), in, is\n",
    " 5. not\n",
    " 6. and\n",
    " 7. or"
   ]
  },
  {
   "cell_type": "code",
   "execution_count": 90,
   "id": "094709ea-5cc0-4d8a-9f04-cf911e8f4968",
   "metadata": {},
   "outputs": [
    {
     "name": "stdout",
     "output_type": "stream",
     "text": [
      "-81\n",
      "81\n"
     ]
    }
   ],
   "source": [
    "print(-3 ** 4)\n",
    "print((-3) ** 4)"
   ]
  },
  {
   "cell_type": "markdown",
   "id": "ef77f425-29e5-4808-96b3-a3d09c849942",
   "metadata": {},
   "source": [
    "# 3. 형변환"
   ]
  },
  {
   "cell_type": "markdown",
   "id": "1dc6731a-9263-462b-9031-f4101c26d5f2",
   "metadata": {},
   "source": [
    "## 3.1 암시적 형변환"
   ]
  },
  {
   "cell_type": "code",
   "execution_count": 91,
   "id": "c21c9e43-ca2b-4ae8-9de8-c1facbc05278",
   "metadata": {},
   "outputs": [],
   "source": [
    "a = True # 1\n",
    "b = False # 0\n",
    "c = 1"
   ]
  },
  {
   "cell_type": "code",
   "execution_count": 93,
   "id": "9ca53358-ade3-479c-96c6-644f6865e1fc",
   "metadata": {},
   "outputs": [
    {
     "name": "stdout",
     "output_type": "stream",
     "text": [
      "1\n",
      "2\n"
     ]
    }
   ],
   "source": [
    "print(a + b) # 1 + 0\n",
    "print(a + c) # 1 + 1"
   ]
  },
  {
   "cell_type": "markdown",
   "id": "32f43c1d-511a-4b33-8df8-a879757a00a1",
   "metadata": {},
   "source": [
    "## 3.2 명시적 형변환\n",
    "- int() : 정수\n",
    "- float() : 소수\n",
    "- str() : 문자\n",
    "- bool() : 참, 거짓"
   ]
  },
  {
   "cell_type": "code",
   "execution_count": 101,
   "id": "5a6c3b90-52bb-4a19-b97e-75e4d43423bb",
   "metadata": {},
   "outputs": [],
   "source": [
    "a = 1\n",
    "b = '반'"
   ]
  },
  {
   "cell_type": "code",
   "execution_count": 102,
   "id": "643ec144-3c0f-4317-a3de-f4c65cd18d05",
   "metadata": {},
   "outputs": [
    {
     "ename": "TypeError",
     "evalue": "unsupported operand type(s) for +: 'int' and 'str'",
     "output_type": "error",
     "traceback": [
      "\u001b[1;31m---------------------------------------------------------------------------\u001b[0m",
      "\u001b[1;31mTypeError\u001b[0m                                 Traceback (most recent call last)",
      "Cell \u001b[1;32mIn[102], line 1\u001b[0m\n\u001b[1;32m----> 1\u001b[0m \u001b[38;5;28mprint\u001b[39m(\u001b[43ma\u001b[49m\u001b[43m \u001b[49m\u001b[38;5;241;43m+\u001b[39;49m\u001b[43m \u001b[49m\u001b[43mb\u001b[49m)\n",
      "\u001b[1;31mTypeError\u001b[0m: unsupported operand type(s) for +: 'int' and 'str'"
     ]
    }
   ],
   "source": [
    "print(a + b)"
   ]
  },
  {
   "cell_type": "code",
   "execution_count": 104,
   "id": "22d2af07-bec4-44df-9dcb-743c771c5393",
   "metadata": {},
   "outputs": [
    {
     "name": "stdout",
     "output_type": "stream",
     "text": [
      "1반\n"
     ]
    }
   ],
   "source": [
    "print(str(a) + b)"
   ]
  },
  {
   "cell_type": "code",
   "execution_count": 109,
   "id": "85aaaf24-a2c1-4036-b13a-ef45341059a1",
   "metadata": {},
   "outputs": [
    {
     "name": "stdout",
     "output_type": "stream",
     "text": [
      "3\n",
      "<class 'str'>\n",
      "3\n",
      "<class 'int'>\n"
     ]
    }
   ],
   "source": [
    "a = '3'\n",
    "print(a)\n",
    "print(type(a))\n",
    "\n",
    "b = int(a)\n",
    "print(b)\n",
    "print(type(b))"
   ]
  },
  {
   "cell_type": "code",
   "execution_count": 110,
   "id": "96a726e9-77d0-4a49-aaea-929ae5d24951",
   "metadata": {},
   "outputs": [
    {
     "ename": "ValueError",
     "evalue": "invalid literal for int() with base 10: 'apple'",
     "output_type": "error",
     "traceback": [
      "\u001b[1;31m---------------------------------------------------------------------------\u001b[0m",
      "\u001b[1;31mValueError\u001b[0m                                Traceback (most recent call last)",
      "Cell \u001b[1;32mIn[110], line 2\u001b[0m\n\u001b[0;32m      1\u001b[0m c \u001b[38;5;241m=\u001b[39m \u001b[38;5;124m'\u001b[39m\u001b[38;5;124mapple\u001b[39m\u001b[38;5;124m'\u001b[39m\n\u001b[1;32m----> 2\u001b[0m d \u001b[38;5;241m=\u001b[39m \u001b[38;5;28;43mint\u001b[39;49m\u001b[43m(\u001b[49m\u001b[43mc\u001b[49m\u001b[43m)\u001b[49m\n",
      "\u001b[1;31mValueError\u001b[0m: invalid literal for int() with base 10: 'apple'"
     ]
    }
   ],
   "source": [
    "c = 'apple'\n",
    "d = int(c) # 문자형을 숫자형으로 바꿀 수는 없음"
   ]
  },
  {
   "cell_type": "code",
   "execution_count": 116,
   "id": "7b190257-b685-4aae-a28c-63592a1caa57",
   "metadata": {},
   "outputs": [
    {
     "name": "stdout",
     "output_type": "stream",
     "text": [
      "True\n",
      "False\n",
      "True\n"
     ]
    }
   ],
   "source": [
    "a = 1\n",
    "b = 0\n",
    "c = -123\n",
    "print(bool(a))\n",
    "print(bool(b))\n",
    "print(bool(c))\n",
    "# 0만 False, 0이 아닌 나머지(음수포함)는 True"
   ]
  },
  {
   "cell_type": "code",
   "execution_count": 118,
   "id": "41c7034d-b616-4e25-9436-77968a39551e",
   "metadata": {},
   "outputs": [
    {
     "name": "stdout",
     "output_type": "stream",
     "text": [
      "False\n",
      "True\n"
     ]
    }
   ],
   "source": [
    "print(bool([])) #집합체에 데이터가 없으면 False반환\n",
    "print(bool([1, 2, 3]))"
   ]
  },
  {
   "cell_type": "code",
   "execution_count": 1,
   "id": "cb1a3eca-cbaf-4aeb-82dd-9c9f529b4596",
   "metadata": {},
   "outputs": [
    {
     "data": {
      "text/plain": [
       "False"
      ]
     },
     "execution_count": 1,
     "metadata": {},
     "output_type": "execute_result"
    }
   ],
   "source": [
    "1 < 2\n",
    "5 == 1\n",
    "1 > 2\n",
    "# 셀의 마지막 값을 자동으로 output으로 출력, 마지막 셀만 출력"
   ]
  },
  {
   "cell_type": "code",
   "execution_count": 2,
   "id": "1d42d016-14e5-424b-9e26-0e8198bb0c6a",
   "metadata": {},
   "outputs": [
    {
     "name": "stdout",
     "output_type": "stream",
     "text": [
      "False\n",
      "True\n",
      "False\n"
     ]
    }
   ],
   "source": [
    "print(1 > 2)\n",
    "print(3 < 5)\n",
    "print(1 == 3)"
   ]
  },
  {
   "cell_type": "code",
   "execution_count": null,
   "id": "1edc5d6b-07df-4fcc-9613-4aa6da32a02c",
   "metadata": {},
   "outputs": [],
   "source": []
  }
 ],
 "metadata": {
  "kernelspec": {
   "display_name": "Python 3 (ipykernel)",
   "language": "python",
   "name": "python3"
  },
  "language_info": {
   "codemirror_mode": {
    "name": "ipython",
    "version": 3
   },
   "file_extension": ".py",
   "mimetype": "text/x-python",
   "name": "python",
   "nbconvert_exporter": "python",
   "pygments_lexer": "ipython3",
   "version": "3.13.2"
  }
 },
 "nbformat": 4,
 "nbformat_minor": 5
}
