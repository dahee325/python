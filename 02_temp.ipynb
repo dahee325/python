{
 "cells": [
  {
   "cell_type": "markdown",
   "id": "31d65a72-e5b9-400d-82cd-66ef3e746439",
   "metadata": {},
   "source": [
    "# if문"
   ]
  },
  {
   "cell_type": "markdown",
   "id": "be27dd26-e3f1-4336-a119-5bc5ba9cdbe6",
   "metadata": {},
   "source": [
    "1. 사용자로부터 연도를 입력받아 해당 연도가 윤년인지 판별하는 프로그램 작성\n",
    "- 윤년의 조건\n",
    "    1. 4로 나누어 떨어지는 해는 윤년이다.\n",
    "    2. 다만, 100으로 나누어 떨어지면 윤년이 아니다.\n",
    "    3. 하지만 400으로 나누어떨어지면 다시 윤년이다."
   ]
  },
  {
   "cell_type": "code",
   "execution_count": 31,
   "id": "93036e08-ab5f-40a1-821f-c61850d37d8f",
   "metadata": {},
   "outputs": [
    {
     "name": "stdin",
     "output_type": "stream",
     "text": [
      "연도를 입력하시오. 2024\n"
     ]
    },
    {
     "name": "stdout",
     "output_type": "stream",
     "text": [
      "2024년은 윤년입니다.\n"
     ]
    }
   ],
   "source": [
    "year = int(input('연도를 입력하시오.'))\n",
    "\n",
    "if year % 4 == 0:\n",
    "    if (year % 100 == 0) and (year % 400 != 0):\n",
    "        print(f'{year}년은 평년입니다.')\n",
    "    elif year % 400 == 0:\n",
    "        print(f'{year}년은 윤년입니다.')\n",
    "    else:\n",
    "        print(f'{year}년은 윤년입니다.')\n",
    "else:\n",
    "    print(f'{year}년은 평년입니다.')"
   ]
  },
  {
   "cell_type": "code",
   "execution_count": 32,
   "id": "e3edb86a-0164-4128-a0a8-1368a6545045",
   "metadata": {},
   "outputs": [
    {
     "name": "stdin",
     "output_type": "stream",
     "text": [
      " 2024\n"
     ]
    },
    {
     "name": "stdout",
     "output_type": "stream",
     "text": [
      "2024년은 윤년입니다.\n"
     ]
    }
   ],
   "source": [
    "year = int(input())\n",
    "\n",
    "if(year % 4 == 0 and year % 100 != 0) or (year % 400 == 0):\n",
    "    print(f'{year}년은 윤년입니다.')\n",
    "else:\n",
    "    print(f'{year}년은 평년입니다.')"
   ]
  },
  {
   "cell_type": "markdown",
   "id": "2a4b972e-d0f8-45fc-993c-ea4dc21dd878",
   "metadata": {},
   "source": [
    "2. 최댓값 찾기\n",
    "- 세 개의 정수를 입력받아 가장 큰 값을 출력하는 프로그램을 작성하세요."
   ]
  },
  {
   "cell_type": "code",
   "execution_count": 40,
   "id": "c5f02b2c-b2a3-4b0d-94a7-5a71aab32a5d",
   "metadata": {},
   "outputs": [
    {
     "name": "stdin",
     "output_type": "stream",
     "text": [
      " 3\n",
      " 2\n",
      " 3\n"
     ]
    },
    {
     "name": "stdout",
     "output_type": "stream",
     "text": [
      "입력한 값 중 가장 큰 값은 3입니다.\n"
     ]
    }
   ],
   "source": [
    "a = int(input())\n",
    "b = int(input())\n",
    "c = int(input())\n",
    "\n",
    "num = max(a, b, c)\n",
    "print(f'입력한 값 중 가장 큰 값은 {num}입니다.')"
   ]
  },
  {
   "cell_type": "code",
   "execution_count": 54,
   "id": "3b706232-f99e-40f2-97e5-790be42fa097",
   "metadata": {},
   "outputs": [
    {
     "name": "stdin",
     "output_type": "stream",
     "text": [
      " 2\n",
      " 3\n",
      " 5\n"
     ]
    },
    {
     "name": "stdout",
     "output_type": "stream",
     "text": [
      "입력한 값 중 가장 큰 값은 3입니다.\n"
     ]
    }
   ],
   "source": [
    "a = int(input())\n",
    "b = int(input())\n",
    "c = int(input())\n",
    "\n",
    "max_num = a # 첫번째 숫자를 최대값으로 지정\n",
    "if b > max_num:\n",
    "    max_num = b\n",
    "if c > max_num:\n",
    "    max_num = c\n",
    "\n",
    "print(f'입력한 값 중 가장 큰 값은 {max_num}입니다.')"
   ]
  },
  {
   "cell_type": "markdown",
   "id": "e0ca73c1-6f6a-4a1a-857b-05a1c295bcf5",
   "metadata": {},
   "source": [
    "3. 놀이공원 요금 계산기\n",
    "- 사용자로부터 나이를 입력받아 놀이공원 요금을 계산하는 프로그램을 작성하세요.\n",
    "    1. 3세 이하: 무료\n",
    "    2. 4~12세: 5,000원\n",
    "    3. 13~18세: 10,000원\n",
    "    4. 19~64세: 15,000원\n",
    "    5. 65세 이상: 무료"
   ]
  },
  {
   "cell_type": "code",
   "execution_count": 39,
   "id": "fd3f67c9-67df-45b6-9125-4d225763e464",
   "metadata": {},
   "outputs": [
    {
     "name": "stdin",
     "output_type": "stream",
     "text": [
      "나이를 입력하시오 100\n"
     ]
    },
    {
     "name": "stdout",
     "output_type": "stream",
     "text": [
      "무료입니다.\n"
     ]
    }
   ],
   "source": [
    "age = int(input('나이를 입력하시오'))\n",
    "\n",
    "if (age <= 3) or (age >= 65):\n",
    "    print('무료입니다.')\n",
    "elif 4 <= age <= 12:\n",
    "    print('5,000원 입니다.')\n",
    "elif 13 <= age <= 18:\n",
    "    print('10,000원 입니다.')\n",
    "elif 19 <= age <= 64:\n",
    "    print('15,000원 입니다.')"
   ]
  },
  {
   "cell_type": "markdown",
   "id": "52d02a6e-77d1-4942-98b0-a855de70ed96",
   "metadata": {},
   "source": [
    "# for문"
   ]
  },
  {
   "cell_type": "markdown",
   "id": "9d1cdea4-3489-4b4a-acda-6a9f326a5e45",
   "metadata": {},
   "source": [
    "1. 1부터 N까지의 합 구하기\n",
    "- 사용자로부터 양의 정수 N을 입력받아, 1부터 N까지의 합을 출력하는 프로그램을 작성하세요."
   ]
  },
  {
   "cell_type": "markdown",
   "id": "038a928e-39ac-4669-a054-2cfa4cff91e1",
   "metadata": {},
   "source": [
    "2. 구구단 출력하기\n",
    "- 사용자로부터 N을 입력받아 N단을 출력하는 프로그램을 작성하세요."
   ]
  },
  {
   "cell_type": "markdown",
   "id": "f121f3ed-4a46-4301-b012-6f1fa91f84b6",
   "metadata": {},
   "source": [
    "3. 리스트 합 구하기\n",
    "- 리스트 `numbers = [3, 7, 2, 9, 4]`의 모든 원소의 합을 for문을 사용하여 구하세요"
   ]
  },
  {
   "cell_type": "markdown",
   "id": "5c099247-060f-4de7-a596-844cd2d42930",
   "metadata": {},
   "source": [
    "1. 별 찍기 - 삼각형 모양\n",
    "- 사용자로부터 N을 입력받아 다음과 같은 삼각형을 출력하세요."
   ]
  },
  {
   "cell_type": "markdown",
   "id": "63d8896c-653b-49dd-8033-6940a9751f2e",
   "metadata": {},
   "source": [
    "5. 짝수만 출력하기\n",
    "- 리스트 `numbers = [10, 21, 33, 42, 55, 60, 77, 88]`에서 짝수만 출력하는 프로그램을 작성하세요."
   ]
  },
  {
   "cell_type": "code",
   "execution_count": null,
   "id": "c8fcd033-76cb-47c2-8d58-6bb0eb4ed2ef",
   "metadata": {},
   "outputs": [],
   "source": []
  },
  {
   "cell_type": "code",
   "execution_count": null,
   "id": "e23bd9ae-558a-4fe6-90a9-7941a0433a82",
   "metadata": {},
   "outputs": [],
   "source": []
  }
 ],
 "metadata": {
  "kernelspec": {
   "display_name": "Python 3 (ipykernel)",
   "language": "python",
   "name": "python3"
  },
  "language_info": {
   "codemirror_mode": {
    "name": "ipython",
    "version": 3
   },
   "file_extension": ".py",
   "mimetype": "text/x-python",
   "name": "python",
   "nbconvert_exporter": "python",
   "pygments_lexer": "ipython3",
   "version": "3.13.2"
  }
 },
 "nbformat": 4,
 "nbformat_minor": 5
}
